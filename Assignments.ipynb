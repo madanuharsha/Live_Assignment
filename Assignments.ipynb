{
 "cells": [
  {
   "cell_type": "markdown",
   "id": "bb540cb5-2cfd-4931-a192-cf94fc1b4224",
   "metadata": {},
   "source": [
    "                                                    Assignments"
   ]
  },
  {
   "cell_type": "markdown",
   "id": "069c9e62-3c0b-4155-9629-75858977bb50",
   "metadata": {},
   "source": [
    "__Question 1.1: Write the Answer to these questions.__\n",
    "\n",
    "Note: Give at least one example for each of the questions."
   ]
  },
  {
   "cell_type": "markdown",
   "id": "840590dc-2b96-4404-bc01-9894205ef401",
   "metadata": {},
   "source": [
    "1. What is the difference between static and dynamic variables in Python?"
   ]
  },
  {
   "cell_type": "markdown",
   "id": "a83ab071-7bf6-406c-9912-67a4838da7ec",
   "metadata": {},
   "source": [
    "|Static Variables|Dynamic Variables|\n",
    "|----------------|-----------------|\n",
    "|1. Memory Allocation: Static variables are allocated memory at the start of the program|Dynamic variables are allocated memory during runtime.\n",
    "|2. Scope: Static variables have a limited scope within the block or function where they are defined|Dynamic variables can have a broader scope, depending on their accessibility modifiers.\n",
    "|3. Lifetime: Static variables exist throughout the entire program execution|Dynamic variables live as long as their containing object or block is in scope.\n",
    "|4. Initialization: Static variables are initialized once, at the beginning of the program|Dynamic variables can be initialized multiple times during runtime.\n",
    "|5. Data Sharing/Isolation: Static variables can be shared among different instances of a class or multiple function calls|Dynamic variables are typically associated with specific instances or objects."
   ]
  },
  {
   "cell_type": "code",
   "execution_count": null,
   "id": "4ada377d-76ab-4d71-805a-9ea79b1875fd",
   "metadata": {},
   "outputs": [],
   "source": []
  },
  {
   "cell_type": "markdown",
   "id": "92f84114-8568-42e3-9ab7-caf60a91e7da",
   "metadata": {},
   "source": [
    "2. Explain the purpose of \"pop\",\"popitem\",\"clear()\" in a dictionary with suitable examples?"
   ]
  },
  {
   "cell_type": "markdown",
   "id": "ec40ef66-e9e9-4213-91cf-3c08ee4f0203",
   "metadata": {},
   "source": [
    "pop(key, default=None): Removes and returns the value associated with the specified key, or the default value if the key is not in the dictionary.\n",
    "\n",
    "popitem(): Removes and returns the last inserted key-value pair from the dictionary as a tuple.\n",
    "\n",
    "clear(): Removes all key-value pairs from the dictionary."
   ]
  },
  {
   "cell_type": "code",
   "execution_count": 8,
   "id": "b498685e-4aad-4534-8bc1-5422f2524fe7",
   "metadata": {},
   "outputs": [
    {
     "name": "stdout",
     "output_type": "stream",
     "text": [
      "{'rahul': 7, 'Aditya': 1, 'Shubham': 4}\n",
      "suspended student roll no. = 7\n",
      "remaining student{'Aditya': 1, 'Shubham': 4}\n"
     ]
    }
   ],
   "source": [
    "# pop()\n",
    "\n",
    "student = {\"rahul\":7, \"Aditya\":1, \"Shubham\":4} \n",
    "\n",
    "# priting original dictionary \n",
    "print(student) \n",
    "\n",
    "# using dictionary pop \n",
    "suspended = student.pop(\"rahul\") \n",
    "\n",
    "# checking key of the element \n",
    "print(\"suspended student roll no. = \"+ str(suspended)) \n",
    "\n",
    "# printing list after performing pop() \n",
    "print(\"remaining student\" + str(student))\n"
   ]
  },
  {
   "cell_type": "code",
   "execution_count": 9,
   "id": "643b6e04-d0e8-4b7c-b1a4-71f20eaf6725",
   "metadata": {},
   "outputs": [
    {
     "name": "stdout",
     "output_type": "stream",
     "text": [
      "(3, '011')\n"
     ]
    }
   ],
   "source": [
    "# popitem()\n",
    "d = {1: '001', 2: '010', 3: '011'}\n",
    "print(d.popitem())\n"
   ]
  },
  {
   "cell_type": "code",
   "execution_count": 10,
   "id": "58b96405-0906-4b81-ac37-f6d6760455da",
   "metadata": {},
   "outputs": [
    {
     "name": "stdout",
     "output_type": "stream",
     "text": [
      "text = {}\n"
     ]
    }
   ],
   "source": [
    "# clear()\n",
    "# Python program to demonstrate working of\n",
    "# dictionary clear()\n",
    "text = {1: \"geeks\", 2: \"for\"}\n",
    "\n",
    "text.clear()\n",
    "print('text =', text)\n"
   ]
  },
  {
   "cell_type": "code",
   "execution_count": null,
   "id": "2c3de0c6-6000-4a42-92b7-478584bbc7f0",
   "metadata": {},
   "outputs": [],
   "source": []
  },
  {
   "cell_type": "markdown",
   "id": "c866efe1-276c-4b77-8ef1-66a2d759ac80",
   "metadata": {},
   "source": [
    "3. What do you mean by FrozenSet? Explain it with suitable examples?"
   ]
  },
  {
   "cell_type": "markdown",
   "id": "9196aaa6-3c07-42c6-9282-c21662e7d711",
   "metadata": {},
   "source": [
    "Python Method creates an immutable Set object from an iterable. It is a built-in Python function. As it is a set object, therefore, we cannot have duplicate values in the frozenset."
   ]
  },
  {
   "cell_type": "code",
   "execution_count": 11,
   "id": "b95e20c6-ee15-4c68-a09e-becbfe0baae9",
   "metadata": {},
   "outputs": [
    {
     "name": "stdout",
     "output_type": "stream",
     "text": [
      "True\n",
      "False\n"
     ]
    }
   ],
   "source": [
    "# Example\n",
    "\n",
    "animals = frozenset([\"cat\", \"dog\", \"lion\"])\n",
    "print(\"cat\" in animals) \n",
    "print(\"elephant\" in animals)  \n"
   ]
  },
  {
   "cell_type": "code",
   "execution_count": null,
   "id": "4b5d2969-87f9-4e77-b91b-b58f8bb07291",
   "metadata": {},
   "outputs": [],
   "source": []
  },
  {
   "cell_type": "markdown",
   "id": "986f3989-1d11-4b5a-8bef-8560a90f9c29",
   "metadata": {},
   "source": [
    "4. Differentiate between mutable and immutable data types in Python and give examples of mutable and immutable data types?"
   ]
  },
  {
   "cell_type": "markdown",
   "id": "9e85e942-d456-47e8-8e6a-808af0009bf5",
   "metadata": {},
   "source": [
    "|Mutable|Immutable|\n",
    "|-------|---------|\n",
    "|1. Objects can be changed after creation.| Objects can't be changed after creation.|\n",
    "|2. Generally provides a method to add or remove elements.| It doesnot provides any method to add or remove elements.|\n",
    "|3. Slower to accesss compared to immutable objects.| Quicker to access compared to mutable objects.|\n",
    "|4. Changing mutable to objects is easy and effcient.| Expensive or can't be changed.|\n",
    "|5. Example: Dictonary, Sets, Lits, etc.| Example: Strings, Bytes, Frozen sets, Tuples, etc.|"
   ]
  },
  {
   "cell_type": "code",
   "execution_count": 3,
   "id": "cc5ec90b-7b4e-43a8-aa0e-4fc711b1d112",
   "metadata": {},
   "outputs": [
    {
     "name": "stdout",
     "output_type": "stream",
     "text": [
      "['One', 1, False]\n",
      "['One', 1, False, True]\n",
      "[2, 1, False, True]\n"
     ]
    }
   ],
   "source": [
    "# example for mutable\n",
    "\n",
    "# List\n",
    "myList = [\"One\", 1, False, 'c']\n",
    "myList.pop()\n",
    "print(myList)\n",
    "myList.append(True)\n",
    "print(myList)\n",
    "myList[0] = 2\n",
    "print(myList)"
   ]
  },
  {
   "cell_type": "code",
   "execution_count": 4,
   "id": "4d050a8f-1dde-46a6-a2ed-06def5c3772e",
   "metadata": {},
   "outputs": [
    {
     "name": "stdout",
     "output_type": "stream",
     "text": [
      "a\n"
     ]
    },
    {
     "ename": "TypeError",
     "evalue": "'tuple' object does not support item assignment",
     "output_type": "error",
     "traceback": [
      "\u001b[1;31m---------------------------------------------------------------------------\u001b[0m",
      "\u001b[1;31mTypeError\u001b[0m                                 Traceback (most recent call last)",
      "Cell \u001b[1;32mIn[4], line 6\u001b[0m\n\u001b[0;32m      4\u001b[0m mytuple \u001b[38;5;241m=\u001b[39m (\u001b[38;5;124m'\u001b[39m\u001b[38;5;124ma\u001b[39m\u001b[38;5;124m'\u001b[39m, \u001b[38;5;241m1\u001b[39m, \u001b[38;5;241m2\u001b[39m, \u001b[38;5;124m'\u001b[39m\u001b[38;5;124mb\u001b[39m\u001b[38;5;124m'\u001b[39m)\n\u001b[0;32m      5\u001b[0m \u001b[38;5;28mprint\u001b[39m(mytuple[\u001b[38;5;241m0\u001b[39m])\n\u001b[1;32m----> 6\u001b[0m \u001b[43mmytuple\u001b[49m\u001b[43m[\u001b[49m\u001b[38;5;241;43m0\u001b[39;49m\u001b[43m]\u001b[49m \u001b[38;5;241m=\u001b[39m \u001b[38;5;124m'\u001b[39m\u001b[38;5;124mb\u001b[39m\u001b[38;5;124m'\u001b[39m\n",
      "\u001b[1;31mTypeError\u001b[0m: 'tuple' object does not support item assignment"
     ]
    }
   ],
   "source": [
    "# example for immutable\n",
    "\n",
    "#Tuples\n",
    "mytuple = ('a', 1, 2, 'b')\n",
    "print(mytuple[0])\n",
    "mytuple[0] = 'b'"
   ]
  },
  {
   "cell_type": "code",
   "execution_count": null,
   "id": "6afc1867-5256-41d1-878b-b4cc6ff7b2b2",
   "metadata": {},
   "outputs": [],
   "source": []
  },
  {
   "cell_type": "markdown",
   "id": "6efa8e86-080b-4b34-9a2a-c8cf739c0385",
   "metadata": {},
   "source": [
    "5. What is __init__?Explain with an example?"
   ]
  },
  {
   "cell_type": "markdown",
   "id": "0539063c-3c41-4dea-a0be-e99a20cfdc76",
   "metadata": {},
   "source": [
    "When you define an __init__ method within a class, you're telling Python to initialize objects from that class in a specific way. The parameters passed to __init__ allow you to specify initial values for your object's properties. "
   ]
  },
  {
   "cell_type": "code",
   "execution_count": 7,
   "id": "30b85cc6-8ff0-4697-bad1-5d8d27930852",
   "metadata": {},
   "outputs": [
    {
     "name": "stdout",
     "output_type": "stream",
     "text": [
      "Hello, my name is Nikhil\n"
     ]
    }
   ],
   "source": [
    "# Example\n",
    "\n",
    "# A Sample class with init method\n",
    "class Person:\n",
    "\n",
    "\t# init method or constructor\n",
    "\tdef __init__(self, name):\n",
    "\t\tself.name = name\n",
    "\n",
    "\t# Sample Method\n",
    "\tdef say_hi(self):\n",
    "\t\tprint('Hello, my name is', self.name)\n",
    "\n",
    "\n",
    "p = Person('Nikhil')\n",
    "p.say_hi()\n"
   ]
  },
  {
   "cell_type": "code",
   "execution_count": null,
   "id": "a4b8fd47-7840-44b8-83be-e3dd6887bc49",
   "metadata": {},
   "outputs": [],
   "source": []
  },
  {
   "cell_type": "markdown",
   "id": "9afea1ff-662f-4bc0-9d2c-4a5d6d5b5fad",
   "metadata": {},
   "source": [
    "6. What is docstring in Python?Explain with an example?"
   ]
  },
  {
   "cell_type": "markdown",
   "id": "c94b6d91-3033-4c5b-b2fc-52ba7736a95d",
   "metadata": {},
   "source": [
    "Python docstrings are the string literals that appear right after the definition of a function, method, class, or module. "
   ]
  },
  {
   "cell_type": "code",
   "execution_count": 9,
   "id": "7345be49-2017-469d-b31e-0f5cc33bd0c1",
   "metadata": {},
   "outputs": [
    {
     "name": "stdout",
     "output_type": "stream",
     "text": [
      "Using __doc__:\n",
      "Demonstrates triple double quotes\n",
      "    docstrings and does nothing really.\n",
      "Using help:\n",
      "Help on function my_function in module __main__:\n",
      "\n",
      "my_function()\n",
      "    Demonstrates triple double quotes\n",
      "    docstrings and does nothing really.\n",
      "\n"
     ]
    }
   ],
   "source": [
    "# Example:\n",
    "\n",
    "def my_function():\n",
    "    '''Demonstrates triple double quotes\n",
    "    docstrings and does nothing really.'''\n",
    "  \n",
    "    return None\n",
    " \n",
    "print(\"Using __doc__:\")\n",
    "print(my_function.__doc__)\n",
    " \n",
    "print(\"Using help:\")\n",
    "help(my_function)"
   ]
  },
  {
   "cell_type": "code",
   "execution_count": null,
   "id": "d4b91f92-24a4-4e48-8b2d-89d100890a2d",
   "metadata": {},
   "outputs": [],
   "source": []
  },
  {
   "cell_type": "markdown",
   "id": "96637376-f66c-4406-a553-7264c39e9e17",
   "metadata": {},
   "source": [
    "7. What are unit tests in Python?"
   ]
  },
  {
   "cell_type": "markdown",
   "id": "b1543de8-1c33-4042-a230-454233c82b64",
   "metadata": {},
   "source": [
    "Unit Testing is the first level of software testing where the smallest testable parts of software are tested. This is used to validate that each software unit performs as designed. The unittest test framework is Python xUnit style framework.\n",
    "\n",
    "Python Unittest is a built-in testing framework that provides a set of tools for testing our code’s functionality in a more systematic and organized manner. \n",
    "\n",
    "__Assert Methods in Python Unittest Framework__\n",
    "\n",
    "|Method|Description|\n",
    "|------|-----------|\n",
    "|.assertEqual(a, b)|Checks if a is equal to b, similar to the expression a == b.|\n",
    "|.assertTrue(x)|Asserts that the boolean value of x is True, equivalent to bool(x) is True.|\n",
    "|.assertIsInstance(a, b)|Asserts that a is an instance of class b, similar to the expression isinstance(a, b).|\n",
    "|.assertIsNone(x)|Ensures that x is None, similar to the expression x is None.|\n",
    "|.assertFalse(x)|Asserts that the boolean value of x is False, similar to bool(x) is False.|\n",
    "|.assertIs(a, b)|Verifies if a is identical to b, akin to the expression a is b.|\n",
    "|.assertIn(a, b)|Checks if a is a member of b, akin to the expression a in b.|"
   ]
  },
  {
   "cell_type": "code",
   "execution_count": null,
   "id": "adcfa442-2ebe-46e6-9609-3b34976c3741",
   "metadata": {},
   "outputs": [],
   "source": []
  },
  {
   "cell_type": "markdown",
   "id": "24e0abd2-eb71-4b34-a16f-c1ff56e61c16",
   "metadata": {},
   "source": [
    "8. What is break, continue and pass in Python ?"
   ]
  },
  {
   "cell_type": "markdown",
   "id": "d5a79ee6-5050-46c0-a817-e02f57ad039f",
   "metadata": {},
   "source": [
    "The __break__ statement in Python is used to terminate the loop or statement in which it is present. After that, the control will pass to the statements that are present after the break statement, if available."
   ]
  },
  {
   "cell_type": "code",
   "execution_count": 12,
   "id": "9ccb3642-49a6-4c0d-92bb-68d361052e42",
   "metadata": {},
   "outputs": [
    {
     "name": "stdout",
     "output_type": "stream",
     "text": [
      "g\n",
      "e\n",
      "Out of for loop\n",
      "\n",
      "g\n",
      "e\n",
      "Out of while loop\n"
     ]
    }
   ],
   "source": [
    "# Example :\n",
    "\n",
    "# break statement \n",
    "\n",
    "s = 'geeksforgeeks'\n",
    "# Using for loop \n",
    "for letter in s: \n",
    "\n",
    "\tprint(letter) \n",
    "\t# break the loop as soon it sees 'e' \n",
    "\t# or 's' \n",
    "\tif letter == 'e' or letter == 's': \n",
    "\t\tbreak\n",
    "\n",
    "print(\"Out of for loop\") \n",
    "print() \n",
    "\n",
    "i = 0\n",
    "\n",
    "# Using while loop \n",
    "while True: \n",
    "\tprint(s[i]) \n",
    "\n",
    "\t# break the loop as soon it sees 'e' \n",
    "\t# or 's' \n",
    "\tif s[i] == 'e' or s[i] == 's': \n",
    "\t\tbreak\n",
    "\ti += 1\n",
    "\n",
    "print(\"Out of while loop\")\n"
   ]
  },
  {
   "cell_type": "markdown",
   "id": "58213385-a114-4dfb-8186-2ced7ed227ed",
   "metadata": {},
   "source": [
    "Python __Continue__ statement is a loop control statement that forces to execute the next iteration of the loop while skipping the rest of the code inside the loop for the current iteration only, i.e. when the continue statement is executed in the loop, the code inside the loop following the continue statement will be skipped for the current iteration and the next iteration of the loop will begin."
   ]
  },
  {
   "cell_type": "code",
   "execution_count": 13,
   "id": "e4456203-8ef9-4cdf-b60e-ef68f4c90cd6",
   "metadata": {},
   "outputs": [
    {
     "name": "stdout",
     "output_type": "stream",
     "text": [
      "G\n",
      "k\n",
      "s\n",
      "f\n",
      "o\n",
      "r\n",
      "g\n",
      "k\n",
      "s\n"
     ]
    }
   ],
   "source": [
    "# Example :\n",
    "\n",
    "for var in \"Geeksforgeeks\":\n",
    "\tif var == \"e\":\n",
    "\t\tcontinue\n",
    "\tprint(var)\n"
   ]
  },
  {
   "cell_type": "markdown",
   "id": "980d0a7e-4e54-430a-9d04-92eedbc59cf1",
   "metadata": {},
   "source": [
    "The Python __pass__ statement is a null statement. But the difference between pass and comment is that comment is ignored by the interpreter whereas pass is not ignored. "
   ]
  },
  {
   "cell_type": "code",
   "execution_count": 3,
   "id": "21d51494-ad8c-4b7c-8c6a-460f96cd9cd1",
   "metadata": {},
   "outputs": [],
   "source": [
    "# Example :\n",
    "\n",
    "n = 26\n",
    "\n",
    "if n > 26:\n",
    "\t# write code your here\n",
    "\tprint('Geeks')\n"
   ]
  },
  {
   "cell_type": "code",
   "execution_count": null,
   "id": "457ad954-5869-4730-a638-8b66a7ce7f99",
   "metadata": {},
   "outputs": [],
   "source": []
  },
  {
   "cell_type": "markdown",
   "id": "39358348-abee-4509-b266-03d58c290fe8",
   "metadata": {},
   "source": [
    "9. What is the use of self in Python ?"
   ]
  },
  {
   "cell_type": "markdown",
   "id": "171962f1-834e-49be-a14c-71e30751be99",
   "metadata": {},
   "source": [
    "When working with classes in Python, the term “self” refers to the instance of the class that is currently being used. It is customary to use “self” as the first parameter in instance methods of a class. Whenever you call a method of an object created from a class, the object is automatically passed as the first argument using the “self” parameter. This enables you to modify the object’s properties and execute tasks unique to that particular instance."
   ]
  },
  {
   "cell_type": "code",
   "execution_count": 15,
   "id": "434cbdaa-2daf-4ffd-9812-c1e3b5226841",
   "metadata": {},
   "outputs": [
    {
     "name": "stdout",
     "output_type": "stream",
     "text": [
      "17\n"
     ]
    }
   ],
   "source": [
    "# Example :\n",
    "\n",
    "class Mynumber:\n",
    "    def __init__(self, value):\n",
    "        self.value = value\n",
    "    \n",
    "    def print_value(self):\n",
    "        print(self.value)\n",
    "\n",
    "obj1 = Mynumber(17)\n",
    "obj1.print_value()\n"
   ]
  },
  {
   "cell_type": "code",
   "execution_count": null,
   "id": "0e12ae8d-b564-4074-8c92-973732d285bc",
   "metadata": {},
   "outputs": [],
   "source": []
  },
  {
   "cell_type": "markdown",
   "id": "43384219-ae2b-4181-90f7-56a4fe660852",
   "metadata": {},
   "source": [
    "10. What are global, protected and private attributes in Python ?"
   ]
  },
  {
   "cell_type": "markdown",
   "id": "0754f17e-b03f-4d1a-a131-3707f63f7ebc",
   "metadata": {},
   "source": [
    "__Public Access Modifier :__\n",
    "The members of a class that are declared public are easily accessible from any part of the program. All data members and member functions of a class are public by default. "
   ]
  },
  {
   "cell_type": "code",
   "execution_count": 16,
   "id": "b7ba3da1-45e4-43c9-a714-b8a6bff65cb6",
   "metadata": {},
   "outputs": [
    {
     "name": "stdout",
     "output_type": "stream",
     "text": [
      "Name:  R2J\n",
      "Age:  20\n"
     ]
    }
   ],
   "source": [
    "class Geek:\n",
    "\n",
    "    # constructor\n",
    "    def __init__(self, name, age):\n",
    "\n",
    "        # public data members\n",
    "        self.geekName = name\n",
    "        self.geekAge = age\n",
    "\n",
    "    # public member function\n",
    "    def displayAge(self):\n",
    "\n",
    "        # accessing public data member\n",
    "        print(\"Age: \", self.geekAge)\n",
    "\n",
    "\n",
    "# creating object of the class\n",
    "obj = Geek(\"R2J\", 20)\n",
    "\n",
    "# accessing public data member\n",
    "print(\"Name: \", obj.geekName)\n",
    "\n",
    "# calling public member function of the class\n",
    "obj.displayAge()\n"
   ]
  },
  {
   "cell_type": "markdown",
   "id": "1691a8ac-192a-40d0-85a9-be6917ecce37",
   "metadata": {},
   "source": [
    "__Protected Access Modifier:__\n",
    "The members of a class that are declared protected are only accessible to a class derived from it. Data members of a class are declared protected by adding a single underscore ‘_’ symbol before the data member of that class. "
   ]
  },
  {
   "cell_type": "code",
   "execution_count": 17,
   "id": "7279057e-4104-4f8f-b6a7-d0ffc8b5bc2d",
   "metadata": {},
   "outputs": [
    {
     "name": "stdout",
     "output_type": "stream",
     "text": [
      "Name:  R2J\n",
      "Roll:  1706256\n",
      "Branch:  Information Technology\n"
     ]
    }
   ],
   "source": [
    "# Example :\n",
    "\n",
    "# program to illustrate protected access modifier in a class\n",
    "\n",
    "# super class\n",
    "\n",
    "\n",
    "class Student:\n",
    "\n",
    "    # protected data members\n",
    "    _name = None\n",
    "    _roll = None\n",
    "    _branch = None\n",
    "\n",
    "    # constructor\n",
    "    def __init__(self, name, roll, branch):\n",
    "        self._name = name\n",
    "        self._roll = roll\n",
    "        self._branch = branch\n",
    "\n",
    "    # protected member function\n",
    "    def _displayRollAndBranch(self):\n",
    "\n",
    "        # accessing protected data members\n",
    "        print(\"Roll: \", self._roll)\n",
    "        print(\"Branch: \", self._branch)\n",
    "\n",
    "\n",
    "# derived class\n",
    "class Geek(Student):\n",
    "\n",
    "    # constructor\n",
    "    def __init__(self, name, roll, branch):\n",
    "        Student.__init__(self, name, roll, branch)\n",
    "\n",
    "    # public member function\n",
    "    def displayDetails(self):\n",
    "\n",
    "              # accessing protected data members of super class\n",
    "        print(\"Name: \", self._name)\n",
    "\n",
    "        # accessing protected member functions of super class\n",
    "        self._displayRollAndBranch()\n",
    "\n",
    "\n",
    "# creating objects of the derived class\n",
    "obj = Geek(\"R2J\", 1706256, \"Information Technology\")\n",
    "\n",
    "# calling public member functions of the class\n",
    "obj.displayDetails()\n"
   ]
  },
  {
   "cell_type": "markdown",
   "id": "73e14c24-cefe-4a9d-ab67-0a3cc7e3c779",
   "metadata": {},
   "source": [
    "__Private Access Modifier:__\n",
    "The members of a class that are declared private are accessible within the class only, private access modifier is the most secure access modifier. Data members of a class are declared private by adding a double underscore ‘__’ symbol before the data member of that class. "
   ]
  },
  {
   "cell_type": "code",
   "execution_count": 18,
   "id": "fc392eca-7c52-44a2-80d2-26555f517b31",
   "metadata": {},
   "outputs": [
    {
     "name": "stdout",
     "output_type": "stream",
     "text": [
      "Name:  R2J\n",
      "Roll:  1706256\n",
      "Branch:  Information Technology\n"
     ]
    }
   ],
   "source": [
    "# Example :\n",
    "\n",
    "# program to illustrate private access modifier in a class\n",
    "\n",
    "\n",
    "class Geek:\n",
    "\n",
    "    # private members\n",
    "    __name = None\n",
    "    __roll = None\n",
    "    __branch = None\n",
    "\n",
    "    # constructor\n",
    "    def __init__(self, name, roll, branch):\n",
    "        self.__name = name\n",
    "        self.__roll = roll\n",
    "        self.__branch = branch\n",
    "\n",
    "    # private member function\n",
    "    def __displayDetails(self):\n",
    "\n",
    "        # accessing private data members\n",
    "        print(\"Name: \", self.__name)\n",
    "        print(\"Roll: \", self.__roll)\n",
    "        print(\"Branch: \", self.__branch)\n",
    "\n",
    "    # public member function\n",
    "    def accessPrivateFunction(self):\n",
    "\n",
    "        # accessing private member function\n",
    "        self.__displayDetails()\n",
    "\n",
    "\n",
    "# creating object\n",
    "obj = Geek(\"R2J\", 1706256, \"Information Technology\")\n",
    "\n",
    "# calling public member function of the class\n",
    "obj.accessPrivateFunction()\n"
   ]
  },
  {
   "cell_type": "code",
   "execution_count": null,
   "id": "b0afa4a6-a585-4f97-8259-a4b84cd51b6e",
   "metadata": {},
   "outputs": [],
   "source": []
  },
  {
   "cell_type": "markdown",
   "id": "a21bd680-cfe5-48a5-962e-40ce0d82fae8",
   "metadata": {},
   "source": [
    "11. What are modules and packages in Python ?"
   ]
  },
  {
   "cell_type": "markdown",
   "id": "175ccd92-9adb-4440-98ef-f8a680c11708",
   "metadata": {},
   "source": [
    "The __module__ is a simple Python file that contains collections of functions and global variables and with having a .py extension file. It is an executable file and to organize all the modules we have the concept called Package in Python. \n",
    "\n",
    "Examples of modules:\n",
    "1. Datetime\n",
    "2. Regex\n",
    "3. Random etc."
   ]
  },
  {
   "cell_type": "code",
   "execution_count": null,
   "id": "9936e55b-9101-42b7-8aa3-01a79088c483",
   "metadata": {},
   "outputs": [],
   "source": []
  },
  {
   "cell_type": "markdown",
   "id": "848804a5-fe23-4adc-9550-ec6ba51e248c",
   "metadata": {},
   "source": [
    "The __package__ is a simple directory having collections of modules. This directory contains Python modules and also having __init__.py file by which the interpreter interprets it as a Package. The package is simply a namespace. The package also contains sub-packages inside it. \n",
    "\n",
    "Examples of Packages: \n",
    "1. Numpy \n",
    "2. Pandas"
   ]
  },
  {
   "cell_type": "code",
   "execution_count": null,
   "id": "94b76912-61f4-46c3-b2db-58940fe054d2",
   "metadata": {},
   "outputs": [],
   "source": []
  },
  {
   "cell_type": "markdown",
   "id": "f6cd6737-9b2f-45e8-a410-54ff7979102c",
   "metadata": {},
   "source": [
    "12. What are lists and tuples? What is the key difference between the two ?"
   ]
  },
  {
   "cell_type": "markdown",
   "id": "380e3588-9640-4bd2-8f66-7959f2e4e6c7",
   "metadata": {},
   "source": [
    "|Sr.|No.\t|Key\t|List\t|Tuple|\n",
    "|---|-------|-------|-------|-----|\n",
    "|1\t|Type\t|List is mutable.\t|Tuple is immutable.\n",
    "|2\t|Iteration\t|List iteration is slower and is time consuming.\t|Tuple iteration is faster.\n",
    "|3\t|Appropriate for\t|List is useful for insertion and deletion operations.\t|Tuple is useful for readonly operations like accessing elements.|\n",
    "|4\t|Memory Consumption\t|List consumes more memory.\t|Tuples consumes less memory.|\n",
    "|5\t|Methods\t|List provides many in-built methods.\t|Tuples have less in-built methods.|\n",
    "|6\t|Error prone\t|List operations are more error prone.\t|Tuples operations are safe.|"
   ]
  },
  {
   "cell_type": "code",
   "execution_count": null,
   "id": "4caef39f-3abb-4844-ab7e-01ef06d288f0",
   "metadata": {},
   "outputs": [],
   "source": []
  },
  {
   "cell_type": "markdown",
   "id": "ff45a00a-24ed-4c4f-ae9d-91544e758f6d",
   "metadata": {},
   "source": [
    "13. What is an Interpreted language & dynamically typed language? Write 5 differences between them?"
   ]
  },
  {
   "cell_type": "markdown",
   "id": "b9edcdae-6398-4653-931a-ff42f9c82518",
   "metadata": {},
   "source": [
    "|Statically Typed Languages\t|Dynamically Typed Languages|\n",
    "|---------------------------|---------------------------|\n",
    "|Type checking is completed at compile time\t|Type checking is completed during runtime|\n",
    "|Explicit type declarations are usually required\t|Explicit declarations are not required|\n",
    "|Errors are detected earlier\t|Type errors are detected later during execution|\n",
    "|Variable assignments are static and cannot be changed\t|Variable assignments are dynamic and can be altered~|\n",
    "|Produces more optimized code\t|Produces less optimized code, runtime errors are possible|"
   ]
  },
  {
   "cell_type": "code",
   "execution_count": null,
   "id": "a0b180c6-bb3d-496f-8c5b-acf7a1f584ec",
   "metadata": {},
   "outputs": [],
   "source": []
  },
  {
   "cell_type": "markdown",
   "id": "ab4e8a16-6d9a-4c50-9147-bea3203fc33d",
   "metadata": {},
   "source": [
    "14. What are Dict and List comprehensions ?"
   ]
  },
  {
   "cell_type": "markdown",
   "id": "04460a53-23d1-41ea-819f-8e7407c51537",
   "metadata": {},
   "source": [
    "Python __Dictionary Comprehension__ Example :\n",
    "Here we have two lists named keys and value and we are iterating over them with the help of zip() function."
   ]
  },
  {
   "cell_type": "code",
   "execution_count": 31,
   "id": "b9ded0b0-79e4-446a-9e9c-b9382c3a9cae",
   "metadata": {},
   "outputs": [
    {
     "name": "stdout",
     "output_type": "stream",
     "text": [
      "{'a': 1, 'b': 2, 'c': 3, 'd': 4, 'e': 5}\n"
     ]
    }
   ],
   "source": [
    "# Example :\n",
    "\n",
    "# Lists to represent keys and values\n",
    "keys = ['a','b','c','d','e']\n",
    "values = [1,2,3,4,5] \n",
    "\n",
    "# but this line shows dict comprehension here \n",
    "myDict = { k:v for (k,v) in zip(keys, values)} \n",
    "\n",
    "# We can use below too\n",
    "# myDict = dict(zip(keys, values)) \n",
    "\n",
    "print (myDict)\n"
   ]
  },
  {
   "cell_type": "code",
   "execution_count": 30,
   "id": "e5f1c465-c2ae-49a3-8737-508e77926e6f",
   "metadata": {},
   "outputs": [
    {
     "name": "stdout",
     "output_type": "stream",
     "text": [
      "{1: 1, 2: 4, 3: 9, 4: 16, 5: 25}\n"
     ]
    }
   ],
   "source": [
    "#Using dictionary comprehension make dictionary \n",
    "#Example:\n",
    "\n",
    "myDict = {x: x**2 for x in [1,2,3,4,5]}\n",
    "print (myDict)\n"
   ]
  },
  {
   "cell_type": "code",
   "execution_count": 29,
   "id": "f4c1a584-5770-4da5-b913-e21e58de8e74",
   "metadata": {},
   "outputs": [
    {
     "name": "stdout",
     "output_type": "stream",
     "text": [
      "{0: 0, 2: 8, 4: 64, 6: 216, 8: 512}\n"
     ]
    }
   ],
   "source": [
    "# Using conditional statements in dictionary comprehension\n",
    "\n",
    "newdict = {x: x**3 for x in range(10) if x**3 % 4 == 0}\n",
    "print(newdict)\n"
   ]
  },
  {
   "cell_type": "code",
   "execution_count": 32,
   "id": "06c9924a-ec7c-41be-9c88-233bccfa27ed",
   "metadata": {},
   "outputs": [
    {
     "name": "stdout",
     "output_type": "stream",
     "text": [
      "{'G': {'G': 'GG', 'F': 'GF'}, 'F': {'G': 'FG', 'F': 'FF'}}\n"
     ]
    }
   ],
   "source": [
    "# Using nested dictionary comprehension\n",
    "# Here we are trying to create a nested dictionary with the help of dictionary comprehension.\n",
    "\n",
    "# given string\n",
    "l=\"GFG\"\n",
    "\n",
    "# using dictionary comprehension\n",
    "dic = {\n",
    "\tx: {y: x + y for y in l} for x in l\n",
    "}\n",
    "\n",
    "print(dic)\n"
   ]
  },
  {
   "cell_type": "code",
   "execution_count": null,
   "id": "604c2660-edbf-4484-bd32-8da84652a3b8",
   "metadata": {},
   "outputs": [],
   "source": []
  },
  {
   "cell_type": "markdown",
   "id": "26751868-3b9b-462b-8e7a-eab027e39ead",
   "metadata": {},
   "source": [
    "15. What are decorators in Python? Explain it with an example.Write down its use cases ?"
   ]
  },
  {
   "cell_type": "markdown",
   "id": "98a4f72e-6f50-47eb-abf1-80d89b03f3c9",
   "metadata": {},
   "source": [
    "__Decorators__ are a very powerful and useful tool in Python since it allows programmers to modify the behaviour of a function or class. Decorators allow us to wrap another function in order to extend the behaviour of the wrapped function, without permanently modifying it."
   ]
  },
  {
   "cell_type": "code",
   "execution_count": 33,
   "id": "a878322b-fd88-4717-b97e-dc139ac0b565",
   "metadata": {},
   "outputs": [
    {
     "name": "stdout",
     "output_type": "stream",
     "text": [
      "HELLO\n",
      "HELLO\n"
     ]
    }
   ],
   "source": [
    "# Example 1: Treating the functions as objects. \n",
    "\n",
    "def shout(text): \n",
    "    return text.upper() \n",
    "\n",
    "print(shout('Hello')) \n",
    "\n",
    "yell = shout \n",
    "\n",
    "print(yell('Hello')) "
   ]
  },
  {
   "cell_type": "code",
   "execution_count": 34,
   "id": "067c6743-81d0-45af-bd9c-878b044e2b12",
   "metadata": {},
   "outputs": [
    {
     "name": "stdout",
     "output_type": "stream",
     "text": [
      "HI, I AM CREATED BY A FUNCTION PASSED AS AN ARGUMENT.\n",
      "hi, i am created by a function passed as an argument.\n"
     ]
    }
   ],
   "source": [
    "#Example 2: Passing the function as an argument \n",
    "\n",
    "\n",
    "def shout(text): \n",
    "    return text.upper() \n",
    "\n",
    "def whisper(text): \n",
    "    return text.lower() \n",
    "\n",
    "def greet(func): \n",
    "    # storing the function in a variable \n",
    "    greeting = func(\"\"\"Hi, I am created by a function passed as an argument.\"\"\") \n",
    "    print (greeting) \n",
    "\n",
    "greet(shout) \n",
    "greet(whisper) "
   ]
  },
  {
   "cell_type": "code",
   "execution_count": 35,
   "id": "b053257c-cc32-452a-b3b4-b469a5b0086c",
   "metadata": {},
   "outputs": [
    {
     "name": "stdout",
     "output_type": "stream",
     "text": [
      "25\n"
     ]
    }
   ],
   "source": [
    "# Example 3: Returning functions from another function.\n",
    "\n",
    "\n",
    "def create_adder(x): \n",
    "    def adder(y): \n",
    "        return x+y \n",
    "\n",
    "    return adder \n",
    "\n",
    "add_15 = create_adder(15) \n",
    "\n",
    "print(add_15(10))"
   ]
  },
  {
   "cell_type": "code",
   "execution_count": null,
   "id": "2bdabf5e-9256-4414-9337-a8f4f2cd1ed6",
   "metadata": {},
   "outputs": [],
   "source": []
  },
  {
   "cell_type": "markdown",
   "id": "a5560de1-38be-448d-950b-d87c6769a26d",
   "metadata": {},
   "source": [
    "16. How is memory managed in Python ?"
   ]
  },
  {
   "cell_type": "markdown",
   "id": "00b25b46-54cd-4391-b049-625b5230acb6",
   "metadata": {},
   "source": [
    "#Memory Management in Python\n",
    "\n",
    "Understanding Memory allocation is important to any software developer as writing efficient code means writing a memory-efficient code. Memory allocation can be defined as allocating a block of space in the computer memory to a program. In Python memory allocation and deallocation method is automatic as the Python developers created a garbage collector for Python so that the user does not have to do manual garbage collection."
   ]
  },
  {
   "cell_type": "code",
   "execution_count": null,
   "id": "f51b2453-c7e1-4d77-9071-da5b6dd283bd",
   "metadata": {},
   "outputs": [],
   "source": []
  },
  {
   "cell_type": "markdown",
   "id": "1c6b7cca-2fa8-4426-94b2-e31380ac0c14",
   "metadata": {},
   "source": [
    "17. What is lambda in Python? Why is it used ?"
   ]
  },
  {
   "cell_type": "markdown",
   "id": "fd5dfc48-0780-45fa-85b9-983ecc76a1b8",
   "metadata": {},
   "source": [
    "A lambda function is a small anonymous function.\n",
    "\n",
    "A lambda function can take any number of arguments, but can only have one expression."
   ]
  },
  {
   "cell_type": "code",
   "execution_count": 37,
   "id": "d2daee20-1d6b-42c6-9295-ae96ccf66a0c",
   "metadata": {},
   "outputs": [
    {
     "name": "stdout",
     "output_type": "stream",
     "text": [
      "15\n"
     ]
    }
   ],
   "source": [
    "# Example :\n",
    "\n",
    "x = lambda a : a + 10\n",
    "print(x(5))"
   ]
  },
  {
   "cell_type": "code",
   "execution_count": null,
   "id": "91c8f506-0c05-4407-a9ac-3a0aa80cadf4",
   "metadata": {},
   "outputs": [],
   "source": []
  },
  {
   "cell_type": "markdown",
   "id": "3d59d2b2-d90a-4f4d-a29c-8bb1073f788d",
   "metadata": {},
   "source": [
    "18. Explain split() and join() functions in Python ?"
   ]
  },
  {
   "cell_type": "markdown",
   "id": "9d42f140-e7f3-448e-b5e8-0efaf12af3f0",
   "metadata": {},
   "source": [
    "__Python String split()__ method splits a string into a list of strings after breaking the given string by the specified separator."
   ]
  },
  {
   "cell_type": "code",
   "execution_count": 38,
   "id": "6dc2c384-9a51-4ad3-9413-2d6e9084d6c2",
   "metadata": {},
   "outputs": [
    {
     "name": "stdout",
     "output_type": "stream",
     "text": [
      "['one', 'two', 'three']\n"
     ]
    }
   ],
   "source": [
    "# Example :\n",
    "\n",
    "string = \"one,two,three\"\n",
    "words = string.split(',')\n",
    "print(words)\n"
   ]
  },
  {
   "cell_type": "markdown",
   "id": "785ef261-c9d1-42a5-99fb-b0c423b854ae",
   "metadata": {},
   "source": [
    "__Python join()__ is an inbuilt string function used to join elements of a sequence separated by a string separator. This function joins elements of a sequence and makes it a string."
   ]
  },
  {
   "cell_type": "code",
   "execution_count": 39,
   "id": "9332b4fd-fa42-4056-8877-643f14ece4d9",
   "metadata": {},
   "outputs": [
    {
     "name": "stdout",
     "output_type": "stream",
     "text": [
      "h-e-l-l-o\n"
     ]
    }
   ],
   "source": [
    "# Example :\n",
    "# This will join the characters of the string 'hello' with '-'\n",
    "\n",
    "str = '-'.join('hello')\n",
    "print(str)  # Output: h-e-l-l-o\n"
   ]
  },
  {
   "cell_type": "code",
   "execution_count": null,
   "id": "f142a144-f501-4378-863f-92aa5766f7fc",
   "metadata": {},
   "outputs": [],
   "source": []
  },
  {
   "cell_type": "markdown",
   "id": "2c51bc7e-6d44-4108-a0ec-56c45750ed3f",
   "metadata": {},
   "source": [
    "19. What are iterators , iterable & generators in Python ?"
   ]
  },
  {
   "cell_type": "markdown",
   "id": "a31ba1eb-9e43-4db9-8499-9f4183701af9",
   "metadata": {},
   "source": [
    "An iterator in Python is an object that is used to iterate over iterable objects like lists, tuples, dicts, and sets. The Python iterators object is initialized using the iter() method. It uses the next() method for iteration.\n",
    "\n",
    "1. __iter__(): The iter() method is called for the initialization of an iterator. This returns an iterator object\n",
    "2. __next__(): The next method returns the next value for the iterable. When we use a for loop to traverse any iterable object, internally it uses the iter() method to get an iterator object, which further uses the next() method to iterate over. This method raises a StopIteration to signal the end of the iteration."
   ]
  },
  {
   "cell_type": "code",
   "execution_count": 40,
   "id": "670d0f58-66c8-40c5-8298-45256c0924d4",
   "metadata": {},
   "outputs": [
    {
     "name": "stdout",
     "output_type": "stream",
     "text": [
      "G\n",
      "F\n",
      "G\n"
     ]
    }
   ],
   "source": [
    "# iter() example :\n",
    "\n",
    "string = \"GFG\"\n",
    "ch_iterator = iter(string)\n",
    "\n",
    "print(next(ch_iterator))\n",
    "print(next(ch_iterator))\n",
    "print(next(ch_iterator))\n"
   ]
  },
  {
   "cell_type": "code",
   "execution_count": 41,
   "id": "36c37322-6a69-4e0b-8276-cf0b99ea11a2",
   "metadata": {},
   "outputs": [
    {
     "name": "stdout",
     "output_type": "stream",
     "text": [
      "10\n",
      "11\n",
      "12\n",
      "13\n",
      "14\n",
      "15\n"
     ]
    }
   ],
   "source": [
    "# iter() and next()\n",
    "\n",
    "# A simple Python program to demonstrate\n",
    "# working of iterators using an example type\n",
    "# that iterates from 10 to given value\n",
    "\n",
    "# An iterable user defined type\n",
    "class Test:\n",
    "\n",
    "\t# Constructor\n",
    "\tdef __init__(self, limit):\n",
    "\t\tself.limit = limit\n",
    "\n",
    "\t# Creates iterator object\n",
    "\t# Called when iteration is initialized\n",
    "\tdef __iter__(self):\n",
    "\t\tself.x = 10\n",
    "\t\treturn self\n",
    "\n",
    "\t# To move to next element. In Python 3,\n",
    "\t# we should replace next with __next__\n",
    "\tdef __next__(self):\n",
    "\n",
    "\t\t# Store current value ofx\n",
    "\t\tx = self.x\n",
    "\n",
    "\t\t# Stop iteration if limit is reached\n",
    "\t\tif x > self.limit:\n",
    "\t\t\traise StopIteration\n",
    "\n",
    "\t\t# Else increment and return old value\n",
    "\t\tself.x = x + 1;\n",
    "\t\treturn x\n",
    "\n",
    "# Prints numbers from 10 to 15\n",
    "for i in Test(15):\n",
    "\tprint(i)\n",
    "\n",
    "# Prints nothing\n",
    "for i in Test(5):\n",
    "\tprint(i)\n"
   ]
  },
  {
   "cell_type": "markdown",
   "id": "10ffbfe1-b2a7-4b75-bc2c-cc3ef2d34711",
   "metadata": {},
   "source": [
    "__Python iterable__ and Python iterator are different. The main difference between them is, iterable in Python cannot save the state of the iteration, whereas in iterators the state of the current iteration gets saved."
   ]
  },
  {
   "cell_type": "code",
   "execution_count": 42,
   "id": "70de1932-c181-484e-a495-03e3a0a54b2e",
   "metadata": {},
   "outputs": [
    {
     "name": "stdout",
     "output_type": "stream",
     "text": [
      "a\n",
      "b\n",
      "c\n",
      "d\n",
      "e\n"
     ]
    }
   ],
   "source": [
    "# Example:\n",
    "\n",
    "tup = ('a', 'b', 'c', 'd', 'e')\n",
    "\n",
    "for item in tup:\n",
    "\tprint(item)\n"
   ]
  },
  {
   "cell_type": "markdown",
   "id": "203bd996-68d6-40b2-9571-822bc007a32a",
   "metadata": {},
   "source": [
    "Generators in Python\n",
    "\n",
    "A Generator in Python is a function that returns an iterator using the Yield keyword. In this article, we will discuss how the generator function works in Python.\n",
    "\n",
    "Generator Function in Python\n",
    "\n",
    "A generator function in Python is defined like a normal function, but whenever it needs to generate a value, it does so with the yield keyword rather than return. If the body of a def contains yield, the function automatically becomes a Python generator function. "
   ]
  },
  {
   "cell_type": "code",
   "execution_count": 43,
   "id": "09283f3f-e9da-4bee-9cca-ade97c3fc0f7",
   "metadata": {},
   "outputs": [
    {
     "name": "stdout",
     "output_type": "stream",
     "text": [
      "1\n",
      "2\n",
      "3\n"
     ]
    }
   ],
   "source": [
    "# Example:\n",
    "\n",
    "# A generator function that yields 1 for first time, \n",
    "# 2 second time and 3 third time \n",
    "def simpleGeneratorFun(): \n",
    "\tyield 1\t\t\t\n",
    "\tyield 2\t\t\t\n",
    "\tyield 3\t\t\t\n",
    "\n",
    "# Driver code to check above generator function \n",
    "for value in simpleGeneratorFun(): \n",
    "\tprint(value)\n"
   ]
  },
  {
   "cell_type": "code",
   "execution_count": null,
   "id": "3f1de1dd-0291-4a9b-941f-05f0454d5864",
   "metadata": {},
   "outputs": [],
   "source": []
  },
  {
   "cell_type": "markdown",
   "id": "cef7cf7d-c200-4ed2-bae1-8beb2d247b37",
   "metadata": {},
   "source": [
    "20. pillars of oops in python ?"
   ]
  },
  {
   "cell_type": "markdown",
   "id": "df0a4ee3-7c23-4ed9-9cf1-8f5a5f306ede",
   "metadata": {},
   "source": [
    "__Abstraction__, __Encapsulation__, __Inheritance__, __Polymorphism__ are the “four pillars” of Object-Oriented Programming. We will go over a brief explanation of each in Python"
   ]
  },
  {
   "cell_type": "markdown",
   "id": "4e249833-598d-46c4-8976-2f0a5c8fb216",
   "metadata": {},
   "source": [
    "__Encapsulation__\n",
    "My house has a roof to protect the inside from the rain. It has a door to prevent anyone from just wandering in. Sure, it has windows, too- but I have shutters on those and control who I want to be able to peer in. In these ways, my house is encapsulated, or protected, from the outside. When I encapsulate something in my code, I am taking caution to not let outside effects impact that code. When I adhere to this principle, it makes my code more predictable, and not as vulnerable to bugs.\n"
   ]
  },
  {
   "cell_type": "code",
   "execution_count": 45,
   "id": "a274d485-809e-4773-818b-2b59903639dd",
   "metadata": {},
   "outputs": [],
   "source": [
    "class House:  \n",
    "  \n",
    "    def set_wall_material(self, wall_material):    \n",
    "        self.wall_matrial = wall_material   \n",
    "    def get_wall_material(self):    \n",
    "        print(self.wall_material)"
   ]
  },
  {
   "cell_type": "markdown",
   "id": "bc858be0-b205-416e-ba9c-e2c69e73b7e5",
   "metadata": {},
   "source": [
    "__Inheritance__\n",
    "The house has gas, electricity, and water. All three of these things are amenities, and amenities share some things in common. For example, they can all be considered “on” or “off”, but yet they all have a different unit that they are measured in. Let us see how we can create a parent class, Amenity, and extend its functionality to three children classes, Gas, Electricity, and Water."
   ]
  },
  {
   "cell_type": "markdown",
   "id": "36d2dc9b-95b1-4724-b101-6f6807110ca0",
   "metadata": {},
   "source": [
    "# The parent class\n",
    "class Amenity:\n",
    "  def __init__(self, is_running):\n",
    "    self.is_running = is_running\n",
    "  def set_is_running(self, currently_running):\n",
    "      self.is_running = currently_running\n",
    "      print(f\"{self} is running: {self.is_running}\")\n",
    "# Children classes. We first use the __init__ method to add properties to the class, and the super().__init__ method to inherit all of the parents class functionality\n",
    "class Gas(Amenity):\n",
    "  def __init__(self, is_running, cubic_feet):\n",
    "    self.cubic_feet = cubic_feet\n",
    "    super().__init__(is_running)\n",
    "def __str__(self):\n",
    "    return f\"<{self.__class__.__name__}: {self.cubic_feet}/cuft of gas>\"\n",
    "class Electricity(Amenity):\n",
    "  def __init__(self, is_running, watts):\n",
    "    self.watts = watts\n",
    "    super().__init__(is_running)\n",
    "  \n",
    "  def __str__(self):\n",
    "    return f\"<{self.__class__.__name__}: {self.watts}/watts of electricity>\"\n",
    "class Water(Amenity):\n",
    "  def __init__(self, is_running, gallons):\n",
    "    self.gallons = gallons\n",
    "    super().__init__(is_running)\n",
    "def __str__(self):\n",
    "      return f\"<{self.__class__.__name__}: {self.gallons}/gallons of water>\"\n",
    "# Driver Code\n",
    "g = Gas(False, 236)\n",
    "e = Electricity(False, 104.2)\n",
    "w = Water(True, 16)\n",
    "g.set_is_running(True)\n",
    "g.set_is_running(False)\n",
    "e.set_is_running(True)\n",
    "e.set_is_running(False)\n",
    "w.set_is_running(True)\n",
    "w.set_is_running(False)"
   ]
  },
  {
   "cell_type": "markdown",
   "id": "e1088e37-9ced-4672-81cb-b64240756dee",
   "metadata": {},
   "source": []
  },
  {
   "cell_type": "markdown",
   "id": "eef38fda-0d8a-4604-abc2-8c8dd9141e21",
   "metadata": {},
   "source": [
    "__Abstraction__\n",
    "My beautiful blue house on a quaint pond has running water, electricity, and gas- but you do not need to know how each of these things works. Instead, you flip a light switch and the lights come on; You turn the stove on and a blue circle of flame gently rolls upward; You push the faucet handle up and a stream of clear water pours out. The house's walls and foundation abstract away the details of how these things work, and you as my guest enjoy them blissfully unaware of long lengths of wire, deeply buried pipes, and large water tanks that provide you with these amenities. Abstraction in Python is the process of hiding the real implementation of an application from the user and emphasizing only how to use the application. "
   ]
  },
  {
   "cell_type": "code",
   "execution_count": 48,
   "id": "9e33a875-ddbc-4969-8de5-accf9e0d343f",
   "metadata": {},
   "outputs": [
    {
     "name": "stdout",
     "output_type": "stream",
     "text": [
      "You flipped the light switch!\n",
      "You pressed the faucet up!\n",
      "You turned the knob on the stovefront!\n"
     ]
    }
   ],
   "source": [
    "# We import ABC and abstractmethod from the abc module\n",
    "from abc import ABC, abstractmethod\n",
    "# Amenity becomes our abstract base class (ABC)\n",
    "class Amenity(ABC):\n",
    "    def turn_on(self):\n",
    "        pass\n",
    "# We extend our ABC to three new child classes\n",
    "class Electricity(Amenity):\n",
    "    def turn_on(self):\n",
    "        print(\"You flipped the light switch!\")\n",
    "class Water(Amenity):\n",
    "    def turn_on(self):\n",
    "        print(\"You pressed the faucet up!\")\n",
    "class Gas(Amenity):\n",
    "    def turn_on(self):\n",
    "        print(\"You turned the knob on the stovefront!\")\n",
    "# Driver code\n",
    "W = Electricity()\n",
    "W.turn_on()\n",
    "E = Water()\n",
    "E.turn_on()\n",
    "G = Gas()\n",
    "G.turn_on()"
   ]
  },
  {
   "cell_type": "code",
   "execution_count": null,
   "id": "ecfee754-c574-40cf-b626-47f7767c0a2f",
   "metadata": {},
   "outputs": [],
   "source": []
  },
  {
   "cell_type": "markdown",
   "id": "a13b86c1-9878-49a6-b775-541560c17b33",
   "metadata": {},
   "source": [
    "__Polymorphism__\n",
    "The word polymorphism means having many forms. In programming, polymorphism means the same function name is used for different types. When we previously used inheritance, we explicitly linked parent classes to child classes to write reusable code. Polymorphism is achieving the same outcome of shared properties and methods but there is no link between the code; instead, we write the properties and methods to operate in similar and logical ways, allowing us to freely swap classes and methods and being able to expect a similar output."
   ]
  },
  {
   "cell_type": "code",
   "execution_count": null,
   "id": "09f75e1b-479a-4486-807b-7b2ab0dbd2bd",
   "metadata": {},
   "outputs": [],
   "source": [
    "class Gas:\n",
    "    def __init__(self, price, unit):\n",
    "        self.price = price\n",
    "        self.unit = unit\n",
    "def info(self):\n",
    "        print(f\"I am gas. My price is {self.price}, measured in {self.unit}.\")\n",
    "def make_sound(self):\n",
    "        print(\"psssssssssssssss\")\n",
    "class Water:\n",
    "      def __init__(self, price, unit):\n",
    "        self.price = price\n",
    "        self.unit = unit\n",
    "def info(self):\n",
    "        print(f\"I am water. My price is {self.price}, measured in {self.unit}.\")\n",
    "def make_sound(self):\n",
    "        print(\"whooooooosh\")\n",
    "# Driver Code\n",
    "g = Gas(0.43, 'cu/ft')\n",
    "w = Water(0.075, 'gallons')\n",
    "for amenity in (g, w):\n",
    "    amenity.make_sound()\n",
    "    amenity.info()"
   ]
  },
  {
   "cell_type": "code",
   "execution_count": null,
   "id": "7a38e376-d16d-47f6-a0e7-cb19a76e93d9",
   "metadata": {},
   "outputs": [],
   "source": []
  },
  {
   "cell_type": "markdown",
   "id": "0e9a9300-55d7-41e2-8a14-259645eeb0af",
   "metadata": {},
   "source": [
    "21. How will you check if a class is a child of another class ?"
   ]
  },
  {
   "cell_type": "markdown",
   "id": "5c03e036-b99e-4a5e-9625-db542ea1eb72",
   "metadata": {},
   "source": [
    "__issubclass() Function__ in Python\n",
    "Python issubclass() is a built-in function used to check if a class is a subclass of another class or not. This function returns True if the given class is the subclass of the given class else it returns False. We can determine class inheritance in Python by using issubclass()."
   ]
  },
  {
   "cell_type": "code",
   "execution_count": 59,
   "id": "f2c256b7-2789-4fb5-8f03-62eb5ce02842",
   "metadata": {},
   "outputs": [
    {
     "name": "stdout",
     "output_type": "stream",
     "text": [
      "True\n",
      "False\n",
      "True\n",
      "True\n"
     ]
    }
   ],
   "source": [
    "# Example :\n",
    "\n",
    "# Defining Parent class\n",
    "class Vehicles:\n",
    "\n",
    "\t# Constructor\n",
    "\tdef __init__(vehicleType):\n",
    "\t\tprint('Vehicles is a ', vehicleType)\n",
    "\n",
    "# Defining Child class\n",
    "class Car(Vehicles):\n",
    "\n",
    "\t# Constructor\n",
    "\tdef __init__(self):\n",
    "\t\tVehicles.__init__('Car')\n",
    "\n",
    "print(issubclass(Car, Vehicles))\n",
    "print(issubclass(Car, list))\n",
    "print(issubclass(Car, Car))\n",
    "print(issubclass(Car, (list, Vehicles)))\n"
   ]
  },
  {
   "cell_type": "code",
   "execution_count": null,
   "id": "a0d2b02a-cc1b-40e0-9981-8aa52137ad10",
   "metadata": {},
   "outputs": [],
   "source": []
  },
  {
   "cell_type": "markdown",
   "id": "88f4d6b1-30ce-4dda-a1d1-8482016ef935",
   "metadata": {},
   "source": [
    "22. How does inheritance work in python? Explain all types of inheritance with an example?"
   ]
  },
  {
   "cell_type": "markdown",
   "id": "61735be2-b3b5-4c45-bfdf-eb9bf337df20",
   "metadata": {},
   "source": [
    "It is a mechanism that allows you to create a hierarchy of classes that share a set of properties and methods by deriving a class from another class. Inheritance is the capability of one class to derive or inherit the properties from another class.\n",
    "\n",
    "Inheritance allows you to inherit the properties of a class, i.e., base class to another, i.e., derived class."
   ]
  },
  {
   "cell_type": "code",
   "execution_count": 60,
   "id": "4c7a2885-ca8c-490d-956d-c0a9f28d825b",
   "metadata": {},
   "outputs": [
    {
     "name": "stdout",
     "output_type": "stream",
     "text": [
      "Satyam 102\n"
     ]
    }
   ],
   "source": [
    "# Creating a __Parent Class__\n",
    "\n",
    "#A parent class is a class whose properties are inherited by the child class. Let’s create a parent class called Person which has a Display method to display the person’s information.\n",
    "\n",
    "class Person(object):\n",
    "   \n",
    "  # Constructor\n",
    "  def __init__(self, name, id):\n",
    "    self.name = name\n",
    "    self.id = id\n",
    " \n",
    "  # To check if this person is an employee\n",
    "  def Display(self):\n",
    "    print(self.name, self.id)\n",
    "emp = Person(\"Satyam\", 102) # An Object of Person\n",
    "emp.Display()"
   ]
  },
  {
   "cell_type": "code",
   "execution_count": 63,
   "id": "38a832d4-2f21-44fd-9288-3ef15f33af3c",
   "metadata": {},
   "outputs": [
    {
     "name": "stdout",
     "output_type": "stream",
     "text": [
      "Mayank 103\n",
      "Emp class called\n"
     ]
    }
   ],
   "source": [
    "# Creating a __Child Class__\n",
    "\n",
    "#A child class is a class that drives the properties from its parent class. Here Emp is another class that is going to inherit the properties of the Person class(base class).\n",
    "\n",
    "class Emp(Person):\n",
    "   \n",
    "  def Print(self):\n",
    "    print(\"Emp class called\")\n",
    "     \n",
    "Emp_details = Emp(\"Mayank\", 103)\n",
    " \n",
    "# calling parent class function\n",
    "Emp_details.Display()\n",
    " \n",
    "# Calling child class function\n",
    "Emp_details.Print()\n"
   ]
  },
  {
   "cell_type": "code",
   "execution_count": null,
   "id": "b4ace3d3-5eb4-42f2-97d5-4e611419aac8",
   "metadata": {},
   "outputs": [],
   "source": []
  },
  {
   "cell_type": "code",
   "execution_count": 64,
   "id": "834bb3d3-7036-4a85-a7d9-612e629b17ea",
   "metadata": {},
   "outputs": [
    {
     "name": "stdout",
     "output_type": "stream",
     "text": [
      "Geek1 False\n",
      "Geek2 True\n"
     ]
    }
   ],
   "source": [
    "# Example of Inheritance in Python \n",
    "#Let us see an example of simple Python inheritance in which a child class is inheriting the properties of its parent class. In this example, ‘Person’ is the parent class, and ‘Employee’ is its child class.\n",
    "\n",
    " \n",
    "class Person(object):\n",
    " \n",
    "    # Constructor\n",
    "    def __init__(self, name):\n",
    "        self.name = name\n",
    " \n",
    "    # To get name\n",
    "    def getName(self):\n",
    "        return self.name\n",
    " \n",
    "    # To check if this person is an employee\n",
    "    def isEmployee(self):\n",
    "        return False\n",
    " \n",
    " \n",
    "# Inherited or Subclass (Note Person in bracket)\n",
    "class Employee(Person):\n",
    " \n",
    "    # Here we return true\n",
    "    def isEmployee(self):\n",
    "        return True\n",
    " \n",
    " \n",
    "# Driver code\n",
    "emp = Person(\"Geek1\")  # An Object of Person\n",
    "print(emp.getName(), emp.isEmployee())\n",
    " \n",
    "emp = Employee(\"Geek2\")  # An Object of Employee\n",
    "print(emp.getName(), emp.isEmployee())"
   ]
  },
  {
   "cell_type": "code",
   "execution_count": null,
   "id": "a8fff89f-d3fb-41bc-8aa1-be894bf0774f",
   "metadata": {},
   "outputs": [],
   "source": []
  },
  {
   "cell_type": "markdown",
   "id": "3962c813-fc8b-4272-b3c0-c343fc9da4f7",
   "metadata": {},
   "source": [
    "23. What is encapsulation? Explain it with an example? "
   ]
  },
  {
   "cell_type": "markdown",
   "id": "5bbaa0c4-4acd-44d3-91cd-d5644117d5d5",
   "metadata": {},
   "source": [
    "__Encapsulation__ in Python\n",
    "\n",
    "Encapsulation is one of the fundamental concepts in object-oriented programming (OOP). It describes the idea of wrapping data and the methods that work on data within one unit. This puts restrictions on accessing variables and methods directly and can prevent the accidental modification of data. To prevent accidental change, an object’s variable can only be changed by an object’s method. Those types of variables are known as private variables."
   ]
  },
  {
   "cell_type": "code",
   "execution_count": 65,
   "id": "ec1387e8-68a7-410e-a462-4dbeb554a6c3",
   "metadata": {},
   "outputs": [
    {
     "name": "stdout",
     "output_type": "stream",
     "text": [
      "Calling protected member of base class:  2\n",
      "Calling modified protected member outside class:  3\n",
      "Accessing protected member of obj1:  3\n",
      "Accessing protected member of obj2:  2\n"
     ]
    }
   ],
   "source": [
    "# Python program to \n",
    "# demonstrate protected members \n",
    "\n",
    "# Creating a base class \n",
    "class Base: \n",
    "\tdef __init__(self): \n",
    "\n",
    "\t\t# Protected member \n",
    "\t\tself._a = 2\n",
    "\n",
    "# Creating a derived class \n",
    "class Derived(Base): \n",
    "\tdef __init__(self): \n",
    "\n",
    "\t\t# Calling constructor of \n",
    "\t\t# Base class \n",
    "\t\tBase.__init__(self) \n",
    "\t\tprint(\"Calling protected member of base class: \", \n",
    "\t\t\tself._a) \n",
    "\n",
    "\t\t# Modify the protected variable: \n",
    "\t\tself._a = 3\n",
    "\t\tprint(\"Calling modified protected member outside class: \", \n",
    "\t\t\tself._a) \n",
    "\n",
    "\n",
    "obj1 = Derived() \n",
    "\n",
    "obj2 = Base() \n",
    "\n",
    "# Calling protected member \n",
    "# Can be accessed but should not be done due to convention \n",
    "print(\"Accessing protected member of obj1: \", obj1._a) \n",
    "\n",
    "# Accessing the protected variable outside \n",
    "print(\"Accessing protected member of obj2: \", obj2._a) \n"
   ]
  },
  {
   "cell_type": "code",
   "execution_count": null,
   "id": "73609bea-718a-4d1d-8e46-445f80206618",
   "metadata": {},
   "outputs": [],
   "source": []
  },
  {
   "cell_type": "markdown",
   "id": "c12c6d6a-b8d8-410f-af7f-b8b3ffd08d41",
   "metadata": {},
   "source": [
    "24. What is polymorphism? Explain it with an example ?"
   ]
  },
  {
   "cell_type": "markdown",
   "id": "1f0a2969-bb72-4243-968e-d0692027597c",
   "metadata": {},
   "source": [
    "__Polymorphism__ in Python\n",
    "\n",
    "What is Polymorphism: The word polymorphism means having many forms. In programming, polymorphism means the same function name (but different signatures) being used for different types. The key difference is the data types and number of arguments used in function."
   ]
  },
  {
   "cell_type": "code",
   "execution_count": 66,
   "id": "b8bb2068-045f-4656-a4e8-37ab4041c5e6",
   "metadata": {},
   "outputs": [
    {
     "name": "stdout",
     "output_type": "stream",
     "text": [
      "5\n",
      "3\n"
     ]
    }
   ],
   "source": [
    "# Python program to demonstrate in-built poly-\n",
    "# morphic functions\n",
    "\n",
    "# len() being used for a string\n",
    "print(len(\"geeks\"))\n",
    "\n",
    "# len() being used for a list\n",
    "print(len([10, 20, 30]))\n"
   ]
  },
  {
   "cell_type": "code",
   "execution_count": 68,
   "id": "a89ac9cf-97e6-4d92-aa2d-17d762476d91",
   "metadata": {},
   "outputs": [
    {
     "name": "stdout",
     "output_type": "stream",
     "text": [
      "New Delhi is the capital of India.\n",
      "Hindi is the most widely spoken language of India.\n",
      "India is a developing country.\n",
      "Washington, D.C. is the capital of USA.\n",
      "English is the primary language of USA.\n",
      "USA is a developed country.\n"
     ]
    }
   ],
   "source": [
    "# Polymorphism with class methods: \n",
    "\n",
    "#The below code shows how Python can use two different class types, in the same way. We create a for loop that iterates through a tuple of objects. Then call the methods without being concerned about which class type each object is. We assume that these methods actually exist in each class. \n",
    "\n",
    "\n",
    "class India():\n",
    "    def capital(self):\n",
    "        print(\"New Delhi is the capital of India.\")\n",
    "\n",
    "    def language(self):\n",
    "        print(\"Hindi is the most widely spoken language of India.\")\n",
    "\n",
    "    def type(self):\n",
    "        print(\"India is a developing country.\")\n",
    "\n",
    "class USA():\n",
    "    def capital(self):\n",
    "        print(\"Washington, D.C. is the capital of USA.\")\n",
    "\n",
    "    def language(self):\n",
    "        print(\"English is the primary language of USA.\")\n",
    "\n",
    "    def type(self):\n",
    "        print(\"USA is a developed country.\")\n",
    "\n",
    "obj_ind = India()\n",
    "obj_usa = USA()\n",
    "for country in (obj_ind, obj_usa):\n",
    "    country.capital()\n",
    "    country.language()\n",
    "    country.type()"
   ]
  },
  {
   "cell_type": "code",
   "execution_count": null,
   "id": "dd3e8d90-d8f9-440d-8e87-0916f57039e9",
   "metadata": {},
   "outputs": [],
   "source": []
  },
  {
   "cell_type": "code",
   "execution_count": null,
   "id": "99f6b4e8-622a-419e-b175-4247e3772d97",
   "metadata": {},
   "outputs": [],
   "source": []
  },
  {
   "cell_type": "markdown",
   "id": "898e4398-726b-418e-a6f6-bbe636be82a5",
   "metadata": {},
   "source": [
    "__Question 1.2__  \n",
    "Which of the following identifier names are invalid and why?\n",
    "\n",
    "a) Serial_no.\n",
    "\n",
    "b) 1st_Room\n",
    "\n",
    "c) Hundred$\n",
    "\n",
    "d) Total_Marks\n",
    "\n",
    "e) total-Marks\n",
    "\n",
    "f) Total Marks\n",
    "\n",
    "g) True\n",
    "\n",
    "h) _Percentag"
   ]
  },
  {
   "cell_type": "markdown",
   "id": "77ed651b-4e08-45d8-adc7-d531ac151770",
   "metadata": {},
   "source": [
    "a) Serial_no.: Invalid - Identifier in python cannot contain any special character except underscore(_).\n",
    "\n",
    "b) 1st_Room: Invalid - Identifier in Python cannot start with a number.\n",
    "\n",
    "c) Hundred$: Invalid - Identifier in Python cannot contain any special character except underscore(_).\n",
    "\n",
    "d) Total_Marks: Valid\n",
    "\n",
    "e) total-Marks: Invalid - Identifier in Python cannot contain any special character except underscore(_). If more than one word is used as a variable then it can be separated using underscore ( _ ), instead of a hyphen ( - ).\n",
    "\n",
    "f) True: Invalid - Identifier in Python should not be a reserved keyword.\n",
    "\n",
    "g) _Percentage: Valid\n"
   ]
  },
  {
   "cell_type": "code",
   "execution_count": null,
   "id": "d1f3959e-2131-4989-b59a-a6781f7a5e83",
   "metadata": {},
   "outputs": [],
   "source": []
  },
  {
   "cell_type": "markdown",
   "id": "1e5d2af7-8db2-41ab-9f37-a1624c6415ec",
   "metadata": {},
   "source": [
    "__Question 1.3.__\n",
    "\n",
    "name = [\"Mohan\", \"dash\", \"karam\", \"chandra\",\"gandhi\",\"Bapu\"]\n",
    "do the following operations in this list;\n",
    "a) add an element \"freedom_fighter\" in this list at the 0th index.\n",
    "b) find the output of the following ,and explain how?\n",
    "\n",
    "name = [“freedomFighter”,\"Bapuji\",\"MOhan\" \"dash\", \"karam\",\n",
    "\"chandra\",\"gandhi\"]\n",
    "length1=len((name[-len(name)+1:-1:2]))\n",
    "length2=len((name[-len(name)+1:-1]))\n",
    "print(length1+length2)\n",
    "\n",
    "c) add two more elements in the name [\"NetaJi\",\"Bose\"] at the end of the list.\n",
    "\n",
    "d) what will be the value of temp:\n",
    "name = [\"Bapuji\", \"dash\", \"karam\", \"chandra\",\"gandi\",\"Mohan\"]\n",
    "temp=name[-1]\n",
    "name[-1]=name[0]\n",
    "name[0]=temp\n",
    "print(name)"
   ]
  },
  {
   "cell_type": "code",
   "execution_count": null,
   "id": "7a158bc0-9a95-4571-b0cd-4684652842a1",
   "metadata": {},
   "outputs": [],
   "source": []
  },
  {
   "cell_type": "code",
   "execution_count": 4,
   "id": "b3e72ea2-c8b9-4a15-8e0b-762e91c565c9",
   "metadata": {},
   "outputs": [
    {
     "data": {
      "text/plain": [
       "['freedom_fighter', 'Mohan', 'dash', 'karam', 'chandra', 'gandhi', 'Bapu']"
      ]
     },
     "execution_count": 4,
     "metadata": {},
     "output_type": "execute_result"
    }
   ],
   "source": [
    "# a) To add an element at the 0th index, you use the insert method:\n",
    "\n",
    "name = [\"Mohan\", \"dash\", \"karam\", \"chandra\", \"gandhi\", \"Bapu\"]\n",
    "name.insert(0, \"freedom_fighter\")\n",
    "\n",
    "# After this operation, the list will be:\n",
    "[\"freedom_fighter\", \"Mohan\", \"dash\", \"karam\", \"chandra\", \"gandhi\", \"Bapu\"]\n"
   ]
  },
  {
   "cell_type": "code",
   "execution_count": 5,
   "id": "47598c2f-1d36-4690-bff1-b2d8def5336a",
   "metadata": {},
   "outputs": [
    {
     "name": "stdout",
     "output_type": "stream",
     "text": [
      "8\n"
     ]
    }
   ],
   "source": [
    "# b) Find the output of the following, and explain how?\n",
    "\n",
    "name = [\"freedomFighter\", \"Bapuji\", \"Mohan\", \"dash\", \"karam\", \"chandra\", \"gandhi\"]\n",
    "length1 = len((name[-len(name)+1:-1:2]))\n",
    "length2 = len((name[-len(name)+1:-1]))\n",
    "print(length1 + length2)"
   ]
  },
  {
   "cell_type": "code",
   "execution_count": 7,
   "id": "1c9baa2a-a880-4476-bdca-e17c581c5408",
   "metadata": {},
   "outputs": [
    {
     "data": {
      "text/plain": [
       "['freedom_fighter',\n",
       " 'Mohan',\n",
       " 'dash',\n",
       " 'karam',\n",
       " 'chandra',\n",
       " 'gandhi',\n",
       " 'Bapu',\n",
       " 'NetaJi',\n",
       " 'Bose']"
      ]
     },
     "execution_count": 7,
     "metadata": {},
     "output_type": "execute_result"
    }
   ],
   "source": [
    "# c) Add two more elements in the name [\"NetaJi\", \"Bose\"] at the end of the list.\n",
    "#To add elements to the end of the list, you can use the extend method:\n",
    "name.extend([\"NetaJi\", \"Bose\"])\n",
    "\n",
    "# After this operation, the list will be:\n",
    "\n",
    "[\"freedom_fighter\", \"Mohan\", \"dash\", \"karam\", \"chandra\", \"gandhi\", \"Bapu\", \"NetaJi\", \"Bose\"]"
   ]
  },
  {
   "cell_type": "code",
   "execution_count": 8,
   "id": "579cadad-f7f7-4df4-8f9f-04a144474855",
   "metadata": {},
   "outputs": [
    {
     "name": "stdout",
     "output_type": "stream",
     "text": [
      "['Mohan', 'dash', 'karam', 'chandra', 'gandi', 'Bapuji']\n"
     ]
    }
   ],
   "source": [
    "# d) What will be the value of temp?\n",
    "\n",
    "name = [\"Bapuji\", \"dash\", \"karam\", \"chandra\", \"gandi\", \"Mohan\"]\n",
    "temp = name[-1]\n",
    "name[-1] = name[0]\n",
    "name[0] = temp\n",
    "print(name)"
   ]
  },
  {
   "cell_type": "code",
   "execution_count": null,
   "id": "4b7b3a48-f72a-4977-abf5-713701c199db",
   "metadata": {},
   "outputs": [],
   "source": []
  },
  {
   "cell_type": "markdown",
   "id": "da5d5f62-d80f-433b-b446-2e507fd3d269",
   "metadata": {},
   "source": [
    "__Question 1.4.__ Find the output of the following.\n",
    "\n",
    "animal = ['Human','cat','mat','cat','rat','Human', 'Lion']\n",
    "\n",
    "print(animal.count('Human'))\n",
    "\n",
    "print(animal.index('rat'))\n",
    "\n",
    "print(len(animal))"
   ]
  },
  {
   "cell_type": "code",
   "execution_count": 9,
   "id": "e51760ae-98d8-41c7-ba2a-6b5eaac4924c",
   "metadata": {},
   "outputs": [
    {
     "name": "stdout",
     "output_type": "stream",
     "text": [
      "2\n",
      "4\n",
      "7\n"
     ]
    }
   ],
   "source": [
    "animal = ['Human','cat','mat','cat','rat','Human', 'Lion']\n",
    "\n",
    "print(animal.count('Human'))\n",
    "\n",
    "print(animal.index('rat'))\n",
    "\n",
    "print(len(animal))"
   ]
  },
  {
   "cell_type": "code",
   "execution_count": null,
   "id": "c46907ef-a543-4dd3-becb-2b65cb3c1505",
   "metadata": {},
   "outputs": [],
   "source": []
  },
  {
   "cell_type": "markdown",
   "id": "53cf00fe-0171-44c7-ba6a-f57e9985c0ca",
   "metadata": {},
   "source": [
    "__Question 1.5.__ \n",
    "\n",
    "tuple1=(10,20,\"Apple\",3.4,'a',[\"master\",\"ji\"],(\"sita\",\"geeta\",22),[{\"roll_no\":1},{\"name\":\"Navneet\"}])\n",
    "\n",
    "a)Print(len(tuple1))\n",
    "\n",
    "b)Print(tuple1[-1][-1][\"name\"])\n",
    "\n",
    "c)fetch the value of roll_no from this tuple.\n",
    "\n",
    "d)Print(tuple1[-3][1])\n",
    "\n",
    "e)fetch the element \"22\" from this tuple."
   ]
  },
  {
   "cell_type": "code",
   "execution_count": 8,
   "id": "8343af0c-0b4a-4998-b3bc-3c6d00ea8d59",
   "metadata": {},
   "outputs": [],
   "source": [
    "tuple1=(10,20,\"Apple\",3.4,'a',[\"master\",\"ji\"],(\"sita\",\"geeta\",22),[{\"roll_no\":1},\n",
    "{\"name\":\"Navneet\"}])"
   ]
  },
  {
   "cell_type": "code",
   "execution_count": 10,
   "id": "62c15b74-6e97-42a3-9f49-b94c0b566b87",
   "metadata": {},
   "outputs": [
    {
     "name": "stdout",
     "output_type": "stream",
     "text": [
      "8\n"
     ]
    }
   ],
   "source": [
    "# a)\n",
    "print(len(tuple1))"
   ]
  },
  {
   "cell_type": "code",
   "execution_count": 11,
   "id": "5ef1259a-b5dc-47e8-bf63-1647dc257a8f",
   "metadata": {},
   "outputs": [
    {
     "name": "stdout",
     "output_type": "stream",
     "text": [
      "Navneet\n"
     ]
    }
   ],
   "source": [
    "# b)\n",
    "\n",
    "print(tuple1[-1][-1][\"name\"])"
   ]
  },
  {
   "cell_type": "code",
   "execution_count": 16,
   "id": "4ab47d95-f44f-462d-afc7-0354beaa725b",
   "metadata": {},
   "outputs": [
    {
     "name": "stdout",
     "output_type": "stream",
     "text": [
      "The value of roll_no: 1\n"
     ]
    }
   ],
   "source": [
    "# c)fetch the value of roll_no from this tuple.\n",
    "\n",
    "tuple1 = (10, 20, \"Apple\", 3.4, 'a', [\"master\", \"ji\"], (\"sita\", \"geeta\", 22), [{\"roll_no\": 1}, {\"name\": \"Navneet\"}])\n",
    "\n",
    "list_of_dicts = tuple1[7]\n",
    "\n",
    "# Accessing the dictionary containing \"roll_no\"\n",
    "roll_no_dict = list_of_dicts[0]\n",
    "\n",
    "# Fetching the value of \"roll_no\"\n",
    "roll_no_value = roll_no_dict[\"roll_no\"]\n",
    "\n",
    "print(\"The value of roll_no:\", roll_no_value)\n"
   ]
  },
  {
   "cell_type": "code",
   "execution_count": 12,
   "id": "ec05b787-9d6a-4740-8ddf-855db6d8ce92",
   "metadata": {},
   "outputs": [
    {
     "name": "stdout",
     "output_type": "stream",
     "text": [
      "ji\n"
     ]
    }
   ],
   "source": [
    "# d)\n",
    "\n",
    "print(tuple1[-3][1])"
   ]
  },
  {
   "cell_type": "code",
   "execution_count": 17,
   "id": "a0e08e69-c584-4fc5-bd87-4f331bae9c6d",
   "metadata": {},
   "outputs": [
    {
     "name": "stdout",
     "output_type": "stream",
     "text": [
      "The element '22' from tuple1: 22\n"
     ]
    }
   ],
   "source": [
    "# e)fetch the element \"22\" from this tuple.\n",
    "\n",
    "tuple1 = (10, 20, \"Apple\", 3.4, 'a', [\"master\", \"ji\"], (\"sita\", \"geeta\", 22), [{\"roll_no\": 1}, {\"name\": \"Navneet\"}])\n",
    "nested_tuple = tuple1[6]\n",
    "\n",
    "# Fetching the element \"22\"\n",
    "element_22 = nested_tuple[2]\n",
    "\n",
    "print(\"The element '22' from tuple1:\", element_22)\n"
   ]
  },
  {
   "cell_type": "code",
   "execution_count": null,
   "id": "d93007e7-6fbe-4334-bcc8-277e801c55a2",
   "metadata": {},
   "outputs": [],
   "source": []
  },
  {
   "cell_type": "markdown",
   "id": "4243160d-e311-4572-b37b-e25a97505b44",
   "metadata": {},
   "source": [
    "__1.6.__ \n",
    "Write a program to display the appropriate message as per the color of signal(RED-Stop/Yellow-Stay/\n",
    "Green-Go) at the road crossing."
   ]
  },
  {
   "cell_type": "code",
   "execution_count": 26,
   "id": "df8c4475-6493-4450-ba9d-c139359a7746",
   "metadata": {},
   "outputs": [
    {
     "name": "stdout",
     "output_type": "stream",
     "text": [
      "Enter the colour of the traffic light:  GREEN\n",
      "GO\n"
     ]
    }
   ],
   "source": [
    "#Function to simulate a traffic light\n",
    "\n",
    "def trafficLight():\n",
    " signal = input(\"Enter the colour of the traffic light: \")\n",
    " if (signal not in (\"RED\",\"YELLOW\",\"GREEN\")):\n",
    "  print(\"Please enter a valid Traffic Light colour in CAPITALS\")\n",
    " else:\n",
    "  value = light(signal) #function call to light()\n",
    " if (value == 0):\n",
    "  print(\"STOP\")\n",
    " elif (value == 1):\n",
    "  print (\"PLEASE GO SLOW.\")\n",
    " else:\n",
    "  print(\"GO\")\n",
    " \n",
    "def light(colour):\n",
    " if (colour == \"RED\"):\n",
    "  return(0);\n",
    " elif (colour == \"YELLOW\"):\n",
    "  return (1)\n",
    " else:\n",
    "  return(2)\n",
    "\n",
    "trafficLight()\n"
   ]
  },
  {
   "cell_type": "code",
   "execution_count": null,
   "id": "30b5c120-fd0b-43d9-8734-f428d3342fe8",
   "metadata": {},
   "outputs": [],
   "source": []
  },
  {
   "cell_type": "markdown",
   "id": "186801fa-3ea1-40bd-b456-5021a579f6f1",
   "metadata": {},
   "source": [
    "__1.7.__\n",
    "Write a program to create a simple calculator performing only four basic operations(+,-,/,*)"
   ]
  },
  {
   "cell_type": "code",
   "execution_count": 27,
   "id": "63fcac39-0d74-4551-8222-5db4d5a389fe",
   "metadata": {},
   "outputs": [
    {
     "name": "stdout",
     "output_type": "stream",
     "text": [
      "Enter the First Number:  5\n",
      "Enter the Second Number:  10\n",
      "5.0 + 10.0 = \n",
      "15.0\n",
      "5.0 - 10.0 = \n",
      "-5.0\n",
      "5.0 * 10.0 = \n",
      "50.0\n",
      "5.0 / 10.0 = \n",
      "0.5\n"
     ]
    }
   ],
   "source": [
    "n1 = float(input(\"Enter the First Number: \"))\n",
    "n2 = float(input(\"Enter the Second Number: \"))\n",
    "\n",
    "# Addition\n",
    "\n",
    "print(\"{} + {} = \".format(n1, n2))\n",
    "print(n1 + n2)\n",
    "\n",
    "# Subtraction\n",
    "\n",
    "print(\"{} - {} = \".format(n1, n2))\n",
    "print(n1 - n2)\n",
    "\n",
    "# Multiplication\n",
    "\n",
    "print(\"{} * {} = \".format(n1, n2))\n",
    "print(n1 * n2)\n",
    "\n",
    "# Division\n",
    "\n",
    "print(\"{} / {} = \".format(n1, n2))\n",
    "print(n1 / n2)"
   ]
  },
  {
   "cell_type": "code",
   "execution_count": null,
   "id": "de0913d1-c059-49b5-8958-8e4fcbf65d5b",
   "metadata": {},
   "outputs": [],
   "source": []
  },
  {
   "cell_type": "markdown",
   "id": "40076a99-06e2-4aa5-adac-9c8bfc86d25b",
   "metadata": {},
   "source": [
    "__1.8.__ \n",
    "Write a program to find the larger of the three pre-specified numbers using ternary operators."
   ]
  },
  {
   "cell_type": "code",
   "execution_count": 28,
   "id": "d2da4d9c-d723-477d-94cd-5d2a3545e671",
   "metadata": {},
   "outputs": [
    {
     "name": "stdout",
     "output_type": "stream",
     "text": [
      "30\n"
     ]
    }
   ],
   "source": [
    "num1, num2, num3 = 10 , 30 , 20\n",
    "max = num1 if num1>num2 else num2\n",
    "max = num3 if num3>max else max\n",
    "print(max)"
   ]
  },
  {
   "cell_type": "code",
   "execution_count": null,
   "id": "c8439e60-4e66-4ca5-a1fb-1e249b09c58f",
   "metadata": {},
   "outputs": [],
   "source": []
  },
  {
   "cell_type": "markdown",
   "id": "a98af1bc-3493-4f20-9286-e033eef930b6",
   "metadata": {},
   "source": [
    "__1.9.__ Write a program to find the factors of a whole number using a while loop."
   ]
  },
  {
   "cell_type": "code",
   "execution_count": 29,
   "id": "ab6f21bf-c886-44b1-ad11-8e46f8ebba19",
   "metadata": {},
   "outputs": [
    {
     "name": "stdout",
     "output_type": "stream",
     "text": [
      "Enter a number to find its factor:  5\n",
      "1 5 "
     ]
    }
   ],
   "source": [
    "num = int(input(\"Enter a number to find its factor: \"))\n",
    "print (1, end=' ')\n",
    "factor = 2 \n",
    "while factor <= num/2 :\n",
    " if num % factor == 0:\n",
    "  print(factor, end=' ') \n",
    " factor += 1\n",
    "print (num, end=' ') "
   ]
  },
  {
   "cell_type": "code",
   "execution_count": null,
   "id": "10c31afc-3679-4ef5-b9e5-9f8c0404b07a",
   "metadata": {},
   "outputs": [],
   "source": []
  },
  {
   "cell_type": "markdown",
   "id": "10848961-dab8-4549-9acc-800d8ad1f6c2",
   "metadata": {},
   "source": [
    "__1.10.__\n",
    "Write a program to find the sum of all the positive numbers entered by the user. As soon as the user\n",
    "enters a negative number, stop taking in any further input from the user and display the sum ."
   ]
  },
  {
   "cell_type": "code",
   "execution_count": 36,
   "id": "2759fccd-afc9-463f-be62-a47307d8c02e",
   "metadata": {},
   "outputs": [],
   "source": [
    "#Find the sum of all the positive numbers entered by the user till the user enters a negative number.\n",
    "\n",
    "entry = 0\n",
    "sum1 = 0\n",
    "print(\"Enter numbers to find their sum , Negative number ends the loop: \")\n",
    "while True:\n",
    "    enter = int(input())\n",
    "    if (entry < 0):\n",
    "        break\n",
    "        sum1 += entry\n",
    "    print(\"Sum =\", sum1)"
   ]
  },
  {
   "cell_type": "code",
   "execution_count": null,
   "id": "dca6364e-b781-4d4b-9832-a392f9c8e6b6",
   "metadata": {},
   "outputs": [],
   "source": []
  },
  {
   "cell_type": "markdown",
   "id": "f310752c-1aba-4276-82d1-ca6f452f33ad",
   "metadata": {},
   "source": [
    "__1.11.__ \n",
    "Write a program to find prime numbers between 2 to 100 using nested for loops."
   ]
  },
  {
   "cell_type": "code",
   "execution_count": 39,
   "id": "4166ba50-f679-477a-bebe-3fa3def2892e",
   "metadata": {},
   "outputs": [
    {
     "name": "stdout",
     "output_type": "stream",
     "text": [
      "2 is a prime number\n",
      "3 is a prime number\n",
      "5 is a prime number\n",
      "7 is a prime number\n",
      "11 is a prime number\n",
      "13 is a prime number\n",
      "17 is a prime number\n",
      "19 is a prime number\n",
      "23 is a prime number\n",
      "29 is a prime number\n",
      "31 is a prime number\n",
      "37 is a prime number\n",
      "41 is a prime number\n",
      "43 is a prime number\n",
      "47 is a prime number\n",
      "53 is a prime number\n",
      "59 is a prime number\n",
      "61 is a prime number\n",
      "67 is a prime number\n",
      "71 is a prime number\n",
      "73 is a prime number\n",
      "79 is a prime number\n",
      "83 is a prime number\n",
      "89 is a prime number\n",
      "97 is a prime number\n"
     ]
    }
   ],
   "source": [
    "#Use of nested loops to find the prime numbers between 2 to 100\n",
    "num = 2\n",
    "for i in range(2, 100):\n",
    " j= 2\n",
    " while ( j <= (i/2)):\n",
    "  if (i % j == 0): #factor found\n",
    "   break #break out of while loop\n",
    "  j += 1\n",
    " if ( j > i/j) : #no factor found\n",
    "  print ( i, \"is a prime number\")\n"
   ]
  },
  {
   "cell_type": "code",
   "execution_count": null,
   "id": "58f783f3-a4b1-425d-b3c6-e127486f4ad5",
   "metadata": {},
   "outputs": [],
   "source": []
  },
  {
   "cell_type": "markdown",
   "id": "e4601be8-cd2b-4e69-b589-320fd1effdf9",
   "metadata": {},
   "source": [
    "__1.12.__ \n",
    "Write the programs for the following"
   ]
  },
  {
   "cell_type": "code",
   "execution_count": 40,
   "id": "3085b1fb-c811-445b-b084-1f16123b0d6e",
   "metadata": {},
   "outputs": [
    {
     "name": "stdout",
     "output_type": "stream",
     "text": [
      "\n",
      "Student's Marks:\n",
      "Math: 85\n",
      "Science: 78\n",
      "English: 92\n",
      "History: 69\n",
      "Geography: 74\n"
     ]
    }
   ],
   "source": [
    "# a) Accept the marks of the student in five major subjects and display the same\n",
    "\n",
    "# List of subjects\n",
    "subjects = [\"Math\", \"Science\", \"English\", \"History\", \"Geography\"]\n",
    "\n",
    "# Function to accept marks\n",
    "def accept_marks(math, science, english, history, geography):\n",
    "    marks = {\n",
    "        \"Math\": math,\n",
    "        \"Science\": science,\n",
    "        \"English\": english,\n",
    "        \"History\": history,\n",
    "        \n",
    "        \"Geography\": geography\n",
    "    }\n",
    "    return marks\n",
    "\n",
    "# Function to display marks\n",
    "def display_marks(marks):\n",
    "    print(\"\\nStudent's Marks:\")\n",
    "    for subject, mark in marks.items():\n",
    "        print(f\"{subject}: {mark}\")\n",
    "\n",
    "# Accept and display marks\n",
    "student_marks = accept_marks(85, 78, 92, 69, 74)\n",
    "display_marks(student_marks)\n"
   ]
  },
  {
   "cell_type": "code",
   "execution_count": 43,
   "id": "7d152081-5ea5-421e-b147-a96c9b6c6e0c",
   "metadata": {},
   "outputs": [
    {
     "name": "stdout",
     "output_type": "stream",
     "text": [
      "Total Marks: 398\n",
      "Percentage: 79.60%\n"
     ]
    }
   ],
   "source": [
    "# b) Calculate the sum of the marks of all subjects. Divide the total marks by number of subjects (i.e. 5), calculate percentage = total marks/5 and display the percentage\n",
    "\n",
    "# Function to calculate total marks and percentage\n",
    "def calculate_percentage(marks):\n",
    "    total_marks = sum(marks.values())\n",
    "    num_subjects = len(marks)\n",
    "    percentage = (total_marks / num_subjects)\n",
    "    return total_marks, percentage\n",
    "\n",
    "# Example marks\n",
    "student_marks = {'Math': 85, 'Science': 78, 'English': 92, 'History': 69, 'Geography': 74}\n",
    "\n",
    "# Calculate total marks and percentage\n",
    "total_marks, percentage = calculate_percentage(student_marks)\n",
    "\n",
    "# Display the results\n",
    "print(f\"Total Marks: {total_marks}\")\n",
    "print(f\"Percentage: {percentage:.2f}%\")\n"
   ]
  },
  {
   "cell_type": "code",
   "execution_count": 42,
   "id": "2d0ce0f8-3b9f-41f7-9d3e-e8a6c9776785",
   "metadata": {},
   "outputs": [
    {
     "name": "stdout",
     "output_type": "stream",
     "text": [
      "\n",
      "Student's Marks:\n",
      "Math: 85\n",
      "Science: 78\n",
      "English: 92\n",
      "History: 69\n",
      "Geography: 74\n",
      "\n",
      "Total Marks: 398\n",
      "Percentage: 79.60%\n",
      "Grade: B\n"
     ]
    }
   ],
   "source": [
    "# c) Find the grade of the student as Ter the following criteria . Hint: Use Match & case for this.:\n",
    "\n",
    "# List of subjects\n",
    "subjects = [\"Math\", \"Science\", \"English\", \"History\", \"Geography\"]\n",
    "\n",
    "# Function to accept marks\n",
    "def accept_marks(math, science, english, history, geography):\n",
    "    marks = {\n",
    "        \"Math\": math,\n",
    "        \"Science\": science,\n",
    "        \"English\": english,\n",
    "        \"History\": history,\n",
    "        \"Geography\": geography\n",
    "    }\n",
    "    return marks\n",
    "\n",
    "# Function to display marks\n",
    "def display_marks(marks):\n",
    "    print(\"\\nStudent's Marks:\")\n",
    "    for subject, mark in marks.items():\n",
    "        print(f\"{subject}: {mark}\")\n",
    "\n",
    "# Function to calculate total marks and percentage\n",
    "def calculate_percentage(marks):\n",
    "    total_marks = sum(marks.values())\n",
    "    num_subjects = len(marks)\n",
    "    percentage = (total_marks / num_subjects)\n",
    "    return total_marks, percentage\n",
    "\n",
    "# Function to determine grade based on percentage\n",
    "def determine_grade(percentage):\n",
    "    match percentage:\n",
    "        case percentage if percentage > 85:\n",
    "            return \"A\"\n",
    "        case percentage if 75 <= percentage <= 85:\n",
    "            return \"B\"\n",
    "        case percentage if 50 <= percentage < 75:\n",
    "            return \"C\"\n",
    "        case percentage if 30 < percentage < 50:\n",
    "            return \"D\"\n",
    "        case _:\n",
    "            return \"Reappear\"\n",
    "\n",
    "# Example marks\n",
    "student_marks = accept_marks(85, 78, 92, 69, 74)\n",
    "\n",
    "# Display marks\n",
    "display_marks(student_marks)\n",
    "\n",
    "# Calculate total marks and percentage\n",
    "total_marks, percentage = calculate_percentage(student_marks)\n",
    "print(f\"\\nTotal Marks: {total_marks}\")\n",
    "print(f\"Percentage: {percentage:.2f}%\")\n",
    "\n",
    "# Determine grade\n",
    "grade = determine_grade(percentage)\n",
    "print(f\"Grade: {grade}\")\n"
   ]
  },
  {
   "cell_type": "code",
   "execution_count": null,
   "id": "ccedead9-8e5b-4544-9568-d28d3b233329",
   "metadata": {},
   "outputs": [],
   "source": []
  },
  {
   "cell_type": "markdown",
   "id": "1c3827f4-a9de-4db9-b982-15fb4702ec8b",
   "metadata": {},
   "source": [
    "__1.13.__ \n",
    "Write a program for VIBGYOR Spectrum based on their Wavelength using.\n",
    "Wavelength Range:"
   ]
  },
  {
   "cell_type": "code",
   "execution_count": 44,
   "id": "4f9d8303-b029-4080-9af8-00de0bd71846",
   "metadata": {},
   "outputs": [
    {
     "name": "stdout",
     "output_type": "stream",
     "text": [
      "Enter the wavelength (in nm):  555\n",
      "The color for wavelength 555.0 nm is Green.\n"
     ]
    }
   ],
   "source": [
    "# Function to determine the VIBGYOR color based on wavelength\n",
    "def determine_color(wavelength):\n",
    "    match wavelength:\n",
    "        case wavelength if 380 <= wavelength < 450:\n",
    "            return \"Violet\"\n",
    "        case wavelength if 450 <= wavelength < 475:\n",
    "            return \"Indigo\"\n",
    "        case wavelength if 475 <= wavelength < 495:\n",
    "            return \"Blue\"\n",
    "        case wavelength if 495 <= wavelength < 570:\n",
    "            return \"Green\"\n",
    "        case wavelength if 570 <= wavelength < 590:\n",
    "            return \"Yellow\"\n",
    "        case wavelength if 590 <= wavelength < 620:\n",
    "            return \"Orange\"\n",
    "        case wavelength if 620 <= wavelength <= 750:\n",
    "            return \"Red\"\n",
    "        case _:\n",
    "            return \"Wavelength out of range for VIBGYOR spectrum\"\n",
    "\n",
    "# Accept wavelength input\n",
    "def accept_wavelength():\n",
    "    while True:\n",
    "        try:\n",
    "            wavelength = float(input(\"Enter the wavelength (in nm): \"))\n",
    "            return wavelength\n",
    "        except ValueError:\n",
    "            print(\"Please enter a numeric value.\")\n",
    "\n",
    "# Main function\n",
    "def main():\n",
    "    wavelength = accept_wavelength()\n",
    "    color = determine_color(wavelength)\n",
    "    print(f\"The color for wavelength {wavelength} nm is {color}.\")\n",
    "\n",
    "# Run the main function\n",
    "if __name__ == \"__main__\":\n",
    "    main()\n"
   ]
  },
  {
   "cell_type": "code",
   "execution_count": null,
   "id": "089ae83d-5ad5-4424-8502-a1707debb826",
   "metadata": {},
   "outputs": [],
   "source": []
  },
  {
   "cell_type": "markdown",
   "id": "4934d52e-04c7-4509-83a8-efd3c69cf6ea",
   "metadata": {},
   "source": [
    "__1.14.__\n",
    "Consider the gravitational interactions between the Earth, Moon, and Sun in our solar system.\n",
    "\n",
    "Given:\n",
    "\n",
    "mass_earth = 5.972e24           # Mass of Earth in kilograms\n",
    "\n",
    "mass_moon = 7.34767309e22       # Mass of Moon in kilograms\n",
    "\n",
    "mass_sun = 1.989e30              # Mass of Sun in kilograms\n",
    "\n",
    "distance_earth_sun = 1.496e     # Average distan0e between Earth and Sun in meters\n",
    "\n",
    "distance_moon_earth = 3.844e8   # Average distan0e between Moon and Earth in meters\n",
    "\n",
    "Tasks\n",
    "1. Calculate the gravitational force between the Earth and the Sun\n",
    "2. Calculate the gravitational force between the Moon and the Earth\n",
    "3. Compare the calculated forces to determine which gravitational force is stronger\n",
    "4. Explain whi0h celestial body (Earth or Moon) is more attra0ted to the other based on the comparison."
   ]
  },
  {
   "cell_type": "code",
   "execution_count": 46,
   "id": "4291536f-eed7-4baa-9692-e18b964b5bef",
   "metadata": {},
   "outputs": [
    {
     "name": "stdout",
     "output_type": "stream",
     "text": [
      "Gravitational force between Earth and Moon: 1.9820225456526813e+20 N\n",
      "Gravitational force between Earth and Sun: 3.5423960813684973e+22 N\n",
      "Gravitational force between Moon and Sun: 4.35840059631493e+20 N\n"
     ]
    }
   ],
   "source": [
    "# 1. Calculate the gravitational force between the Earth and the Sun\n",
    "\n",
    "# Constants\n",
    "G = 6.67430e-11  # Gravitational constant in m^3 kg^-1 s^-2\n",
    "\n",
    "# Masses in kilograms\n",
    "mass_earth = 5.972e24  # Mass of Earth\n",
    "mass_moon = 7.34767309e22  # Mass of Moon\n",
    "mass_sun = 1.989e30  # Mass of Sun\n",
    "\n",
    "# Distances in meters\n",
    "distance_earth_sun = 1.496e11  # Average distance between Earth and Sun\n",
    "distance_moon_earth = 3.844e8  # Average distance between Moon and Earth\n",
    "\n",
    "# Gravitational force calculations\n",
    "def gravitational_force(m1, m2, r):\n",
    "    return G * (m1 * m2) / r**2\n",
    "\n",
    "# Earth-Moon gravitational force\n",
    "force_earth_moon = gravitational_force(mass_earth, mass_moon, distance_moon_earth)\n",
    "\n",
    "# Earth-Sun gravitational force\n",
    "force_earth_sun = gravitational_force(mass_earth, mass_sun, distance_earth_sun)\n",
    "\n",
    "# Moon-Sun gravitational force\n",
    "force_moon_sun = gravitational_force(mass_moon, mass_sun, distance_earth_sun)  # Assuming the average distance is same\n",
    "\n",
    "# Display results\n",
    "print(f\"Gravitational force between Earth and Moon: {force_earth_moon} N\")\n",
    "print(f\"Gravitational force between Earth and Sun: {force_earth_sun} N\")\n",
    "print(f\"Gravitational force between Moon and Sun: {force_moon_sun} N\")\n",
    "\n"
   ]
  },
  {
   "cell_type": "code",
   "execution_count": 49,
   "id": "1abde629-6658-4479-9723-cee2c40abdca",
   "metadata": {},
   "outputs": [
    {
     "data": {
      "text/plain": [
       "1.9820225456526813e+20"
      ]
     },
     "execution_count": 49,
     "metadata": {},
     "output_type": "execute_result"
    }
   ],
   "source": [
    "# 2. Calculate the gravitational force between the Moon and the Earth\n",
    "\n",
    "# Constants\n",
    "G = 6.67430e-11  # Gravitational constant in m^3 kg^-1 s^-2\n",
    "\n",
    "# Masses in kilograms\n",
    "mass_earth = 5.972e24  # Mass of Earth\n",
    "mass_moon = 7.34767309e22  # Mass of Moon\n",
    "\n",
    "# Distance in meters\n",
    "distance_moon_earth = 3.844e8  # Average distance between Moon and Earth\n",
    "\n",
    "# Gravitational force calculation\n",
    "def gravitational_force(m1, m2, r):\n",
    "    return G * (m1 * m2) / r**2\n",
    "\n",
    "# Calculate the force between Earth and Moon\n",
    "force_earth_moon = gravitational_force(mass_earth, mass_moon, distance_moon_earth)\n",
    "\n",
    "# Display the result\n",
    "force_earth_moon\n"
   ]
  },
  {
   "cell_type": "code",
   "execution_count": 50,
   "id": "7f6a831f-0442-4ced-91ba-59b6c1501353",
   "metadata": {},
   "outputs": [
    {
     "name": "stdout",
     "output_type": "stream",
     "text": [
      "Gravitational force between Earth and Moon: 198049223909905661952.00 N\n",
      "Gravitational force between Sun and Earth: 35423960813684981235712.00 N\n",
      "Gravitational force between Sun and Earth is stronger.\n"
     ]
    }
   ],
   "source": [
    "# 3. Compare the calculated forces to determine which gravitational force is stronger\n",
    "\n",
    "def gravitational_force(m1, m2, r):\n",
    "    G = 6.67430e-11\n",
    "    force = G * m1 * m2 / (r ** 2)\n",
    "    return force\n",
    "\n",
    "# Example 1: Comparing forces between Earth and Moon\n",
    "m_earth = 5.972e24  # mass of Earth in kg\n",
    "m_moon = 7.342e22   # mass of Moon in kg\n",
    "r_earth_moon = 3.844e8  # average distance from Earth to Moon in meters\n",
    "\n",
    "force_earth_moon = gravitational_force(m_earth, m_moon, r_earth_moon)\n",
    "print(f\"Gravitational force between Earth and Moon: {force_earth_moon:.2f} N\")\n",
    "\n",
    "# Example 2: Comparing forces between Sun and Earth\n",
    "m_sun = 1.989e30   # mass of Sun in kg\n",
    "r_sun_earth = 1.496e11  # average distance from Sun to Earth in meters\n",
    "\n",
    "force_sun_earth = gravitational_force(m_sun, m_earth, r_sun_earth)\n",
    "print(f\"Gravitational force between Sun and Earth: {force_sun_earth:.2f} N\")\n",
    "\n",
    "# Comparison\n",
    "if force_earth_moon > force_sun_earth:\n",
    "    print(\"Gravitational force between Earth and Moon is stronger.\")\n",
    "else:\n",
    "    print(\"Gravitational force between Sun and Earth is stronger.\")\n"
   ]
  },
  {
   "cell_type": "markdown",
   "id": "93798155-b3f8-409b-8851-b3a0a4d60799",
   "metadata": {},
   "source": [
    "#4.Explain which celestial body (Earth or Moon) is more attracted to the other based on the comparison.\n",
    "\n",
    "--> Gravitational Force between Earth and Moon:\n",
    "\n",
    "The gravitational force between Earth and Moon is significant but considerably weaker compared to Earth's gravitational force with the Sun.\n",
    "The force between Earth and Moon is primarily responsible for the Moon orbiting around the Earth.\n",
    "\n",
    "Comparison and Conclusion:\n",
    "\n",
    "When comparing the gravitational forces:\n",
    "\n",
    "The gravitational force between Earth and Moon is weaker (around 1.98×10N) compared to the gravitational force between Sun and Earth (around 3.53×1022 N). \n",
    "\n",
    "This indicates that Earth is more attracted to the Sun than it is to the Moon.\n",
    "Conversely, the Moon is more attracted to Earth than it is to the Sun due to the closer proximity and lower gravitational force exerted by Earth on the Moon compared to the Sun.\n",
    "\n",
    "Therefore, while the Moon is more attracted to Earth due to their closer proximity and the stronger gravitational force between them compared to the force between Earth and the Sun, Earth is more attracted to the Sun because of the much greater gravitational force exerted by the Sun on Earth."
   ]
  },
  {
   "cell_type": "code",
   "execution_count": null,
   "id": "364833cc-ae54-4e6d-b1d3-3b397a86632b",
   "metadata": {},
   "outputs": [],
   "source": []
  },
  {
   "cell_type": "markdown",
   "id": "f0d37748-9df8-4831-a0ee-47f5e6210b5a",
   "metadata": {},
   "source": [
    "__2.__ Design and implement a Python program for managing student information using object-oriented principles. Create a class called `Student` with encapsulated attributes for name, age, and roll number. Implement getter and setter methods for these attributes. Additionally, provide methods to display student information and update student details.\n",
    "\n",
    "Tasks\n",
    "\n",
    "--> Define the `Student` class with encapsulated attributes\n",
    "\n",
    "--> Implement getter and setter methods for the attributes\n",
    "\n",
    "--> Write methods to display student information and update details\n",
    "\n",
    "--> Create instances of the `Student` class and test the implemented functionality"
   ]
  },
  {
   "cell_type": "code",
   "execution_count": 1,
   "id": "8723cd9a-a3cb-4dd6-a0be-2e5ba9014552",
   "metadata": {},
   "outputs": [
    {
     "name": "stdout",
     "output_type": "stream",
     "text": [
      "Initial Student Information:\n",
      "Name: Alice, Age: 20, Roll Number: A001\n",
      "Name: Bob, Age: 21, Roll Number: B002\n",
      "\n",
      "Updated Student Information:\n",
      "Name: Alice Smith, Age: 21, Roll Number: A001\n",
      "Name: Bob, Age: 21, Roll Number: B002\n"
     ]
    }
   ],
   "source": [
    "class Student:\n",
    "    def __init__(self, name, age, roll_number):\n",
    "        self._name = name\n",
    "        self._age = age\n",
    "        self._roll_number = roll_number\n",
    "\n",
    "    # Getter methods\n",
    "    def get_name(self):\n",
    "        return self._name\n",
    "    \n",
    "    def get_age(self):\n",
    "        return self._age\n",
    "    \n",
    "    def get_roll_number(self):\n",
    "        return self._roll_number\n",
    "    \n",
    "    # Setter methods\n",
    "    def set_name(self, name):\n",
    "        self._name = name\n",
    "    \n",
    "    def set_age(self, age):\n",
    "        self._age = age\n",
    "    \n",
    "    def set_roll_number(self, roll_number):\n",
    "        self._roll_number = roll_number\n",
    "    \n",
    "    # Method to display student information\n",
    "    def display_student(self):\n",
    "        print(f\"Name: {self._name}, Age: {self._age}, Roll Number: {self._roll_number}\")\n",
    "    \n",
    "    # Method to update student details\n",
    "    def update_details(self, name=None, age=None, roll_number=None):\n",
    "        if name:\n",
    "            self._name = name\n",
    "        if age:\n",
    "            self._age = age\n",
    "        if roll_number:\n",
    "            self._roll_number = roll_number\n",
    "\n",
    "# Testing the Student class\n",
    "if __name__ == \"__main__\":\n",
    "    # Create instances of Student\n",
    "    student1 = Student(\"Alice\", 20, \"A001\")\n",
    "    student2 = Student(\"Bob\", 21, \"B002\")\n",
    "    \n",
    "    # Display initial student information\n",
    "    print(\"Initial Student Information:\")\n",
    "    student1.display_student()\n",
    "    student2.display_student()\n",
    "    \n",
    "    # Update details of student1\n",
    "    student1.set_age(21)\n",
    "    student1.update_details(name=\"Alice Smith\")\n",
    "    \n",
    "    # Display updated student information\n",
    "    print(\"\\nUpdated Student Information:\")\n",
    "    student1.display_student()\n",
    "    student2.display_student()\n"
   ]
  },
  {
   "cell_type": "code",
   "execution_count": null,
   "id": "141ace63-0bfd-478e-9b60-e48ce6eba60e",
   "metadata": {},
   "outputs": [],
   "source": []
  },
  {
   "cell_type": "markdown",
   "id": "857f76ee-577d-4c57-ba1c-5500c3282ff1",
   "metadata": {},
   "source": [
    "__3.__ \n",
    "\n",
    "Develop a Python program for managing library resources efficiently. Design a class named `LibraryBook`\n",
    "with attributes lie book name, author, and availability status. Implement methods for borrowing and\n",
    "returning boos while ensuring proper encapsulation of attributes.\n",
    "Tasks\n",
    "1. Create the `LibraryBook` class with encapsulated attributes\n",
    "2. Implement methods for borrowing and returning books\n",
    "3. Ensure proper encapsulation to protect book details\n",
    "4. Test the borrowing and returning functionality with sample data."
   ]
  },
  {
   "cell_type": "code",
   "execution_count": 2,
   "id": "8609171f-c636-43ec-b024-6ecef52ac273",
   "metadata": {},
   "outputs": [
    {
     "name": "stdout",
     "output_type": "stream",
     "text": [
      "Initial Book Information:\n",
      "Book Name: Python Programming, Author: John Smith, Available: True\n",
      "Book Name: Data Structures and Algorithms, Author: Alice Brown, Available: False\n",
      "\n",
      "Borrowing and Returning Operations:\n",
      "Book 'Python Programming' by John Smith has been borrowed.\n",
      "Sorry, the book 'Data Structures and Algorithms' by Alice Brown is currently not available.\n",
      "Book 'Python Programming' by John Smith has been returned. Thank you!\n",
      "Book 'Data Structures and Algorithms' by Alice Brown has been returned. Thank you!\n",
      "\n",
      "Updated Book Information:\n",
      "Book Name: Python Programming, Author: John Smith, Available: True\n",
      "Book Name: Data Structures and Algorithms, Author: Alice Brown, Available: True\n"
     ]
    }
   ],
   "source": [
    "class LibraryBook:\n",
    "    def __init__(self, book_name, author, availability=True):\n",
    "        self._book_name = book_name\n",
    "        self._author = author\n",
    "        self._availability = availability  # True if available, False if borrowed\n",
    "    \n",
    "    def get_book_name(self):\n",
    "        return self._book_name\n",
    "    \n",
    "    def get_author(self):\n",
    "        return self._author\n",
    "    \n",
    "    def is_available(self):\n",
    "        return self._availability\n",
    "    \n",
    "    def borrow_book(self):\n",
    "        if self._availability:\n",
    "            self._availability = False\n",
    "            print(f\"Book '{self._book_name}' by {self._author} has been borrowed.\")\n",
    "        else:\n",
    "            print(f\"Sorry, the book '{self._book_name}' by {self._author} is currently not available.\")\n",
    "    \n",
    "    def return_book(self):\n",
    "        if not self._availability:\n",
    "            self._availability = True\n",
    "            print(f\"Book '{self._book_name}' by {self._author} has been returned. Thank you!\")\n",
    "        else:\n",
    "            print(f\"This book '{self._book_name}' by {self._author} is already available in the library.\")\n",
    "\n",
    "# Testing the LibraryBook class\n",
    "if __name__ == \"__main__\":\n",
    "    # Create instances of LibraryBook\n",
    "    book1 = LibraryBook(\"Python Programming\", \"John Smith\")\n",
    "    book2 = LibraryBook(\"Data Structures and Algorithms\", \"Alice Brown\", availability=False)\n",
    "    \n",
    "    # Display initial book information\n",
    "    print(\"Initial Book Information:\")\n",
    "    print(f\"Book Name: {book1.get_book_name()}, Author: {book1.get_author()}, Available: {book1.is_available()}\")\n",
    "    print(f\"Book Name: {book2.get_book_name()}, Author: {book2.get_author()}, Available: {book2.is_available()}\")\n",
    "    \n",
    "    # Borrow and return operations\n",
    "    print(\"\\nBorrowing and Returning Operations:\")\n",
    "    book1.borrow_book()  # Borrow available book\n",
    "    book2.borrow_book()  # Attempt to borrow already borrowed book\n",
    "    book1.return_book()  # Return borrowed book\n",
    "    book2.return_book()  # Attempt to return already available book\n",
    "    \n",
    "    # Display updated book information\n",
    "    print(\"\\nUpdated Book Information:\")\n",
    "    print(f\"Book Name: {book1.get_book_name()}, Author: {book1.get_author()}, Available: {book1.is_available()}\")\n",
    "    print(f\"Book Name: {book2.get_book_name()}, Author: {book2.get_author()}, Available: {book2.is_available()}\")\n"
   ]
  },
  {
   "cell_type": "code",
   "execution_count": null,
   "id": "4182d82c-4b90-4bdb-826e-b93421812eb3",
   "metadata": {},
   "outputs": [],
   "source": []
  },
  {
   "cell_type": "markdown",
   "id": "32a839e9-8b50-4a69-a733-295521d98a5b",
   "metadata": {},
   "source": [
    "__4.__\n",
    "Create a simple baning system using object-oriented concepts in Python. Design classes representing\n",
    "different types of ban accounts such as savings and checing. Implement methods for deposit, withdraw,\n",
    "and balance inquiry. Utilize inheritance to manage different account types efficiently.\n",
    "Tasks\n",
    "\n",
    " Define base class(es) for bank accounts with common attributes and methods\n",
    " \n",
    " Implement subclasses for specific account types (e.g., SavingsAccount, CheckingAccount)\n",
    " \n",
    " Provide methods for deposit, withdraw, and balance inquiry in each subclass\n",
    " \n",
    " Test the banking system by creating instances of different account types and performing transactions."
   ]
  },
  {
   "cell_type": "code",
   "execution_count": 3,
   "id": "52dd70bd-5dc1-44f5-9b7b-ef4a92e18e0a",
   "metadata": {},
   "outputs": [
    {
     "name": "stdout",
     "output_type": "stream",
     "text": [
      "Operations on Savings Account:\n",
      "Account Number: SA001\n",
      "Current Balance: $1000\n",
      "Deposited $500. New balance is $1500.\n",
      "Interest added. Current balance is $1530.0.\n",
      "Withdrawal amount must be greater than zero and less than or equal to balance.\n",
      "Account Number: SA001\n",
      "Current Balance: $1530.0\n",
      "\n",
      "Operations on Checking Account:\n",
      "Account Number: CA001\n",
      "Current Balance: $500\n",
      "Deposited $200. New balance is $700.\n",
      "Withdrew $700. New balance is $0.\n",
      "Withdrawal amount exceeds available balance.\n",
      "Account Number: CA001\n",
      "Current Balance: $0\n"
     ]
    }
   ],
   "source": [
    "class BankAccount:\n",
    "    def __init__(self, account_number, balance=0):\n",
    "        self.account_number = account_number\n",
    "        self.balance = balance\n",
    "    \n",
    "    def deposit(self, amount):\n",
    "        if amount > 0:\n",
    "            self.balance += amount\n",
    "            print(f\"Deposited ${amount}. New balance is ${self.balance}.\")\n",
    "        else:\n",
    "            print(\"Deposit amount must be greater than zero.\")\n",
    "    \n",
    "    def withdraw(self, amount):\n",
    "        if 0 < amount <= self.balance:\n",
    "            self.balance -= amount\n",
    "            print(f\"Withdrew ${amount}. New balance is ${self.balance}.\")\n",
    "        else:\n",
    "            print(\"Withdrawal amount must be greater than zero and less than or equal to balance.\")\n",
    "    \n",
    "    def inquiry(self):\n",
    "        print(f\"Account Number: {self.account_number}\")\n",
    "        print(f\"Current Balance: ${self.balance}\")\n",
    "\n",
    "\n",
    "class SavingsAccount(BankAccount):\n",
    "    def __init__(self, account_number, balance=0, interest_rate=0.01):\n",
    "        super().__init__(account_number, balance)\n",
    "        self.interest_rate = interest_rate\n",
    "    \n",
    "    def add_interest(self):\n",
    "        interest = self.balance * self.interest_rate\n",
    "        self.balance += interest\n",
    "        print(f\"Interest added. Current balance is ${self.balance}.\")\n",
    "\n",
    "\n",
    "class CheckingAccount(BankAccount):\n",
    "    def __init__(self, account_number, balance=0, overdraft_limit=100):\n",
    "        super().__init__(account_number, balance)\n",
    "        self.overdraft_limit = overdraft_limit\n",
    "    \n",
    "    def withdraw(self, amount):\n",
    "        available_balance = self.balance + self.overdraft_limit\n",
    "        if 0 < amount <= available_balance:\n",
    "            self.balance -= amount\n",
    "            print(f\"Withdrew ${amount}. New balance is ${self.balance}.\")\n",
    "        else:\n",
    "            print(\"Withdrawal amount exceeds available balance.\")\n",
    "\n",
    "\n",
    "# Testing the banking system\n",
    "if __name__ == \"__main__\":\n",
    "    # Create instances of different account types\n",
    "    savings_account = SavingsAccount(\"SA001\", 1000, 0.02)\n",
    "    checking_account = CheckingAccount(\"CA001\", 500, 200)\n",
    "    \n",
    "    # Perform operations on savings account\n",
    "    print(\"Operations on Savings Account:\")\n",
    "    savings_account.inquiry()\n",
    "    savings_account.deposit(500)\n",
    "    savings_account.add_interest()\n",
    "    savings_account.withdraw(2000)\n",
    "    savings_account.inquiry()\n",
    "    \n",
    "    # Perform operations on checking account\n",
    "    print(\"\\nOperations on Checking Account:\")\n",
    "    checking_account.inquiry()\n",
    "    checking_account.deposit(200)\n",
    "    checking_account.withdraw(700)\n",
    "    checking_account.withdraw(1000)\n",
    "    checking_account.inquiry()\n"
   ]
  },
  {
   "cell_type": "code",
   "execution_count": null,
   "id": "eb65b581-237c-4a76-a1db-fb6aae69320c",
   "metadata": {},
   "outputs": [],
   "source": []
  },
  {
   "cell_type": "markdown",
   "id": "50c4a47e-203a-47ce-b61a-c261bbc37fe1",
   "metadata": {},
   "source": [
    "__5.__ \n",
    "Write a Python program that models different animals and their sounds. Design a base class called\n",
    "`Animal` with a method `mae_sound()`. Create subclasses lie `Dog` and `Cat` that override the\n",
    "`mae_sound()` method to produce appropriate sounds.\n",
    "Tasks\n",
    "\n",
    "Define the `Animal` class with a method `make_sound()`\n",
    "\n",
    "Create subclasses `Dog` and `Cat` that override the `make_sound()` method\n",
    "\n",
    "Implement the sound generation logic for each subclass\n",
    "\n",
    "Test the program by creating instances of `Dog` and `Cat` and calling the `make_sound()` method."
   ]
  },
  {
   "cell_type": "code",
   "execution_count": 4,
   "id": "15efebcf-ffbf-45f7-a0f8-7e7c3a2ba03a",
   "metadata": {},
   "outputs": [
    {
     "name": "stdout",
     "output_type": "stream",
     "text": [
      "Dog makes the sound:\n",
      "Woof! Woof!\n",
      "\n",
      "Cat makes the sound:\n",
      "Meow!\n"
     ]
    }
   ],
   "source": [
    "class Animal:\n",
    "    def make_sound(self):\n",
    "        pass  # This method will be overridden by subclasses\n",
    "\n",
    "class Dog(Animal):\n",
    "    def make_sound(self):\n",
    "        print(\"Woof! Woof!\")\n",
    "\n",
    "class Cat(Animal):\n",
    "    def make_sound(self):\n",
    "        print(\"Meow!\")\n",
    "\n",
    "# Testing the program\n",
    "if __name__ == \"__main__\":\n",
    "    dog = Dog()\n",
    "    cat = Cat()\n",
    "    \n",
    "    print(\"Dog makes the sound:\")\n",
    "    dog.make_sound()\n",
    "    \n",
    "    print(\"\\nCat makes the sound:\")\n",
    "    cat.make_sound()\n"
   ]
  },
  {
   "cell_type": "code",
   "execution_count": null,
   "id": "b7d25fb5-7f57-4a24-8cbf-346fc26d2450",
   "metadata": {},
   "outputs": [],
   "source": []
  },
  {
   "cell_type": "markdown",
   "id": "0342560b-fa60-4f3e-9dbb-d79b2e293dae",
   "metadata": {},
   "source": [
    "__6.__\n",
    "Write a code for Restaurant Management System Using OOPS:\n",
    "Create a MenuItem class that has attributes such as name, description, price, and category.\n",
    "\n",
    "Implement methods to add a new menu item, update menu item information, and remove a menu item from the menu\n",
    "\n",
    "Use encapsulation to hide the menu item's unique identifi'ation number\n",
    "\n",
    "Inherit from the MenuItem 'lass to 'reate a FoodItem 'lass and a BeverageItem class, each with their own\n",
    "specific attributes and methods."
   ]
  },
  {
   "cell_type": "code",
   "execution_count": 5,
   "id": "4aa5d586-b8a3-4aa0-abb0-ea4e0d9b932f",
   "metadata": {},
   "outputs": [
    {
     "name": "stdout",
     "output_type": "stream",
     "text": [
      "Initial Menu Items:\n",
      "Spaghetti Carbonara - Pasta with egg, cheese, pancetta, and black pepper - $12.99 - Category: Main Course - Cuisine: Italian\n",
      "Chicken Tikka Masala - Grilled chicken in spiced curry sauce - $14.99 - Category: Main Course - Cuisine: Indian\n",
      "Coca-Cola - Classic soft drink - $2.49 - Category: Beverage - Type: Soft Drink\n",
      "\n",
      "Updated Menu Items:\n",
      "Spaghetti Carbonara - Pasta with egg, cheese, pancetta, and black pepper - $13.99 - Category: Main Course - Cuisine: Italian\n",
      "Chicken Tikka Masala - Grilled chicken in spiced curry sauce - $14.99 - Category: Main Course - Cuisine: British Indian\n",
      "Coca-Cola - Classic soft drink - $2.49 - Category: Beverage - Type: Soda\n"
     ]
    }
   ],
   "source": [
    "class MenuItem:\n",
    "    def __init__(self, name, description, price, category):\n",
    "        self._name = name\n",
    "        self._description = description\n",
    "        self._price = price\n",
    "        self._category = category\n",
    "        self._menu_id = None  # Encapsulated unique identification number\n",
    "    \n",
    "    def set_menu_id(self, menu_id):\n",
    "        self._menu_id = menu_id\n",
    "    \n",
    "    def get_name(self):\n",
    "        return self._name\n",
    "    \n",
    "    def get_description(self):\n",
    "        return self._description\n",
    "    \n",
    "    def get_price(self):\n",
    "        return self._price\n",
    "    \n",
    "    def get_category(self):\n",
    "        return self._category\n",
    "    \n",
    "    def update_information(self, name=None, description=None, price=None, category=None):\n",
    "        if name:\n",
    "            self._name = name\n",
    "        if description:\n",
    "            self._description = description\n",
    "        if price:\n",
    "            self._price = price\n",
    "        if category:\n",
    "            self._category = category\n",
    "    \n",
    "    def __str__(self):\n",
    "        return f\"{self._name} - {self._description} - ${self._price} - Category: {self._category}\"\n",
    "\n",
    "\n",
    "class FoodItem(MenuItem):\n",
    "    def __init__(self, name, description, price, category, cuisine):\n",
    "        super().__init__(name, description, price, category)\n",
    "        self._cuisine = cuisine\n",
    "    \n",
    "    def get_cuisine(self):\n",
    "        return self._cuisine\n",
    "    \n",
    "    def update_cuisine(self, cuisine):\n",
    "        self._cuisine = cuisine\n",
    "    \n",
    "    def __str__(self):\n",
    "        return super().__str__() + f\" - Cuisine: {self._cuisine}\"\n",
    "\n",
    "\n",
    "class BeverageItem(MenuItem):\n",
    "    def __init__(self, name, description, price, category, type):\n",
    "        super().__init__(name, description, price, category)\n",
    "        self._type = type\n",
    "    \n",
    "    def get_type(self):\n",
    "        return self._type\n",
    "    \n",
    "    def update_type(self, type):\n",
    "        self._type = type\n",
    "    \n",
    "    def __str__(self):\n",
    "        return super().__str__() + f\" - Type: {self._type}\"\n",
    "\n",
    "\n",
    "# Testing the Restaurant Management System\n",
    "if __name__ == \"__main__\":\n",
    "    # Create some menu items\n",
    "    item1 = FoodItem(\"Spaghetti Carbonara\", \"Pasta with egg, cheese, pancetta, and black pepper\", 12.99, \"Main Course\", \"Italian\")\n",
    "    item2 = FoodItem(\"Chicken Tikka Masala\", \"Grilled chicken in spiced curry sauce\", 14.99, \"Main Course\", \"Indian\")\n",
    "    item3 = BeverageItem(\"Coca-Cola\", \"Classic soft drink\", 2.49, \"Beverage\", \"Soft Drink\")\n",
    "    \n",
    "    # Display menu items\n",
    "    print(\"Initial Menu Items:\")\n",
    "    print(item1)\n",
    "    print(item2)\n",
    "    print(item3)\n",
    "    \n",
    "    # Update menu item\n",
    "    item1.update_information(price=13.99)\n",
    "    item2.update_cuisine(\"British Indian\")\n",
    "    item3.update_type(\"Soda\")\n",
    "    \n",
    "    # Display updated menu items\n",
    "    print(\"\\nUpdated Menu Items:\")\n",
    "    print(item1)\n",
    "    print(item2)\n",
    "    print(item3)\n"
   ]
  },
  {
   "cell_type": "code",
   "execution_count": null,
   "id": "cf12439d-4521-4bad-b08e-936878636db4",
   "metadata": {},
   "outputs": [],
   "source": []
  },
  {
   "cell_type": "markdown",
   "id": "99ce2fd8-23e9-4e4c-bf42-28ed1c4a0c66",
   "metadata": {},
   "source": [
    "__7.__\n",
    "Write a code for Hotel Management System using OOPS\n",
    "\n",
    "Create a Room class that has attributes such as room number, room type, rate, and availability (private)\n",
    "\n",
    "Implement methods to book a room, check in a guest, and check out a guest\n",
    "\n",
    "Use encapsulation to hide the room's unique identification number\n",
    "\n",
    "Inherit from the Room class to create a SuiteRoom class and a StandardRoom class, each with their own\n",
    "specific attributes and methods."
   ]
  },
  {
   "cell_type": "code",
   "execution_count": 6,
   "id": "0dfb5cac-94ae-4edc-ba2e-18eca39bb2bd",
   "metadata": {},
   "outputs": [
    {
     "name": "stdout",
     "output_type": "stream",
     "text": [
      "Initial Room Details:\n",
      "Room Number: 101, Type: Suite, Rate: $300 per night, Description: Spacious suite with luxurious amenities\n",
      "Room Number: 201, Type: Standard, Rate: $150 per night, Bed Type: Double\n",
      "Room 101 has been booked.\n",
      "Guest checked into Room 101.\n",
      "Room 201 has been booked.\n",
      "Guest checked into Room 201.\n",
      "Guest checked out from Room 101.\n",
      "Guest checked out from Room 201.\n",
      "\n",
      "Updated Room Availability:\n",
      "Room 101 Available: True\n",
      "Room 201 Available: True\n"
     ]
    }
   ],
   "source": [
    "class Room:\n",
    "    def __init__(self, room_number, room_type, rate):\n",
    "        self._room_number = room_number\n",
    "        self._room_type = room_type\n",
    "        self._rate = rate\n",
    "        self._available = True  # Encapsulated availability status\n",
    "    \n",
    "    def book_room(self):\n",
    "        if self._available:\n",
    "            self._available = False\n",
    "            print(f\"Room {self._room_number} has been booked.\")\n",
    "        else:\n",
    "            print(f\"Sorry, Room {self._room_number} is not available.\")\n",
    "    \n",
    "    def check_in_guest(self):\n",
    "        if not self._available:\n",
    "            print(f\"Guest checked into Room {self._room_number}.\")\n",
    "        else:\n",
    "            print(f\"Cannot check in. Room {self._room_number} is not booked.\")\n",
    "    \n",
    "    def check_out_guest(self):\n",
    "        if not self._available:\n",
    "            self._available = True\n",
    "            print(f\"Guest checked out from Room {self._room_number}.\")\n",
    "        else:\n",
    "            print(f\"Room {self._room_number} is already available.\")\n",
    "    \n",
    "    def get_room_number(self):\n",
    "        return self._room_number\n",
    "    \n",
    "    def get_room_type(self):\n",
    "        return self._room_type\n",
    "    \n",
    "    def get_rate(self):\n",
    "        return self._rate\n",
    "    \n",
    "    def is_available(self):\n",
    "        return self._available\n",
    "    \n",
    "    def update_rate(self, new_rate):\n",
    "        self._rate = new_rate\n",
    "    \n",
    "    def __str__(self):\n",
    "        return f\"Room Number: {self._room_number}, Type: {self._room_type}, Rate: ${self._rate} per night\"\n",
    "\n",
    "\n",
    "class SuiteRoom(Room):\n",
    "    def __init__(self, room_number, rate):\n",
    "        super().__init__(room_number, \"Suite\", rate)\n",
    "        self._suite_description = \"Spacious suite with luxurious amenities\"\n",
    "    \n",
    "    def get_suite_description(self):\n",
    "        return self._suite_description\n",
    "    \n",
    "    def __str__(self):\n",
    "        return super().__str__() + f\", Description: {self._suite_description}\"\n",
    "\n",
    "\n",
    "class StandardRoom(Room):\n",
    "    def __init__(self, room_number, rate):\n",
    "        super().__init__(room_number, \"Standard\", rate)\n",
    "        self._bed_type = \"Double\"\n",
    "    \n",
    "    def get_bed_type(self):\n",
    "        return self._bed_type\n",
    "    \n",
    "    def __str__(self):\n",
    "        return super().__str__() + f\", Bed Type: {self._bed_type}\"\n",
    "\n",
    "\n",
    "# Testing the Hotel Management System\n",
    "if __name__ == \"__main__\":\n",
    "    # Create some rooms\n",
    "    room1 = SuiteRoom(101, 300)\n",
    "    room2 = StandardRoom(201, 150)\n",
    "    \n",
    "    # Display room details\n",
    "    print(\"Initial Room Details:\")\n",
    "    print(room1)\n",
    "    print(room2)\n",
    "    \n",
    "    # Book and check in a guest\n",
    "    room1.book_room()\n",
    "    room1.check_in_guest()\n",
    "    room2.book_room()\n",
    "    room2.check_in_guest()\n",
    "    \n",
    "    # Check out a guest\n",
    "    room1.check_out_guest()\n",
    "    room2.check_out_guest()\n",
    "    \n",
    "    # Display updated room availability\n",
    "    print(\"\\nUpdated Room Availability:\")\n",
    "    print(f\"Room {room1.get_room_number()} Available: {room1.is_available()}\")\n",
    "    print(f\"Room {room2.get_room_number()} Available: {room2.is_available()}\")\n"
   ]
  },
  {
   "cell_type": "code",
   "execution_count": null,
   "id": "ee8bebe9-9066-4868-9288-d5bf4ba11ce6",
   "metadata": {},
   "outputs": [],
   "source": []
  },
  {
   "cell_type": "markdown",
   "id": "1648fe9a-b9da-4f5c-a1de-b76ab4af8df6",
   "metadata": {},
   "source": [
    "__8.__\n",
    "Write a code for Fitness Club Management System using OOPS\n",
    "\n",
    "Create a Member class that has attributes such as name, age, membership type, and membership status\n",
    "(private)\n",
    "\n",
    "Implement methods to register a new member, renew a membership, and cancel a membership\n",
    "\n",
    "Use encapsulation to hide the member's unique identifi'ation number\n",
    "\n",
    "Inherit from the Member class to create a FamilyMember class and an IndividualMember class, each with\n",
    "their own specific attributes and methods."
   ]
  },
  {
   "cell_type": "code",
   "execution_count": 7,
   "id": "95395a27-2fcd-49d0-b422-db89bf9a3a16",
   "metadata": {},
   "outputs": [
    {
     "name": "stdout",
     "output_type": "stream",
     "text": [
      "Individual Members:\n",
      "Member ID: None, Name: John Doe, Age: 30, Membership Type: Gold, Status: Active, Trainer Assigned: None\n",
      "Member ID: None, Name: Jane Smith, Age: 25, Membership Type: Silver, Status: Active, Trainer Assigned: None\n",
      "\n",
      "Family Member:\n",
      "Member ID: None, Name: David Doe, Age: 40, Membership Type: Platinum, Status: Active, Family Members: Alice Doe, Bob Doe, Charlie Doe\n",
      "Membership for John Doe is already active.\n",
      "Membership for Jane Smith has been cancelled.\n",
      "Trainer Trainer A has been assigned to John Doe.\n",
      "\n",
      "Updated Member Details:\n",
      "Member ID: None, Name: John Doe, Age: 30, Membership Type: Gold, Status: Active, Trainer Assigned: Trainer A\n",
      "Member ID: None, Name: Jane Smith, Age: 25, Membership Type: Silver, Status: Cancelled, Trainer Assigned: None\n",
      "\n",
      "Family Member Details:\n",
      "Member ID: None, Name: David Doe, Age: 40, Membership Type: Platinum, Status: Active, Family Members: Alice Doe, Bob Doe, Charlie Doe\n"
     ]
    }
   ],
   "source": [
    "class Member:\n",
    "    def __init__(self, name, age, membership_type):\n",
    "        self._name = name\n",
    "        self._age = age\n",
    "        self._membership_type = membership_type\n",
    "        self._membership_status = \"Active\"  # Encapsulated membership status\n",
    "        self._member_id = None  # Encapsulated unique identification number\n",
    "    \n",
    "    def set_member_id(self, member_id):\n",
    "        self._member_id = member_id\n",
    "    \n",
    "    def get_name(self):\n",
    "        return self._name\n",
    "    \n",
    "    def get_age(self):\n",
    "        return self._age\n",
    "    \n",
    "    def get_membership_type(self):\n",
    "        return self._membership_type\n",
    "    \n",
    "    def get_membership_status(self):\n",
    "        return self._membership_status\n",
    "    \n",
    "    def renew_membership(self):\n",
    "        if self._membership_status == \"Active\":\n",
    "            print(f\"Membership for {self._name} is already active.\")\n",
    "        else:\n",
    "            self._membership_status = \"Active\"\n",
    "            print(f\"Membership for {self._name} has been renewed.\")\n",
    "    \n",
    "    def cancel_membership(self):\n",
    "        if self._membership_status == \"Cancelled\":\n",
    "            print(f\"Membership for {self._name} is already cancelled.\")\n",
    "        else:\n",
    "            self._membership_status = \"Cancelled\"\n",
    "            print(f\"Membership for {self._name} has been cancelled.\")\n",
    "    \n",
    "    def __str__(self):\n",
    "        return f\"Member ID: {self._member_id}, Name: {self._name}, Age: {self._age}, Membership Type: {self._membership_type}, Status: {self._membership_status}\"\n",
    "\n",
    "\n",
    "class IndividualMember(Member):\n",
    "    def __init__(self, name, age, membership_type):\n",
    "        super().__init__(name, age, membership_type)\n",
    "        self._trainer_assigned = None\n",
    "    \n",
    "    def assign_trainer(self, trainer_name):\n",
    "        self._trainer_assigned = trainer_name\n",
    "        print(f\"Trainer {trainer_name} has been assigned to {self._name}.\")\n",
    "    \n",
    "    def get_assigned_trainer(self):\n",
    "        return self._trainer_assigned\n",
    "    \n",
    "    def __str__(self):\n",
    "        return super().__str__() + f\", Trainer Assigned: {self._trainer_assigned}\"\n",
    "\n",
    "\n",
    "class FamilyMember(Member):\n",
    "    def __init__(self, name, age, membership_type, family_members):\n",
    "        super().__init__(name, age, membership_type)\n",
    "        self._family_members = family_members\n",
    "    \n",
    "    def get_family_members(self):\n",
    "        return self._family_members\n",
    "    \n",
    "    def __str__(self):\n",
    "        return super().__str__() + f\", Family Members: {', '.join(self._family_members)}\"\n",
    "\n",
    "\n",
    "# Testing the Fitness Club Management System\n",
    "if __name__ == \"__main__\":\n",
    "    # Create individual members\n",
    "    member1 = IndividualMember(\"John Doe\", 30, \"Gold\")\n",
    "    member2 = IndividualMember(\"Jane Smith\", 25, \"Silver\")\n",
    "    \n",
    "    # Create family members\n",
    "    family_members = [\"Alice Doe\", \"Bob Doe\", \"Charlie Doe\"]\n",
    "    family_member = FamilyMember(\"David Doe\", 40, \"Platinum\", family_members)\n",
    "    \n",
    "    # Display member details\n",
    "    print(\"Individual Members:\")\n",
    "    print(member1)\n",
    "    print(member2)\n",
    "    \n",
    "    print(\"\\nFamily Member:\")\n",
    "    print(family_member)\n",
    "    \n",
    "    # Operations on individual members\n",
    "    member1.renew_membership()\n",
    "    member2.cancel_membership()\n",
    "    member1.assign_trainer(\"Trainer A\")\n",
    "    \n",
    "    # Display updated member details\n",
    "    print(\"\\nUpdated Member Details:\")\n",
    "    print(member1)\n",
    "    print(member2)\n",
    "    \n",
    "    # Display family member details\n",
    "    print(\"\\nFamily Member Details:\")\n",
    "    print(family_member)\n"
   ]
  },
  {
   "cell_type": "code",
   "execution_count": null,
   "id": "1554f570-819f-4cda-a844-d7fe5a971589",
   "metadata": {},
   "outputs": [],
   "source": []
  },
  {
   "cell_type": "markdown",
   "id": "0e80f0c8-d870-4ca7-a2f5-af3210e661cd",
   "metadata": {},
   "source": [
    "__9.__\n",
    "Write a code for Event Management System using OOPS\n",
    "\n",
    "Create an Event 'lass that has attributes su'h as name, date, time, lo'ation, and list of attendees (private)\n",
    "\n",
    "Implement methods to 'reate a new event, add or remove attendees, and get the total number of attendees.\n",
    "\n",
    "Use en'apsulation to hide the event's unique identifi'ation number.\n",
    "\n",
    "Inherit from the Event 'lass to 'reate a PrivateEvent 'lass and a Publi'Event 'lass, ea'h with their own\n",
    "spe'ifi' attributes and methods."
   ]
  },
  {
   "cell_type": "code",
   "execution_count": 8,
   "id": "1b4c2639-0f7c-4d93-960c-dfed839e1292",
   "metadata": {},
   "outputs": [
    {
     "name": "stdout",
     "output_type": "stream",
     "text": [
      "Alice has been added to the event.\n",
      "Bob has been added to the event.\n",
      "Charlie has been added to the event.\n",
      "David has been added to the event.\n",
      "Eve has been added to the event.\n",
      "Private Event Details:\n",
      "Event ID: None, Name: Private Party, Date: 2024-07-20, Time: 18:00, Location: Private Residence, Attendees: Alice, Bob, Host: John Doe\n",
      "\n",
      "Public Event Details:\n",
      "Event ID: None, Name: Public Conference, Date: 2024-08-15, Time: 09:00, Location: Convention Center, Attendees: Charlie, David, Eve, Organizer: XYZ Company\n",
      "David has been removed from the event.\n",
      "\n",
      "Updated Public Event Details:\n",
      "Event ID: None, Name: Public Conference, Date: 2024-08-15, Time: 09:00, Location: Convention Center, Attendees: Charlie, Eve, Organizer: XYZ Company\n"
     ]
    }
   ],
   "source": [
    "class Event:\n",
    "    def __init__(self, name, date, time, location):\n",
    "        self._name = name\n",
    "        self._date = date\n",
    "        self._time = time\n",
    "        self._location = location\n",
    "        self._attendees = []  # Encapsulated list of attendees\n",
    "        self._event_id = None  # Encapsulated unique identification number\n",
    "    \n",
    "    def set_event_id(self, event_id):\n",
    "        self._event_id = event_id\n",
    "    \n",
    "    def get_name(self):\n",
    "        return self._name\n",
    "    \n",
    "    def get_date(self):\n",
    "        return self._date\n",
    "    \n",
    "    def get_time(self):\n",
    "        return self._time\n",
    "    \n",
    "    def get_location(self):\n",
    "        return self._location\n",
    "    \n",
    "    def get_attendees(self):\n",
    "        return self._attendees\n",
    "    \n",
    "    def get_total_attendees(self):\n",
    "        return len(self._attendees)\n",
    "    \n",
    "    def add_attendee(self, attendee):\n",
    "        self._attendees.append(attendee)\n",
    "        print(f\"{attendee} has been added to the event.\")\n",
    "    \n",
    "    def remove_attendee(self, attendee):\n",
    "        if attendee in self._attendees:\n",
    "            self._attendees.remove(attendee)\n",
    "            print(f\"{attendee} has been removed from the event.\")\n",
    "        else:\n",
    "            print(f\"{attendee} is not attending this event.\")\n",
    "    \n",
    "    def __str__(self):\n",
    "        return f\"Event ID: {self._event_id}, Name: {self._name}, Date: {self._date}, Time: {self._time}, Location: {self._location}, Attendees: {', '.join(self._attendees)}\"\n",
    "\n",
    "\n",
    "class PrivateEvent(Event):\n",
    "    def __init__(self, name, date, time, location, host):\n",
    "        super().__init__(name, date, time, location)\n",
    "        self._host = host\n",
    "    \n",
    "    def get_host(self):\n",
    "        return self._host\n",
    "    \n",
    "    def __str__(self):\n",
    "        return super().__str__() + f\", Host: {self._host}\"\n",
    "\n",
    "\n",
    "class PublicEvent(Event):\n",
    "    def __init__(self, name, date, time, location, organizer):\n",
    "        super().__init__(name, date, time, location)\n",
    "        self._organizer = organizer\n",
    "    \n",
    "    def get_organizer(self):\n",
    "        return self._organizer\n",
    "    \n",
    "    def __str__(self):\n",
    "        return super().__str__() + f\", Organizer: {self._organizer}\"\n",
    "\n",
    "\n",
    "# Testing the Event Management System\n",
    "if __name__ == \"__main__\":\n",
    "    # Create private and public events\n",
    "    private_event = PrivateEvent(\"Private Party\", \"2024-07-20\", \"18:00\", \"Private Residence\", \"John Doe\")\n",
    "    public_event = PublicEvent(\"Public Conference\", \"2024-08-15\", \"09:00\", \"Convention Center\", \"XYZ Company\")\n",
    "    \n",
    "    # Add attendees to events\n",
    "    private_event.add_attendee(\"Alice\")\n",
    "    private_event.add_attendee(\"Bob\")\n",
    "    public_event.add_attendee(\"Charlie\")\n",
    "    public_event.add_attendee(\"David\")\n",
    "    public_event.add_attendee(\"Eve\")\n",
    "    \n",
    "    # Display event details\n",
    "    print(\"Private Event Details:\")\n",
    "    print(private_event)\n",
    "    \n",
    "    print(\"\\nPublic Event Details:\")\n",
    "    print(public_event)\n",
    "    \n",
    "    # Remove an attendee from a public event\n",
    "    public_event.remove_attendee(\"David\")\n",
    "    \n",
    "    # Display updated event details\n",
    "    print(\"\\nUpdated Public Event Details:\")\n",
    "    print(public_event)\n"
   ]
  },
  {
   "cell_type": "code",
   "execution_count": null,
   "id": "dcdcc8b1-e90a-4a33-a31b-5da7f82cb05a",
   "metadata": {},
   "outputs": [],
   "source": []
  },
  {
   "cell_type": "markdown",
   "id": "c6da634d-7551-49cf-8184-4f2d94e965e5",
   "metadata": {},
   "source": [
    "__10.__\n",
    "\n",
    "Write a code for Airline Reservation System using OOPS\n",
    "\n",
    "Create a Flight class that has attributes such as flight number, departure and arrival airports, departure and\n",
    "arrival times, and available seats (private)\n",
    "\n",
    "Implement methods to book a seat, cancel a reservation, and get the remaining available seats\n",
    "\n",
    "Use en'apsulation to hide the flight's unique identification number\n",
    "\n",
    "Inherit from the Flight class to create a Domesti'Flight class and an InternationalFlight class, each with their\n",
    "own specific attributes and methods."
   ]
  },
  {
   "cell_type": "code",
   "execution_count": 9,
   "id": "b1e9f6e8-0dbc-411e-b029-3df768cc9686",
   "metadata": {},
   "outputs": [
    {
     "name": "stdout",
     "output_type": "stream",
     "text": [
      "Domestic Flight Details:\n",
      "Flight ID: None, Flight Number: DA123, Departure: JFK, Arrival: LAX, Departure Time: 08:00, Arrival Time: 11:00, Available Seats: 150/150, Domestic Airline: Domestic Airlines\n",
      "\n",
      "International Flight Details:\n",
      "Flight ID: None, Flight Number: IA456, Departure: JFK, Arrival: LHR, Departure Time: 14:00, Arrival Time: 06:00, Available Seats: 200/200, International Airline: International Airlines\n",
      "Seat booked successfully.\n",
      "Seat booked successfully.\n",
      "Seat booked successfully.\n",
      "\n",
      "Updated Flight Details:\n",
      "Flight ID: None, Flight Number: DA123, Departure: JFK, Arrival: LAX, Departure Time: 08:00, Arrival Time: 11:00, Available Seats: 148/150, Domestic Airline: Domestic Airlines\n",
      "Flight ID: None, Flight Number: IA456, Departure: JFK, Arrival: LHR, Departure Time: 14:00, Arrival Time: 06:00, Available Seats: 199/200, International Airline: International Airlines\n",
      "Reservation cancelled successfully.\n",
      "Reservation cancelled successfully.\n",
      "\n",
      "Final Flight Details:\n",
      "Flight ID: None, Flight Number: DA123, Departure: JFK, Arrival: LAX, Departure Time: 08:00, Arrival Time: 11:00, Available Seats: 149/150, Domestic Airline: Domestic Airlines\n",
      "Flight ID: None, Flight Number: IA456, Departure: JFK, Arrival: LHR, Departure Time: 14:00, Arrival Time: 06:00, Available Seats: 200/200, International Airline: International Airlines\n"
     ]
    }
   ],
   "source": [
    "class Flight:\n",
    "    def __init__(self, flight_number, departure_airport, arrival_airport, departure_time, arrival_time, total_seats):\n",
    "        self._flight_number = flight_number\n",
    "        self._departure_airport = departure_airport\n",
    "        self._arrival_airport = arrival_airport\n",
    "        self._departure_time = departure_time\n",
    "        self._arrival_time = arrival_time\n",
    "        self._total_seats = total_seats\n",
    "        self._available_seats = total_seats  # Encapsulated available seats\n",
    "        self._flight_id = None  # Encapsulated unique identification number\n",
    "    \n",
    "    def set_flight_id(self, flight_id):\n",
    "        self._flight_id = flight_id\n",
    "    \n",
    "    def get_flight_number(self):\n",
    "        return self._flight_number\n",
    "    \n",
    "    def get_departure_airport(self):\n",
    "        return self._departure_airport\n",
    "    \n",
    "    def get_arrival_airport(self):\n",
    "        return self._arrival_airport\n",
    "    \n",
    "    def get_departure_time(self):\n",
    "        return self._departure_time\n",
    "    \n",
    "    def get_arrival_time(self):\n",
    "        return self._arrival_time\n",
    "    \n",
    "    def get_available_seats(self):\n",
    "        return self._available_seats\n",
    "    \n",
    "    def book_seat(self):\n",
    "        if self._available_seats > 0:\n",
    "            self._available_seats -= 1\n",
    "            print(\"Seat booked successfully.\")\n",
    "        else:\n",
    "            print(\"Sorry, no seats available on this flight.\")\n",
    "    \n",
    "    def cancel_reservation(self):\n",
    "        if self._available_seats < self._total_seats:\n",
    "            self._available_seats += 1\n",
    "            print(\"Reservation cancelled successfully.\")\n",
    "        else:\n",
    "            print(\"There are no reservations to cancel on this flight.\")\n",
    "    \n",
    "    def __str__(self):\n",
    "        return f\"Flight ID: {self._flight_id}, Flight Number: {self._flight_number}, Departure: {self._departure_airport}, Arrival: {self._arrival_airport}, Departure Time: {self._departure_time}, Arrival Time: {self._arrival_time}, Available Seats: {self._available_seats}/{self._total_seats}\"\n",
    "\n",
    "\n",
    "class DomesticFlight(Flight):\n",
    "    def __init__(self, flight_number, departure_airport, arrival_airport, departure_time, arrival_time, total_seats, domestic_airline):\n",
    "        super().__init__(flight_number, departure_airport, arrival_airport, departure_time, arrival_time, total_seats)\n",
    "        self._domestic_airline = domestic_airline\n",
    "    \n",
    "    def get_domestic_airline(self):\n",
    "        return self._domestic_airline\n",
    "    \n",
    "    def __str__(self):\n",
    "        return super().__str__() + f\", Domestic Airline: {self._domestic_airline}\"\n",
    "\n",
    "\n",
    "class InternationalFlight(Flight):\n",
    "    def __init__(self, flight_number, departure_airport, arrival_airport, departure_time, arrival_time, total_seats, international_airline):\n",
    "        super().__init__(flight_number, departure_airport, arrival_airport, departure_time, arrival_time, total_seats)\n",
    "        self._international_airline = international_airline\n",
    "    \n",
    "    def get_international_airline(self):\n",
    "        return self._international_airline\n",
    "    \n",
    "    def __str__(self):\n",
    "        return super().__str__() + f\", International Airline: {self._international_airline}\"\n",
    "\n",
    "\n",
    "# Testing the Airline Reservation System\n",
    "if __name__ == \"__main__\":\n",
    "    # Create domestic and international flights\n",
    "    domestic_flight = DomesticFlight(\"DA123\", \"JFK\", \"LAX\", \"08:00\", \"11:00\", 150, \"Domestic Airlines\")\n",
    "    international_flight = InternationalFlight(\"IA456\", \"JFK\", \"LHR\", \"14:00\", \"06:00\", 200, \"International Airlines\")\n",
    "    \n",
    "    # Display flight details\n",
    "    print(\"Domestic Flight Details:\")\n",
    "    print(domestic_flight)\n",
    "    \n",
    "    print(\"\\nInternational Flight Details:\")\n",
    "    print(international_flight)\n",
    "    \n",
    "    # Book seats on flights\n",
    "    domestic_flight.book_seat()\n",
    "    domestic_flight.book_seat()\n",
    "    international_flight.book_seat()\n",
    "    \n",
    "    # Display updated flight details\n",
    "    print(\"\\nUpdated Flight Details:\")\n",
    "    print(domestic_flight)\n",
    "    print(international_flight)\n",
    "    \n",
    "    # Cancel reservation on flights\n",
    "    domestic_flight.cancel_reservation()\n",
    "    international_flight.cancel_reservation()\n",
    "    \n",
    "    # Display final flight details\n",
    "    print(\"\\nFinal Flight Details:\")\n",
    "    print(domestic_flight)\n",
    "    print(international_flight)\n"
   ]
  },
  {
   "cell_type": "code",
   "execution_count": null,
   "id": "5a12b01f-fff3-4708-8dcf-f5be48ac83c7",
   "metadata": {},
   "outputs": [],
   "source": []
  },
  {
   "cell_type": "markdown",
   "id": "d0fafed4-74fb-43ae-8254-425d8ef31f8a",
   "metadata": {},
   "source": [
    "__11.__ \n",
    "Define a Python module named constants.py containing constants like pi and the speed of light."
   ]
  },
  {
   "cell_type": "markdown",
   "id": "5da5cfbd-78ca-444a-b230-c0342bd23b0d",
   "metadata": {},
   "source": [
    "Constants in Python are typically located in a separate file dedicated solely to storing such values. This file, often named constants.py or something similar, serve as a repository for all unchanging variables, ensuring a centralized location for easy access and modification, if necessary."
   ]
  },
  {
   "cell_type": "code",
   "execution_count": 1,
   "id": "6c09ac9f-72f5-4ac2-923c-d4938576c8d6",
   "metadata": {},
   "outputs": [
    {
     "name": "stdout",
     "output_type": "stream",
     "text": [
      "The value of pi is 3.14159\n",
      "The speed of light is 299792458 m/s\n"
     ]
    }
   ],
   "source": [
    "# constants.py\n",
    "\n",
    "import constants\n",
    "\n",
    "PI = 3.14159\n",
    "SPEED_OF_LIGHT = 299792458  # in meters per second\n",
    "\n",
    "print(f\"The value of pi is {PI}\")\n",
    "print(f\"The speed of light is {SPEED_OF_LIGHT} m/s\")\n"
   ]
  },
  {
   "cell_type": "code",
   "execution_count": null,
   "id": "ba3367f4-f0ef-44db-8b59-3a95cb039162",
   "metadata": {},
   "outputs": [],
   "source": []
  },
  {
   "cell_type": "markdown",
   "id": "2bf7f9e9-0984-4b85-b806-ae633e6a888a",
   "metadata": {},
   "source": [
    "__12.__ \n",
    "Write a Python module named calculator.py containing functions for addition, subtraction,\n",
    "multiplication, and division."
   ]
  },
  {
   "cell_type": "code",
   "execution_count": 22,
   "id": "5bf45fa4-6ec6-489a-9779-7479a734eadf",
   "metadata": {},
   "outputs": [
    {
     "name": "stdout",
     "output_type": "stream",
     "text": [
      "Enter first number:  5\n",
      "Enter second number:  5\n",
      "5.0 + 5.0 = 10.0\n",
      "5.0 - 5.0 = 0.0\n",
      "5.0 * 5.0 = 25.0\n",
      "5.0 / 5.0 = 1.0\n"
     ]
    }
   ],
   "source": [
    "# calculator.py\n",
    "\n",
    "def add(x, y):\n",
    "    \"\"\"Adds two numbers.\"\"\"\n",
    "    return x + y\n",
    "\n",
    "def subtract(x, y):\n",
    "    \"\"\"Subtracts two numbers.\"\"\"\n",
    "    return x - y\n",
    "\n",
    "def multiply(x, y):\n",
    "    \"\"\"Multiplies two numbers.\"\"\"\n",
    "    return x * y\n",
    "\n",
    "def divide(x, y):\n",
    "    \"\"\"Divides two numbers.\"\"\"\n",
    "    if y != 0:\n",
    "        return x / y\n",
    "    else:\n",
    "        raise ValueError(\"Cannot divide by zero.\")\n",
    "\n",
    "# Example usage:\n",
    "if __name__ == \"__main__\":\n",
    "    num1 = float(input(\"Enter first number: \"))\n",
    "    num2 = float(input(\"Enter second number: \"))\n",
    "    print(f\"{num1} + {num2} = {add(num1, num2)}\")\n",
    "    print(f\"{num1} - {num2} = {subtract(num1, num2)}\")\n",
    "    print(f\"{num1} * {num2} = {multiply(num1, num2)}\")\n",
    "    try:\n",
    "        print(f\"{num1} / {num2} = {divide(num1, num2)}\")\n",
    "    except ValueError as e:\n",
    "        print(e)\n",
    "\n"
   ]
  },
  {
   "cell_type": "code",
   "execution_count": null,
   "id": "f9899f42-38d2-4925-9c2a-cb2e803d4722",
   "metadata": {},
   "outputs": [],
   "source": []
  },
  {
   "cell_type": "markdown",
   "id": "f6856d9c-2042-4b55-8596-c34b8d94d7d6",
   "metadata": {},
   "source": [
    "__13.__ Implement a Python package structure for a project named ecommerce, containing modules for product management and order processing."
   ]
  },
  {
   "cell_type": "code",
   "execution_count": 7,
   "id": "46c362e3-cfce-4f5d-bf72-a1ffab162a61",
   "metadata": {},
   "outputs": [],
   "source": [
    "# ecommerce/products/product_management.py\n",
    "\n",
    "class Product:\n",
    "    def __init__(self, name, price, quantity):\n",
    "        self.name = name\n",
    "        self.price = price\n",
    "        self.quantity = quantity\n",
    "\n",
    "    def update_price(self, new_price):\n",
    "        self.price = new_price\n",
    "\n",
    "    def update_quantity(self, new_quantity):\n",
    "        self.quantity = new_quantity\n",
    "\n",
    "    def get_product_info(self):\n",
    "        return {\n",
    "            'name': self.name,\n",
    "            'price': self.price,\n",
    "            'quantity': self.quantity\n",
    "        }\n",
    "\n",
    "# ecommerce/orders/order_processing.py\n",
    "\n",
    "class Order:\n",
    "    def __init__(self, product, quantity):\n",
    "        self.product = product\n",
    "        self.quantity = quantity\n",
    "\n",
    "    def calculate_total(self):\n",
    "        return self.product.price * self.quantity\n",
    "\n",
    "    def process_order(self):\n",
    "        if self.quantity <= self.product.quantity:\n",
    "            self.product.update_quantity(self.product.quantity - self.quantity)\n",
    "            return f\"Order processed for {self.quantity} of {self.product.name}\"\n",
    "        else:\n",
    "            return \"Not enough stock available\"\n",
    "\n",
    "\n"
   ]
  },
  {
   "cell_type": "code",
   "execution_count": null,
   "id": "273c39cb-c41e-4c5c-b3d4-841673b05a1e",
   "metadata": {},
   "outputs": [],
   "source": []
  },
  {
   "cell_type": "markdown",
   "id": "47449e01-50ff-414f-81f9-51bbc174cce8",
   "metadata": {},
   "source": [
    "__14.__ \n",
    "Implement a Python module named string_utils.py containing functions for string manipulation, such as\n",
    "reversing and capitalizing strings."
   ]
  },
  {
   "cell_type": "code",
   "execution_count": 6,
   "id": "fd90f505-d190-48cd-9da0-eeb33ac3d4e5",
   "metadata": {},
   "outputs": [
    {
     "name": "stdout",
     "output_type": "stream",
     "text": [
      "Reversed string: dlrow olleh\n",
      "Capitalized words: Hello World\n"
     ]
    }
   ],
   "source": [
    "# string_utils.py\n",
    "\n",
    "def reverse_string(input_string):\n",
    "    \"\"\"\n",
    "    Reverse the input string.\n",
    "\n",
    "    Args:\n",
    "    - input_string (str): The string to be reversed.\n",
    "\n",
    "    Returns:\n",
    "    - str: The reversed string.\n",
    "    \"\"\"\n",
    "    return input_string[::-1]\n",
    "\n",
    "def capitalize_words(input_string):\n",
    "    \"\"\"\n",
    "    Capitalize the first letter of each word in the input string.\n",
    "\n",
    "    Args:\n",
    "    - input_string (str): The string in which words are to be capitalized.\n",
    "\n",
    "    Returns:\n",
    "    - str: The string with each word capitalized.\n",
    "    \"\"\"\n",
    "    return ' '.join(word.capitalize() for word in input_string.split())\n",
    "\n",
    "# Example usage:\n",
    "if __name__ == \"__main__\":\n",
    "    input_str = \"hello world\"\n",
    "    reversed_str = reverse_string(input_str)\n",
    "    print(f\"Reversed string: {reversed_str}\")\n",
    "\n",
    "    capitalized_str = capitalize_words(input_str)\n",
    "    print(f\"Capitalized words: {capitalized_str}\")\n"
   ]
  },
  {
   "cell_type": "code",
   "execution_count": null,
   "id": "7cbfd72c-b82a-446e-b34a-53e483224868",
   "metadata": {},
   "outputs": [],
   "source": []
  },
  {
   "cell_type": "markdown",
   "id": "8ed6345b-7764-4d8f-bb13-ad8429203d4a",
   "metadata": {},
   "source": [
    "__15.__ Write a Python module named file_operations.py with functions for reading, writing, and appending data to a file."
   ]
  },
  {
   "cell_type": "code",
   "execution_count": 8,
   "id": "f3c95936-1cb5-4a37-9322-09801c62650c",
   "metadata": {},
   "outputs": [
    {
     "name": "stdout",
     "output_type": "stream",
     "text": [
      "This is a test.\n",
      "Appending some more text.\n",
      "\n"
     ]
    }
   ],
   "source": [
    "\n",
    "# file_operations.py\n",
    "\n",
    "def write_to_file(file_name, data):\n",
    "    \"\"\"\n",
    "    Writes data to a file, overwriting any existing content.\n",
    "    \n",
    "    Parameters:\n",
    "    file_name (str): The name of the file to write to.\n",
    "    data (str): The data to write to the file.\n",
    "    \"\"\"\n",
    "    with open(file_name, 'w') as file:\n",
    "        file.write(data)\n",
    "\n",
    "def append_to_file(file_name, data):\n",
    "    \"\"\"\n",
    "    Appends data to the end of a file.\n",
    "    \n",
    "    Parameters:\n",
    "    file_name (str): The name of the file to append to.\n",
    "    data (str): The data to append to the file.\n",
    "    \"\"\"\n",
    "    with open(file_name, 'a') as file:\n",
    "        file.write(data)\n",
    "\n",
    "def read_from_file(file_name):\n",
    "    \"\"\"\n",
    "    Reads the entire content of a file and returns it.\n",
    "    \n",
    "    Parameters:\n",
    "    file_name (str): The name of the file to read from.\n",
    "    \n",
    "    Returns:\n",
    "    str: The content of the file.\n",
    "    \"\"\"\n",
    "    with open(file_name, 'r') as file:\n",
    "        return file.read()\n",
    "\n",
    "# Example usage:\n",
    "if __name__ == \"__main__\":\n",
    "    # Writing to a file\n",
    "    write_to_file('example.txt', 'This is a test.\\n')\n",
    "\n",
    "    # Appending to a file\n",
    "    append_to_file('example.txt', 'Appending some more text.\\n')\n",
    "\n",
    "    # Reading from a file\n",
    "    content = read_from_file('example.txt')\n",
    "    print(content)\n"
   ]
  },
  {
   "cell_type": "code",
   "execution_count": null,
   "id": "34f658e5-fba8-4cf6-a657-8945b4ccfec3",
   "metadata": {},
   "outputs": [],
   "source": []
  },
  {
   "cell_type": "markdown",
   "id": "601b4b6d-bd7d-49ca-b3c6-9cfc80be96eb",
   "metadata": {},
   "source": [
    "__16.__ Write a Python program to create a text file named \"employees.txt\" and write the details of employees, including their name, age, and salary, into the file."
   ]
  },
  {
   "cell_type": "code",
   "execution_count": 6,
   "id": "9633a0e0-46bc-4d68-b2ca-c5b7837f1ad6",
   "metadata": {},
   "outputs": [
    {
     "name": "stdout",
     "output_type": "stream",
     "text": [
      "Employee details have been written to employees.txt\n"
     ]
    }
   ],
   "source": [
    "# Function to write employee details to a file\n",
    "def write_employee_details(file_name, employees):\n",
    "    # Open the file in write mode (it will create the file if it doesn't exist)\n",
    "    with open(file_name, 'w') as file:\n",
    "        # Write the header\n",
    "        file.write(\"Name, Age, Salary\\n\")\n",
    "        \n",
    "        # Iterate over the employees list and write each employee's details to the file\n",
    "        for employee in employees:\n",
    "            name, age, salary = employee\n",
    "            file.write(f\"{name}, {age}, {salary}\\n\")\n",
    "\n",
    "# List of employees where each employee is represented by a tuple (Name, Age, Salary)\n",
    "employees = [\n",
    "    (\"John Doe\", 28, 50000),\n",
    "    (\"Jane Smith\", 34, 62000),\n",
    "    (\"Emily Davis\", 25, 48000),\n",
    "    (\"Michael Brown\", 40, 75000)\n",
    "]\n",
    "\n",
    "# Name of the file to be created\n",
    "file_name = \"employees.txt\"\n",
    "\n",
    "# Write the employee details to the file\n",
    "write_employee_details(file_name, employees)\n",
    "\n",
    "print(f\"Employee details have been written to {file_name}\")\n"
   ]
  },
  {
   "cell_type": "code",
   "execution_count": null,
   "id": "9975b3bb-d6b5-4219-9d60-b217712d9db5",
   "metadata": {},
   "outputs": [],
   "source": []
  },
  {
   "cell_type": "markdown",
   "id": "91fb94b1-fa95-4479-9971-74e8155318d5",
   "metadata": {},
   "source": [
    "__17.__ Develop a Python script that opens an existing text file named \"inventory.txt\" in read mode and displays\n",
    "the contents of the file line by line."
   ]
  },
  {
   "cell_type": "code",
   "execution_count": null,
   "id": "004bb84d-73eb-4608-b2d8-9990f6830c69",
   "metadata": {},
   "outputs": [],
   "source": [
    "def read_and_display_file(file_path):\n",
    "\n",
    "    try:\n",
    "        with open(file_path, 'r') as file:\n",
    "            # Read each line from the file\n",
    "            for line in file:\n",
    "                # Strip newline characters from the end and print the line\n",
    "                print(line.strip())\n",
    "    except FileNotFoundError:\n",
    "        print(f\"The file '{file_path}' does not exist.\")\n",
    "    except IOError as e:\n",
    "        print(f\"An error occurred while reading the file: {e}\")\n",
    "\n",
    "# Example usage\n",
    "if __name__ == \"__main__\":\n",
    "    # File path to the inventory file\n",
    "    file_path = 'inventory.txt'\n",
    "    \n",
    "    # Read and display the file contents\n",
    "    read_and_display_file(file_path)"
   ]
  },
  {
   "cell_type": "code",
   "execution_count": null,
   "id": "f7c3d801-9fc3-44e2-a984-e8f3e21a6e93",
   "metadata": {},
   "outputs": [],
   "source": []
  },
  {
   "cell_type": "markdown",
   "id": "4d1b096a-bc65-491f-a1c9-63a92b8530a0",
   "metadata": {},
   "source": [
    "__18.__ Create a Python script that reads a text file named \"expenses.txt\" and calculates the total amount spent\n",
    "on various expenses listed in the file."
   ]
  },
  {
   "cell_type": "code",
   "execution_count": null,
   "id": "5354f6f2-6c3e-4cea-9ab0-72fd5b795f77",
   "metadata": {},
   "outputs": [],
   "source": [
    "def calculate_total_expenses(file_path):\n",
    "\n",
    "    total_expenses = 0.0\n",
    "    \n",
    "    try:\n",
    "        with open(file_path, 'r') as file:\n",
    "            for line in file:\n",
    "                # Strip any leading/trailing whitespace and split the line by comma\n",
    "                parts = line.strip().split(',')\n",
    "                \n",
    "                if len(parts) != 2:\n",
    "                    print(f\"Skipping invalid line: {line.strip()}\")\n",
    "                    continue\n",
    "                \n",
    "                # Extract and process the expense amount\n",
    "                description, amount_str = parts\n",
    "                try:\n",
    "                    amount = float(amount_str.strip())\n",
    "                    total_expenses += amount\n",
    "                except ValueError:\n",
    "                    print(f\"Skipping line with invalid amount: {line.strip()}\")\n",
    "                    \n",
    "        return total_expenses\n",
    "    \n",
    "    except FileNotFoundError:\n",
    "        print(f\"The file '{file_path}' does not exist.\")\n",
    "        return 0.0\n",
    "    except IOError as e:\n",
    "        print(f\"An error occurred while reading the file: {e}\")\n",
    "        return 0.0\n",
    "\n",
    "# Example usage\n",
    "if __name__ == \"__main__\":\n",
    "    # Path to the expenses file\n",
    "    file_path = 'expenses.txt'\n",
    "    \n",
    "    # Calculate and display the total expenses\n",
    "    total = calculate_total_expenses(file_path)\n",
    "    print(f\"Total expenses: ${total:.2f}\")"
   ]
  },
  {
   "cell_type": "code",
   "execution_count": null,
   "id": "ea36d897-4f94-4ecc-919a-e9d07387d01d",
   "metadata": {},
   "outputs": [],
   "source": []
  },
  {
   "cell_type": "markdown",
   "id": "f95ff51d-1a76-44bc-8dbc-f63c5a7ea7a7",
   "metadata": {},
   "source": [
    "__19.__ Create a Python program that reads a text file named \"paragraph.txt\" and counts the occurrences of\n",
    "each word in the paragraph, displaying the results in alphabetical order."
   ]
  },
  {
   "cell_type": "code",
   "execution_count": null,
   "id": "0ab2135a-30c5-4a52-9a75-a4660ba6b286",
   "metadata": {},
   "outputs": [],
   "source": [
    "import re\n",
    "from collections import Counter\n",
    "\n",
    "def count_word_occurrences(file_path):\n",
    "    \"\"\"\n",
    "    Reads a file containing a paragraph and counts the occurrences of each word,\n",
    "    displaying the results in alphabetical order.\n",
    "    \n",
    "    :param file_path: Path to the file containing the paragraph.\n",
    "    :return: A dictionary with words as keys and their counts as values.\n",
    "    \"\"\"\n",
    "    word_count = Counter()\n",
    "    \n",
    "    try:\n",
    "        with open(file_path, 'r') as file:\n",
    "            # Read the entire content of the file\n",
    "            content = file.read()\n",
    "            \n",
    "            # Use regex to find all words, ignoring case\n",
    "            words = re.findall(r'\\b\\w+\\b', content.lower())\n",
    "            \n",
    "            # Count the occurrences of each word\n",
    "            word_count.update(words)\n",
    "    \n",
    "    except FileNotFoundError:\n",
    "        print(f\"The file '{file_path}' does not exist.\")\n",
    "        return {}\n",
    "    except IOError as e:\n",
    "        print(f\"An error occurred while reading the file: {e}\")\n",
    "        return {}\n",
    "    \n",
    "    return dict(sorted(word_count.items()))\n",
    "\n",
    "def display_word_counts(word_counts):\n",
    "    \"\"\"\n",
    "    Displays the word counts in alphabetical order.\n",
    "    \n",
    "    :param word_counts: A dictionary with words as keys and their counts as values.\n",
    "    \"\"\"\n",
    "    for word, count in word_counts.items():\n",
    "        print(f\"{word}: {count}\")\n",
    "\n",
    "# Example usage\n",
    "if __name__ == \"__main__\":\n",
    "    # Path to the paragraph file\n",
    "    file_path = 'paragraph.txt'\n",
    "    \n",
    "    # Count word occurrences\n",
    "    word_counts = count_word_occurrences(file_path)\n",
    "    \n",
    "    # Display the results\n",
    "    if word_counts:\n",
    "        display_word_counts(word_counts)"
   ]
  },
  {
   "cell_type": "code",
   "execution_count": null,
   "id": "f90ef7fc-4c49-4f74-a609-5fe8047bcf63",
   "metadata": {},
   "outputs": [],
   "source": []
  },
  {
   "cell_type": "markdown",
   "id": "d36aed80-a5c9-4a2e-abb0-fa657e7d13fa",
   "metadata": {},
   "source": [
    "__20.__ What do you mean by Measure of Central Tendency and Measures of Dispersion .How it can be\n",
    "calculated."
   ]
  },
  {
   "cell_type": "markdown",
   "id": "1ba2d5ae-ba2f-493c-ba7d-86136a5e8d5d",
   "metadata": {},
   "source": [
    "__Measures of Central Tendency and Dispersion__\n",
    "\n",
    "Measures of central tendency and dispersion are statistical measures used to describe the characteristics of a dataset. Central tendency helps us identify a single representative value around which data tends to cluster, whereas measures of dispersion tell us how deviated data is from the central value. \n",
    "\n",
    "It identifies a single value as representative of an entire data distribution. In other words, the central tendency is a way of describing the centre or midpoint of a dataset. The three most common measures of central tendency are:\n",
    "\n",
    "__Mean__ : In statistics, the mean is the average of a data set. It is calculated by adding all the numbers in the data set and dividing by the number of values in the set. The mean is also known as the average.\n",
    "\n",
    "__Median__ : Median is defined as the middle term of the given set of data if the data is arranged either in ascending or descending order.\n",
    "\n",
    "__Mode__ : Mode in statistics is the value that appears most frequently in a data set. It is a measure of central tendency and can be calculated for both numerical and categorical data.\n",
    "\n",
    "__Measures of Dispersion__\n",
    "\n",
    "Measures of Dispersion are used to represent the scattering of data. These are the numbers that show the various aspects of the data spread across various parameters.\n",
    "\n",
    "Measures of Dispersion measure the scattering of the data. It tells us how the values are distributed in the data set. In statistics, we define the measure of dispersion as various parameters that are used to define the various attributes of the data.\n",
    "\n",
    "Types of Measures of Dispersion\n",
    "Measures of dispersion can be classified into the following two types :  \n",
    "\n",
    "__Absolute Measure of Dispersion__ : The measures of dispersion that are measured and expressed in the units of data themselves are called Absolute Measure of Dispersion. For example – Meters, Dollars, Kg, etc.\n",
    "\n",
    "__Relative Measure of Dispersion__ :We use relative measures of dispersion to measure the two quantities that have different units to get a better idea about the scattering of the data."
   ]
  },
  {
   "cell_type": "code",
   "execution_count": null,
   "id": "b87f9d3c-df1b-490d-a2f8-ca58f6d82b43",
   "metadata": {},
   "outputs": [],
   "source": []
  },
  {
   "cell_type": "markdown",
   "id": "f2dea7f1-f16e-4381-9991-169fd2ac815c",
   "metadata": {},
   "source": [
    "__21.__\n",
    "What do you mean by skewness.Explain its types.Use graph to show."
   ]
  },
  {
   "cell_type": "markdown",
   "id": "2c2708f8-edf2-4c46-ad00-c616ec3c50c4",
   "metadata": {},
   "source": [
    "__Skewness__ is a statistical term and it is a way to estimate or measure the shape of a distribution.  It is an important statistical methodology that is used to estimate the asymmetrical behavior rather than computing frequency distribution. Skewness can be two types:\n",
    "\n",
    "__Symmetrical__: A distribution can be called symmetric if it appears the same from the left and right from the center point.\n",
    "\n",
    "__Asymmetrical__: A distribution can be called asymmetric if it doesn’t appear the same from the left and right from the center point.\n",
    "\n",
    "Distribution on the basis of skewness value:\n",
    "\n",
    "Skewness = 0: Then normally distributed.\n",
    "\n",
    "Skewness > 0: Then more weight in the left tail of the distribution.\n",
    "\n",
    "Skewness < 0: Then more weight in the right tail of the distribution."
   ]
  },
  {
   "cell_type": "code",
   "execution_count": null,
   "id": "61ac8792-30c5-449b-9128-5e2dc564b6cc",
   "metadata": {},
   "outputs": [],
   "source": []
  },
  {
   "cell_type": "markdown",
   "id": "753c762c-06f6-487a-978f-d74cff5f27b5",
   "metadata": {},
   "source": [
    "__22.__ Explain PROBABILITY MASS FUNCTION (PMF) and PROBABILITY DENSITY FUNCTION (PDF). and what is the\n",
    "difference between them?"
   ]
  },
  {
   "cell_type": "markdown",
   "id": "cc7db6d3-5239-4c73-a759-4f15c341f708",
   "metadata": {},
   "source": [
    "|PMF|PDF|\n",
    "|---|---|\n",
    "|Solution ranges between numbers of discrete random variables|The solution is in a range of continuous random variables|\n",
    "|Uses discrete random variables|Uses continuous random variables|"
   ]
  },
  {
   "cell_type": "markdown",
   "id": "e470d0d7-8557-4653-a91d-d1ecfd5f09bc",
   "metadata": {},
   "source": [
    "The __Probability Mass function__ is defined on all the values of R, where it takes all the arguments of any real number. It doesn’t belong to the value of X when the argument value equals to zero and when the argument belongs to x, the value of PMF should be positive.\n",
    "\n",
    "The probability mass function is usually the primary component of defining a discrete probability distribution, but it differs from the __probability density function__ (PDF) where it produces distinct outcomes. This is the reason why probability mass function is used in computer programming and statistical modelling. In other words, probability mass function is a function that relates discrete events to the probabilities associated with those events occurring. The word “mass“ indicates the probabilities that are concentrated on discrete events."
   ]
  },
  {
   "cell_type": "code",
   "execution_count": null,
   "id": "8cd60a9e-3de7-40e9-b765-4947f87061eb",
   "metadata": {},
   "outputs": [],
   "source": []
  },
  {
   "cell_type": "markdown",
   "id": "7c353025-41bf-4cfa-bc7c-b1a62b530b1a",
   "metadata": {},
   "source": [
    "__23.__ What is correlation. Explain its type in details. What are the methods of determining correlation ?"
   ]
  },
  {
   "cell_type": "markdown",
   "id": "7eca6f32-ebb3-4fe0-953e-645d7307064c",
   "metadata": {},
   "source": [
    "Correlation in statistics denotes a linear relationship between the two variables once plotted into a scatter plot. If the slope of the line is negative, the two variables follow a negative correlation. If the slope is positive, it is a positive correlation. Finally, if a line cannot be drawn, there is no correlation.\n",
    "\n",
    "1. Positive Correlation: r > 0. This means that the change in variable x is associated with a change in variable y in the same direction.\n",
    "\n",
    "2. Negative Correlation: r < 0. This means that the change in variable x is associated with a change in variable y in the opposite direction.\n",
    "\n",
    "3. No correlation: r = 0. This means that the change in variable x has no association with any change in variable y.\n",
    "\n",
    "\n",
    "__Methods of Measurements of Correlation__\n",
    "\n",
    "The three different methods of measuring correlation between two variables are:\n",
    "\n",
    "__Scatter Diagram__ : A simple and attractive method of measuring correlation by diagrammatically representing bivariate distribution for determination of the nature of the correlation between the variables is known as Scatter Diagram Method. This method gives a visual idea to the investigator/analyst regarding the nature of the association between the two variables. It is the simplest method of studying the relationship between two variables as there is no need to calculate any numerical value. \n",
    "\n",
    "__Karl Pearson’s Coefficient of Correlation__ : The first person to give a mathematical formula for the measurement of the degree of relationship between two variables in 1890 was Karl Pearson. Karl Pearson’s Coefficient of Correlation is also known as Product Moment Correlation or Simple Correlation Coefficient. This method of measuring the coefficient of correlation is the most popular and is widely used. It is denoted by ‘r’, where r is a pure number which means that r has no unit. \n",
    "\n",
    "__Spearman’s Rank Correlation Coefficient__ : Spearman’s Rank Correlation Coefficient or Spearman’s Rank Difference Method or Formula is a method of calculating the correlation coefficient of qualitative variables and was developed in 1904 by Charles Edward Spearman. In other words, the formula determines the correlation coefficient of variables like beauty, ability, honesty, etc., whose quantitative measurement is not possible. Therefore, these attributes are ranked or put in the order of their preference. \n",
    "\n"
   ]
  },
  {
   "cell_type": "code",
   "execution_count": null,
   "id": "d87cba4b-79a2-45e3-ab29-94a68092878e",
   "metadata": {},
   "outputs": [],
   "source": []
  },
  {
   "cell_type": "markdown",
   "id": "e042a554-2c34-47ec-a362-e7fccae24249",
   "metadata": {},
   "source": [
    "__24.__ Calculate coefficient of correlation between the marks obtained by 10 students in Accountancy and\n",
    "statistics:\n",
    "\n",
    "Use Karl Pearson’s Coefficient of Correlation Method to find it."
   ]
  },
  {
   "attachments": {
    "7b425ed1-a1bc-431c-877f-262ed7ee764f.png": {
     "image/png": "[encoded data removed]"
    },
    "f6742233-9766-45c2-9e0a-76b8b5efa50d.png": {
     "image/png": "[encoded data removed]"
    }
   },
   "cell_type": "markdown",
   "id": "28b6efc6-139f-4650-ade8-54b8793717cd",
   "metadata": {},
   "source": [
    "To calculate the coefficient of correlation (Pearson's r) between the marks obtained by 10 students in Accountancy and Statistics, we can use the following formula for Pearson's correlation coefficient:\n",
    "\n",
    "![formula.png](attachment:7b425ed1-a1bc-431c-877f-262ed7ee764f.png)\n",
    "\n",
    "where:\n",
    "\n",
    "n is the number of students (10 in this case)\n",
    "\n",
    "x represents the marks in Accountancy\n",
    "\n",
    "y represents the marks in Statistics\n",
    "\n",
    "Let's perform the calculation step-by-step.\n",
    "\n",
    "First, let's list the marks for each subject:\n",
    "\n",
    "Accountancy marks (x): 45, 70, 65, 30, 90, 40, 50, 75, 85, 60\n",
    "\n",
    "Statistics marks (y): 35, 90, 70, 40, 95, 40, 60, 80, 80, 50\n",
    "\n",
    "We need to calculate the following sums:\n",
    "\n",
    "1. ∑𝑥\n",
    "\n",
    "2. ∑𝑦\n",
    "\n",
    "3. ∑𝑥𝑦\n",
    "\n",
    "4. ∑x2\n",
    " \n",
    "5. ∑y2\n",
    "\n",
    " \n",
    "Let me perform these calculations.\n",
    "\n",
    "The calculations yield the following values:\n",
    "\n",
    "\n",
    "∑x=610\n",
    "\n",
    "∑y=640\n",
    "\n",
    "∑xy=42575\n",
    "\n",
    "∑x2=40700\n",
    "\n",
    "∑y2=45350\n",
    "\n",
    "Using these values, the Pearson correlation coefficient r is calculated as:\n",
    "\n",
    "![formula.png](attachment:f6742233-9766-45c2-9e0a-76b8b5efa50d.png)\n",
    "\n",
    "Substituting the values:\n",
    "\n",
    "r ≈ 0.903"
   ]
  },
  {
   "cell_type": "code",
   "execution_count": null,
   "id": "a6854a06-42ff-4a43-83fc-740c39003aee",
   "metadata": {},
   "outputs": [],
   "source": []
  },
  {
   "cell_type": "markdown",
   "id": "4b0615a4-2eef-458b-801a-9ecc184c15bb",
   "metadata": {},
   "source": [
    "__25.__\n",
    "Discuss the 4 differences between correlation and regression."
   ]
  },
  {
   "cell_type": "markdown",
   "id": "66ca46f6-5631-4ea1-b52c-1c9fd9c476e3",
   "metadata": {},
   "source": [
    "|Correlation|Regression|\n",
    "|-----------|----------|\n",
    "|‘Correlation’, as the name says, it determines the interconnection or a co-relationship between the variables.|‘Regression’ explains how an independent variable is numerically associated with the dependent variable.\n",
    "|In Correlation, both the independent and dependent values have no difference.|However, in Regression, both the dependent and independent variables are different.|\n",
    "|The primary objective of Correlation is to find out a quantitative/numerical value expressing the association between the values.|Regression’s main purpose is to calculate the values of a random variable based on the values of a fixed variable.|\n",
    "|Correlation stipulates the degree to which both variables can move together.|However, regression specifies the effect of the change in the unit in the known variable(p) on the evaluated variable (q).|\n",
    "|Correlation helps to constitute the connection between the two variables.|Regression helps in estimating a variable’s value based on another given value.|"
   ]
  },
  {
   "cell_type": "code",
   "execution_count": null,
   "id": "9da77039-bbd0-4d3f-9deb-bd3ce1d38078",
   "metadata": {},
   "outputs": [],
   "source": []
  },
  {
   "cell_type": "markdown",
   "id": "b5a805b8-9f4a-47e8-bffe-e17e5d9ac996",
   "metadata": {},
   "source": [
    "__26.__\n",
    "Find the most likely price at Delhi corresponding to the price of Rs. 70 at Agra from the following data:\n",
    "Coefficient of correlation between the prices of the two places +0.8."
   ]
  },
  {
   "attachments": {
    "35e0c702-4106-4dc0-acec-5d15c4f963a4.png": {
     "image/png": "[encoded data removed]"
    },
    "dfde54e4-04af-44c9-982b-d442b6f01cb2.png": {
     "image/png": "[encoded data removed]"
    }
   },
   "cell_type": "markdown",
   "id": "f61f0a66-1d6c-42c5-9c04-332e24ba3b52",
   "metadata": {},
   "source": [
    "To find the most likely price in Delhi corresponding to a given price in Agra, we can use the concept of regression analysis. Specifically, we will use the linear regression equation. The formula for predicting the value of \n",
    "\n",
    "Y (Delhi price) given \n",
    "\n",
    "X (Agra price) in a simple linear regression is:\n",
    "\n",
    "__Y=β0+β1X__\n",
    "\n",
    "Where:\n",
    "\n",
    "𝛽0 is the intercept\n",
    "\n",
    "β1 is the slope of the regression line\n",
    "\n",
    "Given the coefficient of correlation (𝑟) between the prices of the two places is +0.8, we can use this to determine the slope (𝛽1) and intercept (β0) if we have the means and standard deviations of the prices in both cities.\n",
    "\n",
    "The slope (β1) is given by:\n",
    "\n",
    "![Screenshot 2024-07-11 014412.png](attachment:35e0c702-4106-4dc0-acec-5d15c4f963a4.png)\n",
    "\n",
    "Where:\n",
    "\n",
    "𝜎𝑌 is the standard deviation of prices in Delhi\n",
    "\n",
    "σX is the standard deviation of prices in Agra\n",
    "\n",
    "The intercept (β0) is given by:\n",
    "\n",
    "![Screenshot 2024-07-11 014436.png](attachment:dfde54e4-04af-44c9-982b-d442b6f01cb2.png)\n",
    "\n",
    "Where:\n",
    "\n",
    "\n",
    "μY is the mean price in Delhi\n",
    "\n",
    "μX is the mean price in Agra\n",
    "\n",
    "If you provide the means and standard deviations of the prices in both cities, I can calculate the most likely price in Delhi corresponding to the price of Rs. 70 in Agra."
   ]
  },
  {
   "cell_type": "code",
   "execution_count": null,
   "id": "7784f0c5-b7c8-455e-88c6-49898e0da9e7",
   "metadata": {},
   "outputs": [],
   "source": []
  },
  {
   "cell_type": "markdown",
   "id": "5ffbe3b4-a5a2-4697-a8e7-9cc56ed54cc4",
   "metadata": {},
   "source": [
    "__28.__ \n",
    "What is Normal Distribution? What are the four Assumptions of Normal Distribution? Explain in detail.\n"
   ]
  },
  {
   "attachments": {
    "10bc5adc-7e48-484a-934c-a1f2644e5a32.png": {
     "image/png": "[encoded data removed]"
    }
   },
   "cell_type": "markdown",
   "id": "615c21f7-3526-4ca6-9085-b54b473e4364",
   "metadata": {},
   "source": [
    "In probability theory and statistics, the Normal Distribution, also called the Gaussian Distribution, is the most significant continuous probability distribution. Sometimes it is also called a bell curve. A large number of random variables are either nearly or exactly represented by the normal distribution, in every physical science and economics. Furthermore, it can be used to approximate other probability distributions, therefore supporting the usage of the word ‘normal ‘as in about the one, mostly used.\n",
    "\n",
    "The Normal Distribution is defined by the probability density function for a continuous random variable in a system. Let us say, f(x) is the probability density function and X is the random variable. Hence, it defines a function which is integrated between the range or interval (x to x + dx), giving the probability of random variable X, by considering the values between x and x+dx.\n",
    "\n",
    "Normal Distribution Formula\n",
    "\n",
    "![normal-distribution-formula.png](attachment:10bc5adc-7e48-484a-934c-a1f2644e5a32.png)\n",
    "\n",
    "__1. Random Sampling:__\n",
    "\n",
    "Definition: The data should be collected through a process that gives each member of the population an equal chance of being selected.\n",
    "\n",
    "Explanation: Random sampling ensures that the sample is representative of the population, thereby making the statistical inferences valid. Non-random sampling can introduce bias, leading to skewed results that do not accurately reflect the population characteristics.\n",
    "\n",
    "__2. Independence:__\n",
    "\n",
    "Definition: Each observation in the sample is independent of the others.\n",
    "\n",
    "Explanation: Independence means that the occurrence of one event does not affect the occurrence of another. In a statistical context, this means that the value of one data point does not influence the value of another. For example, if we are measuring heights in a population, the height of one individual should not affect the height of another. Violations of this assumption can lead to underestimating or overestimating variability and can distort statistical tests.\n",
    "\n",
    "__3. Homogeneity of Variance (Homoscedasticity):__\n",
    "\n",
    "Definition: The variance within each subgroup of the population is constant.\n",
    "\n",
    "Explanation: Homoscedasticity means that the spread or variability of the data points is approximately the same across all levels of the independent variables. In a regression context, the residuals (the differences between observed and predicted values) should have constant variance. If this assumption is violated (i.e., heteroscedasticity), it can affect the efficiency and validity of statistical tests, leading to incorrect conclusions.\n",
    "\n",
    "__4.Normality:__\n",
    "\n",
    "Definition: The data should be approximately normally distributed, especially for parametric tests.\n",
    "\n",
    "Explanation: A normal distribution is symmetric, with most of the data clustered around the mean, and the probabilities for values further away from the mean tapering off equally in both directions. Many statistical tests assume normality because it simplifies the mathematics involved and because the Central Limit Theorem states that the sum of a large number of independent, identically distributed variables will approximate a normal distribution, regardless of the original distribution of the data. For smaller sample sizes, deviations from normality can lead to incorrect inferences."
   ]
  },
  {
   "cell_type": "code",
   "execution_count": null,
   "id": "02581176-ff05-4d78-8512-c0f02fafd38f",
   "metadata": {},
   "outputs": [],
   "source": []
  },
  {
   "cell_type": "markdown",
   "id": "909964e6-1d0a-4b76-a5b1-f1315e6bcd0c",
   "metadata": {},
   "source": [
    "__29.__\n",
    "Write all the characteristics or Properties of the Normal Distribution Curve."
   ]
  },
  {
   "cell_type": "markdown",
   "id": "3984159a-8012-4354-a971-afc7e4803ad4",
   "metadata": {},
   "source": [
    "The normal distribution curve, also known as the Gaussian curve or bell curve, has several key characteristics or properties that make it a fundamental concept in statistics. Here are the main properties:\n",
    "\n",
    "__1. Symmetry:__\n",
    "\n",
    "The normal distribution curve is symmetric about the mean.\n",
    "\n",
    "This means that the left side of the curve is a mirror image of the right side.\n",
    "\n",
    "__2.Bell-shaped:__\n",
    "\n",
    "The curve is bell-shaped, with the highest point at the mean.\n",
    "\n",
    "The tails of the curve extend infinitely in both directions without touching the horizontal axis (asymptotic).\n",
    "\n",
    "__3.Mean, Median, and Mode:__\n",
    "\n",
    "In a normal distribution, the mean, median, and mode are all equal and located at the center of the distribution.\n",
    "\n",
    "These measures of central tendency coincide at the peak of the curve.\n",
    "\n",
    "__4.Standard Deviation:__\n",
    "\n",
    "The spread of the normal distribution is determined by its standard deviation (σ).\n",
    "\n",
    "Approximately 68% of the data falls within one standard deviation (σ) of the mean (μ).\n",
    "\n",
    "About 95% of the data falls within two standard deviations (2σ) of the mean.\n",
    "\n",
    "Nearly 99.7% of the data falls within three standard deviations (3σ) of the mean.\n",
    "\n",
    "__5.Asymptotic:__\n",
    "\n",
    "The tails of the normal distribution curve approach, but never touch, the horizontal axis.\n",
    "\n",
    "This implies that the probability of extreme values far from the mean is not zero but very small.\n",
    "\n",
    "__6.Area Under the Curve:__\n",
    "\n",
    "The total area under the normal distribution curve is equal to 1.\n",
    "\n",
    "This area represents the total probability for the distribution.\n",
    "\n",
    "__7.Empirical Rule (68-95-99.7 Rule):__\n",
    "\n",
    "This rule describes the percentage of data that falls within certain standard deviations from the mean.\n",
    "\n",
    "Approximately 68% of the data lies within one standard deviation (σ) of the mean.\n",
    "\n",
    "Approximately 95% of the data lies within two standard deviations (2σ) of the mean.\n",
    "\n",
    "Approximately 99.7% of the data lies within three standard deviations (3σ) of the mean.\n",
    "\n",
    "__8.Unimodal:__\n",
    "\n",
    "The normal distribution has a single peak or mode.\n",
    "\n",
    "This peak occurs at the mean, median, and mode.\n",
    "\n",
    "__9.Continuity:__\n",
    "\n",
    "The normal distribution is a continuous probability distribution.\n",
    "\n",
    "This means that it can take any real value within the range of the distribution.\n",
    "\n",
    "__10.Moment Generating Function:__\n",
    "\n",
    "The moment generating function (MGF) of the normal distribution can be used to derive its moments (mean, variance, skewness, kurtosis).\n",
    "\n",
    "__11:Lack of Skewness:__\n",
    "\n",
    "The normal distribution curve has no skewness; it is perfectly symmetrical.\n",
    "\n",
    "This implies that the distribution has a skewness of zero.\n",
    "\n",
    "__12.Kurtosis:__\n",
    "\n",
    "The normal distribution has a kurtosis value of 3, which is known as mesokurtic.\n",
    "\n",
    "This indicates that the tails of the normal distribution are neither heavy nor light compared to a normal distribution.\n",
    "\n",
    "__13.Standard Normal Distribution:__\n",
    "\n",
    "When the mean (μ) is 0 and the standard deviation (σ) is 1, the distribution is known as the standard normal distribution.\n",
    "\n",
    "The standard normal distribution is often denoted by Z and used for calculating z-scores.\n",
    "\n",
    "__14.Additivity:__\n",
    "\n",
    "The sum of two independent normal random variables is also normally distributed.\n"
   ]
  },
  {
   "cell_type": "code",
   "execution_count": null,
   "id": "e04aff02-4ec6-4083-ab46-fd537b5d459d",
   "metadata": {},
   "outputs": [],
   "source": []
  },
  {
   "cell_type": "markdown",
   "id": "dede82b5-8099-421d-b0c8-5218c5c8d82a",
   "metadata": {},
   "source": [
    "__30.__\n",
    "Which of the following options are correct about Normal Distribution Curve.\n",
    "(a) Within a range 0.6745 of σ on both sides the middle 50% of the observations occur i,e. mean ±0.6745σ\n",
    "covers 50% area 25% on each side.\n",
    "\n",
    "(b) Mean ±1S.D. (i,e.μ ± 1σ) covers 68.268% area, 34.134 % area lies on either side of the mean.\n",
    "\n",
    "(c) Mean ±2S.D. (i,e. μ ± 2σ) covers 95.45% area, 47.725% area lies on either side of the mean.\n",
    "\n",
    "(d) Mean ±3 S.D. (i,e. μ ±3σ) covers 99.73% area, 49.856% area lies on the either side of the mean.\n",
    "\n",
    "(e) Only 0.27% area is outside the range μ ±3σ."
   ]
  },
  {
   "cell_type": "markdown",
   "id": "032a6e1f-5a7f-41f9-84d9-47f7845a4375",
   "metadata": {},
   "source": [
    "(a) Within a range 0.6745 of σ on both sides the middle 50% of the observations occur i.e., mean ±0.6745σ covers 50% area, 25% on each side.\n",
    "\n",
    "This statement is correct. For a normal distribution, approximately 50% of the data falls within ±0.6745 standard deviations of the mean. This range represents the interquartile range (IQR), where the middle 50% of the data lies.\n",
    "\n",
    "(b) Mean ±1S.D. (i.e., μ ± 1σ) covers 68.268% area, 34.134% area lies on either side of the mean.\n",
    "\n",
    "This statement is correct. According to the empirical rule (68-95-99.7 rule), about 68.268% of the data falls within ±1 standard deviation of the mean, which means 34.134% lies on either side of the mean.\n",
    "\n",
    "(c) Mean ±2S.D. (i.e., μ ± 2σ) covers 95.45% area, 47.725% area lies on either side of the mean.\n",
    "\n",
    "This statement is correct. According to the empirical rule, about 95.45% of the data falls within ±2 standard deviations of the mean, which means 47.725% lies on either side of the mean.\n",
    "\n",
    "(d) Mean ±3 S.D. (i.e., μ ± 3σ) covers 99.73% area, 49.856% area lies on either side of the mean.\n",
    "\n",
    "This statement is incorrect. While it is true that approximately 99.73% of the data falls within ±3 standard deviations of the mean, the area on either side of the mean should be half of 99.73%, which is approximately 49.865%, not 49.856%.\n",
    "\n",
    "(e) Only 0.27% area is outside the range μ ±3σ.\n",
    "\n",
    "This statement is correct. Since 99.73% of the data lies within ±3 standard deviations of the mean, the remaining area outside this range is 100% - 99.73% = 0.27%.\n",
    "Conclusion:\n",
    "\n",
    "The correct options about the normal distribution curve are:\n",
    "\n",
    "(a) Within a range 0.6745 of σ on both sides the middle 50% of the observations occur i.e., mean ±0.6745σ covers 50% area, 25% on each side.\n",
    "\n",
    "(b) Mean ±1S.D. (i.e., μ ± 1σ) covers 68.268% area, 34.134% area lies on either side of the mean.\n",
    "\n",
    "(c) Mean ±2S.D. (i.e., μ ± 2σ) covers 95.45% area, 47.725% area lies on either side of the mean.\n",
    "\n",
    "(e) Only 0.27% area is outside the range μ ±3σ.\n",
    "\n",
    "(d) is incorrect due to a slight error in the percentage on either side of the mean."
   ]
  },
  {
   "cell_type": "code",
   "execution_count": null,
   "id": "ef98a796-9f73-43bb-82ca-2f5d713fc6a1",
   "metadata": {},
   "outputs": [],
   "source": []
  },
  {
   "cell_type": "markdown",
   "id": "a3399018-ac9b-43c7-bc1d-733e2597ec99",
   "metadata": {},
   "source": [
    "__31.__\n",
    "The mean of a distribution is 60 with a standard deviation of 10. Assuming that the distribution is normal,\n",
    "what percentage of items be (i) between 60 and 72, (ii) between 50 and 60, (iii) beyond 72 and (iv) between\n",
    "70 and 80?"
   ]
  },
  {
   "attachments": {
    "7348f89a-ac44-4497-9d1e-f4cab71a176d.png": {
     "image/png": "[encoded data removed]"
    },
    "815ea2f4-b8d4-423b-84dd-682e5093f532.png": {
     "image/png": "[encoded data removed]"
    },
    "9dadac33-0d05-4cc7-be87-c47071f3090d.png": {
     "image/png": "[encoded data removed]"
    },
    "d2ca12b0-e371-4cc4-b1e3-055d73649c48.png": {
     "image/png": "[encoded data removed]"
    }
   },
   "cell_type": "markdown",
   "id": "9691546d-7d0a-4cc3-9438-6582e1223f06",
   "metadata": {},
   "source": [
    "Given that the distribution is normal with a mean (μ) of 60 and a standard deviation (σ) of 10, we can use the standard normal distribution (z-scores) to find the required percentages.\n",
    "\n",
    "First, we convert the raw scores to z-scores using the formula:\n",
    "\n",
    "![image.png](attachment:9dadac33-0d05-4cc7-be87-c47071f3090d.png)\n",
    "\n",
    "Using the z-table, the cumulative probability for 𝑧 = 1.2 is approximately 0.8849. The cumulative probability for z=0 is 0.5.\n",
    "\n",
    "__(i)__ Percentage of items between 60 and 72:\n",
    "\n",
    "Percentage=0.3849×100=38.49%\n",
    "\n",
    "__(ii)__ Percentage of items between 50 and 60:\n",
    "\n",
    "![image.png](attachment:d2ca12b0-e371-4cc4-b1e3-055d73649c48.png)\n",
    "\n",
    "Using the z-table, the cumulative probability for z=−1 is approximately 0.1587. The cumulative probability for z=0 is 0.5.\n",
    "\n",
    "Percentage of items between 50 and 60:\n",
    "\n",
    "P(50≤X≤60)=P(−1≤z≤0)=0.5−0.1587=0.3413\n",
    "\n",
    "Percentage=0.3413×100=34.13%\n",
    "\n",
    "__(iii)__ Percentage of items beyond 72 :\n",
    "\n",
    "![image.png](attachment:815ea2f4-b8d4-423b-84dd-682e5093f532.png)\n",
    "\n",
    "Using the z-table, the cumulative probability for \n",
    "\n",
    "z=1.2 is approximately 0.8849.\n",
    "\n",
    "Percentage of items beyond 72:\n",
    "\n",
    "P(X>72)=1−P(z≤1.2)=1−0.8849=0.1151\n",
    "\n",
    "Percentage=0.1151×100=11.51%\n",
    "\n",
    "__(iv)__ Percentage of items between 70 and 80 :\n",
    "\n",
    "![image.png](attachment:7348f89a-ac44-4497-9d1e-f4cab71a176d.png)\n",
    "\n",
    "Using the z-table, the cumulative probability for z=1 is approximately 0.8413. The cumulative probability for z=2 is approximately 0.9772.\n",
    "\n",
    "Percentage of items between 70 and 80:\n",
    "\n",
    "P(70≤X≤80)=P(1≤z≤2)=0.9772−0.8413=0.1359\n",
    "\n",
    "Percentage=0.1359×100=13.59%"
   ]
  },
  {
   "cell_type": "code",
   "execution_count": null,
   "id": "b2b6e0d2-bcbd-40aa-9580-4faf6271a404",
   "metadata": {},
   "outputs": [],
   "source": []
  },
  {
   "cell_type": "markdown",
   "id": "232cd282-b9e4-401c-8e7f-e92ce64a98a9",
   "metadata": {},
   "source": [
    "__32.__\n",
    "15000 students sat for an examination. The mean marks was 49 and the distribution of marks had a\n",
    "standard deviation of 6. Assuming that the marks were normally distributed what proportion of students\n",
    "scored (a) more than 55 marks, (b) more than 70 marks"
   ]
  },
  {
   "cell_type": "markdown",
   "id": "e77c003f-bf10-4820-8703-d532de45e4b8",
   "metadata": {},
   "source": [
    "Given that the mean (μ) of the marks is 49 and the standard deviation (𝜎) is 6, we can use the normal distribution to find the proportions of students who scored more than a certain number of marks. \n",
    "\n",
    "__(a)__ Proportion of students who scored more than 55 marks:\n",
    "\n",
    "Using the z-table, the cumulative probability for z=1 is approximately 0.8413.\n",
    "\n",
    "The proportion of students who scored more than 55 marks is:\n",
    "\n",
    "P(X>55)=1−P(z≤1)=1−0.8413=0.1587\n",
    "\n",
    "So, 15.87% of students scored more than 55 marks.\n",
    "\n",
    "To find the number of students:\n",
    "\n",
    "Number of students=0.1587×15000=2380.5\n",
    "\n",
    "Rounding to the nearest whole number, approximately 2381 students scored more than 55 marks.\n",
    "\n",
    "\n",
    "\n",
    "__(b)__ Proportion of students who scored more than 70 marks:\n",
    "\n",
    "Using the z-table, the cumulative probability for z=3.5 is very close to 1, specifically approximately 0.9997.\n",
    "\n",
    "The proportion of students who scored more than 70 marks is:\n",
    "\n",
    "P(X>70)=1−P(z≤3.5)=1−0.9997=0.0003\n",
    "\n",
    "So, 0.03% of students scored more than 70 marks.\n",
    "\n",
    "To find the number of students: \n",
    "\n",
    "Number of students=0.0003×15000=4.5"
   ]
  },
  {
   "cell_type": "code",
   "execution_count": null,
   "id": "28708611-1c11-4aae-92d9-7fe582624130",
   "metadata": {},
   "outputs": [],
   "source": []
  },
  {
   "cell_type": "markdown",
   "id": "63bdd027-18c0-468c-8781-9402860cb67b",
   "metadata": {},
   "source": [
    "__33.__ \n",
    "If the height of 500 students are normally distributed with mean 65 inch and standard deviation 5 inch.\n",
    "How many students have height : a) greater than 70 inch. b) between 60 and 70 inch."
   ]
  },
  {
   "cell_type": "markdown",
   "id": "6d9133e8-9cde-49d4-b8c8-5476df12e063",
   "metadata": {},
   "source": [
    "Given that the height of 500 students is normally distributed with a mean (μ) of 65 inches and a standard deviation (σ) of 5 inches, we can use the standard normal distribution (z-scores) to find the required number of students.\n",
    "\n",
    "__(a)__ Number of students with height greater than 70 inches:\n",
    "\n",
    "Using the z-table, the cumulative probability for z=1 is approximately 0.8413.\n",
    "\n",
    "The proportion of students with height greater than 70 inches is:\n",
    "\n",
    "P(X>70)=1−P(z≤1)=1−0.8413=0.1587\n",
    "\n",
    "So, 15.87% of students have a height greater than 70 inches.\n",
    "\n",
    "To find the number of students:\n",
    "\n",
    "Number of students=0.1587×500=79.35\n",
    "\n",
    "__(b)__ Number of students with height between 60 and 70 inches:\n",
    "\n",
    "Using the z-table, the cumulative probability for z=−1 is approximately 0.1587, and for z=1, it is approximately 0.8413.\n",
    "\n",
    "The proportion of students with height between 60 and 70 inches is:\n",
    "\n",
    "P(60≤X≤70)=P(−1≤z≤1)=0.8413−0.1587=0.6826\n",
    "\n",
    "So, 68.26% of students have a height between 60 and 70 inches.\n",
    "\n",
    "To find the number of students:\n",
    "\n",
    "Number of students=0.6826×500=341.3\n",
    "\n",
    "Rounding to the nearest whole number, approximately 341 students have a height between 60 and 70 inches.\n",
    "\n"
   ]
  },
  {
   "cell_type": "code",
   "execution_count": null,
   "id": "71aec45c-55d9-4c0c-b531-91d91905cbd0",
   "metadata": {},
   "outputs": [],
   "source": []
  },
  {
   "cell_type": "markdown",
   "id": "946f2531-e5c0-4597-a136-253e2f492912",
   "metadata": {},
   "source": [
    "__34.__ \n",
    "What is the statistical hypothesis? Explain the errors in hypothesis testing.b)Explain the Sample. What\n",
    "are Large Samples & Small Samples?"
   ]
  },
  {
   "cell_type": "markdown",
   "id": "64d5db22-e185-47cf-8b0e-cf83dd6c008b",
   "metadata": {},
   "source": [
    "Statistical Hypothesis\n",
    "A statistical hypothesis is a statement or assumption about the characteristics of a population. It is a fundamental concept in hypothesis testing, where we evaluate the validity of the hypothesis based on sample data. There are two types of hypotheses in hypothesis testing:\n",
    "\n",
    "__Null Hypothesis (H₀):__\n",
    "\n",
    "The null hypothesis is a statement of no effect, no difference, or no relationship.\n",
    "\n",
    "It represents the status quo or a commonly accepted belief.\n",
    "\n",
    "Alternative Hypothesis (H₁ or Hₐ):\n",
    "\n",
    "The alternative hypothesis contradicts the null hypothesis.\n",
    "\n",
    "It states that there is an effect, difference, or relationship.\n",
    "\n",
    "__Errors in Hypothesis Testing__\n",
    "\n",
    "In hypothesis testing, there are two types of errors that can occur:\n",
    "\n",
    "__1.Type I Error (α-error):__\n",
    "\n",
    "Occurs when the null hypothesis H0 is rejected when it is actually true.\n",
    "\n",
    "The probability of committing a Type I error is denoted by α, typically set at 0.05 or 0.01.\n",
    "\n",
    "This error leads to a false positive conclusion.\n",
    "\n",
    "__2.Type II Error (β-error):__\n",
    "\n",
    "Occurs when the null hypothesis H0 is not rejected when it is actually false.\n",
    "\n",
    "The probability of committing a Type II error is denoted by 𝛽.\n",
    "\n",
    "This error leads to a false negative conclusion.\n",
    "\n",
    "__Types of Samples:__\n",
    "\n",
    "__Large Samples:__\n",
    "\n",
    "Large samples typically refer to samples where 𝑛 the sample size) is sufficiently large.\n",
    "\n",
    "Generally, if 𝑛 ≥ 30 n≥30, the sample is considered large.\n",
    "\n",
    "Large samples are often used in statistical inference because they tend to better approximate the population characteristics.\n",
    "\n",
    "They are preferred because they tend to follow the Central Limit Theorem, making the distribution of sample means more normal regardless of the population distribution.\n",
    "\n",
    "__Small Samples:__\n",
    "\n",
    "Small samples refer to samples where 𝑛 is relatively small.\n",
    "\n",
    "The exact cutoff for what constitutes a small sample can vary based on the context and statistical method.\n",
    "\n",
    "Small samples may not follow the Central Limit Theorem as closely, especially if the population distribution is not approximately normal.\n",
    "\n",
    "Statistical tests and confidence intervals for small samples often require different approaches or adjustments to account for the smaller sample size."
   ]
  },
  {
   "cell_type": "code",
   "execution_count": null,
   "id": "bd09bac0-d9cc-4eb7-97ca-a1230667f56b",
   "metadata": {},
   "outputs": [],
   "source": []
  },
  {
   "cell_type": "markdown",
   "id": "5f42bb1e-6916-43c5-9ade-8557822f246f",
   "metadata": {},
   "source": [
    "__35.__\n",
    "A random sample of size 25 from a population gives the sample standard derivation to be 9.0. Test the\n",
    "hypothesis that the population standard derivation is 10.5.\n",
    "Hint(Use chi-square distribution)."
   ]
  },
  {
   "attachments": {
    "57216247-f83b-4d6b-a909-571e1e204dd6.png": {
     "image/png": "[encoded data removed]"
    },
    "e03af690-211b-4bc0-b6df-02e2357ac493.png": {
     "image/png": "[encoded data removed]"
    }
   },
   "cell_type": "markdown",
   "id": "d3c5e21d-933e-4d92-8362-ce0295798e6a",
   "metadata": {},
   "source": [
    "__Hypotheses:__\n",
    "\n",
    "Null Hypothesis (H₀): The population standard deviation is 10.5 (σ=10.5).\n",
    "\n",
    "Alternative Hypothesis (H₁): The population standard deviation is not 10.5 (=10.5).\n",
    "\n",
    "Given Data:\n",
    "\n",
    "Sample size, n=25\n",
    "\n",
    "Sample standard deviation, s=9.0\n",
    "\n",
    "Population standard deviation under the null hypothesis, 𝜎 =10.5\n",
    "\n",
    "Test Statistic:\n",
    "\n",
    "For testing the population standard deviation, we use the chi-square (𝜒2) test statistic for the sample standard deviation s:\n",
    "\n",
    "![image.png](attachment:57216247-f83b-4d6b-a909-571e1e204dd6.png)\n",
    "\n",
    "Where:\n",
    "\n",
    "𝑛 is the sample size.\n",
    "\n",
    "𝑠 is the sample standard deviation.\n",
    "\n",
    "σ0 is the hypothesized population standard deviation under H0.\n",
    "\n",
    "Calculation:\n",
    "\n",
    "1. Compute the Test Statistic:\n",
    "\n",
    "![image.png](attachment:e03af690-211b-4bc0-b6df-02e2357ac493.png)\n",
    "\n",
    "2. Determine the Critical Value:\n",
    "\n",
    "Determine the degrees of freedom df=n−1=24."
   ]
  },
  {
   "cell_type": "code",
   "execution_count": null,
   "id": "f336242a-af9a-44d7-a000-da4326ef8173",
   "metadata": {},
   "outputs": [],
   "source": []
  },
  {
   "cell_type": "markdown",
   "id": "d662b225-6e75-4a6b-926a-f3c28b8a685e",
   "metadata": {},
   "source": [
    "__37.__\n",
    "100 students of a PW IOI obtained the following grades in Data Science paper :\n",
    "Grade :[A, B, C, D, E]\n",
    "Total Frequency :[15, 17, 30, 22, 16, 100]\n",
    "Using the χ 2 test , examine the hypothesis that the distribution of grades is uniform."
   ]
  },
  {
   "cell_type": "markdown",
   "id": "bf279e6b-98f4-4287-9341-18406ad923d8",
   "metadata": {},
   "source": [
    "Hypotheses:\n",
    "\n",
    "Null Hypothesis (H₀): The distribution of grades follows a uniform distribution.\n",
    "\n",
    "Alternative Hypothesis (H₁): The distribution of grades does not follow a uniform distribution.\n",
    "\n",
    "Given Data:\n",
    "\n",
    "Grades: A, B, C, D, E\n",
    "\n",
    "Observed Frequencies: [15, 17, 30, 22, 16]\n",
    "\n",
    "Total number of students (sample size), 𝑛 = 100\n",
    "\n",
    "1. Calculate the Expected Frequency for each grade:\n",
    "\n",
    "Since there are 5 grades and 100 students, the expected frequency for each grade under 𝐻0 is:\n",
    "\n",
    "Expected Frequency= Number of grades/Total number of students =100/5 = 20\n",
    "\n",
    "So, the expected frequencies for each grade are:\n",
    "\n",
    "A: 20\n",
    "\n",
    "B: 20\n",
    "\n",
    "C: 20\n",
    "\n",
    "D: 20\n",
    "\n",
    "E: 20\n",
    "\n",
    "__Degrees of Freedom (df):__\n",
    "\n",
    "df=Number of categories−1.\n",
    "\n",
    "Since there are 5 grades, \n",
    "\n",
    "df=5−1=4.\n",
    "\n",
    "\n",
    "\n"
   ]
  },
  {
   "cell_type": "code",
   "execution_count": null,
   "id": "3284e9f3-4368-471f-bd75-857d61f48309",
   "metadata": {},
   "outputs": [],
   "source": []
  },
  {
   "cell_type": "markdown",
   "id": "e6c81a7b-da35-43ed-80fb-269059491883",
   "metadata": {},
   "source": [
    "__39.__\n",
    "How would you create a basic Flask route that displays \"Hello, World!\" on the homepage?"
   ]
  },
  {
   "cell_type": "markdown",
   "id": "f8209bb4-a29a-49f4-bb6e-2d03de20d1a6",
   "metadata": {},
   "source": [
    "__pip install Flask__\n",
    "\n",
    "from flask import Flask\n",
    "\n",
    "Create a Flask instance\n",
    "\n",
    "app = Flask(__name__)\n",
    "\n",
    "Define a route and a view function\n",
    "\n",
    "@app.route('/')\n",
    "\n",
    "def hello_world():\n",
    "    return 'Hello, World!'\n",
    "\n",
    "Run the application\n",
    "\n",
    "if __name__ == '__main__':\n",
    "    app.run(debug=True)\n",
    "\n",
    "python app.py\n",
    "\n",
    "* Running on http://127.0.0.1:5000/ (Press CTRL+C to quit)\n"
   ]
  },
  {
   "cell_type": "code",
   "execution_count": null,
   "id": "903c333c-512b-4088-b19e-d544d13bec62",
   "metadata": {},
   "outputs": [],
   "source": []
  },
  {
   "cell_type": "markdown",
   "id": "1d448740-b592-4ae7-93c5-811e5b616426",
   "metadata": {},
   "source": [
    "__40.__\n",
    "Explain how to set up a Flask application to handle form submissions using POST requests."
   ]
  },
  {
   "cell_type": "markdown",
   "id": "67aa9733-5533-46b9-b7c3-ea897098781a",
   "metadata": {},
   "source": [
    "pip install Flask\n",
    "\n",
    "from flask import Flask, render_template, request, redirect, url_for\n",
    "\n",
    "app = Flask(__name__)\n",
    "\n",
    "#Route for the home page\n",
    "\n",
    "@app.route('/')\n",
    "\n",
    "def index():\n",
    "    \n",
    "    return render_template('index.html')\n",
    "\n",
    "#Route to handle form submission\n",
    "\n",
    "@app.route('/submit', methods=['POST'])\n",
    "\n",
    "def submit_form():\n",
    "    \n",
    "    if request.method == 'POST':\n",
    "        \n",
    "        # Get form data from the request\n",
    "       \n",
    "        name = request.form['name']\n",
    "        \n",
    "        email = request.form['email']\n",
    "\n",
    "        # Process the form data (e.g., save to database, send email, etc.)\n",
    "        \n",
    "        # Here we'll just print the data\n",
    "        \n",
    "        print(f'Name: {name}, Email: {email}')\n",
    "\n",
    "        # Redirect to a thank you page or any other page after form submission return redirect(url_for('thank_you'))\n",
    "\n",
    "#Route for thank you page\n",
    "\n",
    "@app.route('/thank-you')\n",
    "\n",
    "def thank_you():\n",
    "    \n",
    "    return 'Thank you for submitting the form!'\n",
    "\n",
    "if __name__ == '__main__':\n",
    "    \n",
    "    pp.run(debug=True)\n",
    "\n",
    "\n",
    "#HTML\n",
    "\n",
    "<form action=\"/submit\" method=\"post\">\n",
    "    \n",
    "    <label for=\"name\">Name:</label>\n",
    "    \n",
    "    <input type=\"text\" id=\"name\" name=\"name\" required><br><br>\n",
    "    \n",
    "    <label for=\"email\">Email:</label>\n",
    "    \n",
    "    <input type=\"email\" id=\"email\" name=\"email\" required><br><br>\n",
    "    \n",
    "    <button type=\"submit\">Submit</button>\n",
    "</form>\n",
    "\n",
    "python app.py"
   ]
  },
  {
   "cell_type": "code",
   "execution_count": null,
   "id": "ef0bb834-6e12-4e07-88f4-424853272932",
   "metadata": {},
   "outputs": [],
   "source": []
  },
  {
   "cell_type": "markdown",
   "id": "0684aa8a-50c0-4392-a510-fd149b6bbae9",
   "metadata": {},
   "source": [
    "__41.__\n",
    "Write a Flask route that accepts a parameter in the URL and displays it on the page."
   ]
  },
  {
   "cell_type": "markdown",
   "id": "5a84f7c2-368c-42fc-829c-8c8284915612",
   "metadata": {},
   "source": [
    "#Importing required functions \n",
    "\n",
    "from flask import Flask, request\n",
    "\n",
    "#Flask constructor \n",
    "\n",
    "app = Flask(__name__)\n",
    "\n",
    "#Single URL Converter \n",
    "\n",
    "\n",
    "@app.get('/home/<menu>')\n",
    "\n",
    "def single_converter(menu):\n",
    "\n",
    "\treturn \"You tried accessing 'single_converter' \\\n",
    "\t\n",
    "    endpoint with value of 'menu' as \" + str(menu)\n",
    "\n",
    "\n",
    "#Main Driver Function \n",
    "\n",
    "if __name__ == '__main__':\n",
    "\t\n",
    "    # Run the application on the local development server\n",
    "\t\n",
    "    app.run(debug=True)"
   ]
  },
  {
   "cell_type": "code",
   "execution_count": null,
   "id": "2500d2e9-71a7-46f4-99a3-2973f4c9cf70",
   "metadata": {},
   "outputs": [],
   "source": []
  },
  {
   "cell_type": "markdown",
   "id": "2feb8c26-39f0-4596-a243-07adb58430bd",
   "metadata": {},
   "source": [
    "__42.__ \n",
    "How can you implement user authentication in a Flask application?"
   ]
  },
  {
   "cell_type": "markdown",
   "id": "6a17d511-ca58-4bf8-9620-37c429a0e2df",
   "metadata": {},
   "source": [
    "pip install flask flask-login flask-sqlalchemy\n",
    "\n",
    "__Step 1:__ Import the necessary modules.\n",
    "\n",
    "from flask import Flask\n",
    "\n",
    "from flask_sqlalchemy import SQLAlchemy\n",
    "\n",
    "from flask_login import LoginManager\n",
    "\n",
    "#Create a flask application\n",
    "\n",
    "app = Flask(__name__)\n",
    "\n",
    "#Tells flask-sqlalchemy what database to connect to\n",
    "\n",
    "app.config[\"SQLALCHEMY_DATABASE_URI\"] = \"sqlite:///db.sqlite\"\n",
    "\n",
    "#Enter a secret key\n",
    "\n",
    "app.config[\"SECRET_KEY\"] = \"ENTER YOUR SECRET KEY\"\n",
    "\n",
    "#Initialize flask-sqlalchemy extension\n",
    "\n",
    "db = SQLAlchemy()\n",
    "\n",
    "#LoginManager is needed for our application \n",
    "\n",
    "#to be able to log in and out users\n",
    "\n",
    "login_manager = LoginManager()\n",
    "\n",
    "login_manager.init_app(app)\n",
    "\n",
    "\n",
    "\n",
    "__Step 2:__ Create a User Model & Database\n",
    "\n",
    "#Create user model\n",
    "\n",
    "class Users(UserMixin, db.Model):\n",
    "\t\n",
    "    id = db.Column(db.Integer, primary_key=True)\n",
    "\t\n",
    "    username = db.Column(db.String(250), unique=True,\n",
    "\t\t\t\t\t\t\n",
    "                        nullable=False)\n",
    "\t\n",
    "    password = db.Column(db.String(250),\n",
    "\t\t\t\t\t\t\n",
    "                        nullable=False)\n",
    "\n",
    "\n",
    "#Initialize app with extension\n",
    "\n",
    "db.init_app(app)\n",
    "\n",
    "#Create database within app context\n",
    "\n",
    "with app.app_context():\n",
    "\t\n",
    "    db.create_all()\n",
    "\n",
    "#Creates a user loader callback that returns the user object given an id\n",
    "\n",
    "\n",
    "\n",
    "__Step 3:__ Adding a user loader\n",
    "\n",
    "@login_manager.user_loader\n",
    "\n",
    "def loader_user(user_id):\n",
    "\t\n",
    "    return Users.query.get(user_id)\n",
    "\n",
    "\n",
    "\n",
    "__Step 4:__ Registering new accounts with Flask-Login\n",
    "\n",
    "__HTML__\n",
    "<!DOCTYPE html>\n",
    "<html lang=\"en\">\n",
    "<head>\n",
    "\t<meta charset=\"UTF-8\" />\n",
    "\t<meta http-equiv=\"X-UA-Compatible\" content=\"IE=edge\" />\n",
    "\t<meta name=\"viewport\" content=\"width=device-width, initial-scale=1.0\" />\n",
    "\t<title>Sign Up</title>\n",
    "\t<style>\n",
    "\th1 {\n",
    "\t\tcolor: green;\n",
    "\t}\n",
    "\t</style>\n",
    "</head>\n",
    "<body>\n",
    "\t<nav>\n",
    "\t<ul>\n",
    "\t\t<li><a href=\"/login\">Login</a></li>\n",
    "\t\t<li><a href=\"/register\">Create account</a></li>\n",
    "\t</ul>\n",
    "\t</nav>\n",
    "\t<h1>Create an account</h1>\n",
    "\t<form action=\"#\" method=\"post\">\n",
    "\t<label for=\"username\">Username:</label>\n",
    "\t<input type=\"text\" name=\"username\" />\n",
    "\t<label for=\"password\">Password:</label>\n",
    "\t<input type=\"password\" name=\"password\" />\n",
    "\t<button type=\"submit\">Submit</button>\n",
    "\t</form>\n",
    "</body>\n",
    "</html>\n",
    "\n",
    "\n",
    "@app.route('/register', methods=[\"GET\", \"POST\"])\n",
    "\n",
    "def register():\n",
    "\n",
    "#If the user made a POST request, create a new user\n",
    "\t\n",
    "    if request.method == \"POST\":\n",
    "\t\t\n",
    "        user = Users(username=request.form.get(\"username\"),\n",
    "\t\t\t\t\t\n",
    "                    password=request.form.get(\"password\"))\n",
    "\t\t\n",
    "        # Add the user to the database\n",
    "\t\t\n",
    "        db.session.add(user)\n",
    "\t\t\n",
    "        # Commit the changes made\n",
    "\t\t\n",
    "        db.session.commit()\n",
    "\t\t\n",
    "        # Once user account created, redirect them\n",
    "\t\t# to login route (created later on)\n",
    "\t\t\n",
    "        return redirect(url_for(\"login\"))\n",
    "\t\n",
    "    # Renders sign_up template if user made a GET request\n",
    "\t\n",
    "    return render_template(\"sign_up.html\")\n",
    "\n",
    "\n",
    "__Step 5:__ Allowing users to log in with Flask-Login\n",
    "\n",
    "<!DOCTYPE html>\n",
    "<html lang=\"en\">\n",
    "<head>\n",
    "\t<meta charset=\"UTF-8\" />\n",
    "\t<meta http-equiv=\"X-UA-Compatible\" content=\"IE=edge\" />\n",
    "\t<meta name=\"viewport\" content=\"width=device-width, initial-scale=1.0\" />\n",
    "\t<title>Login</title>\n",
    "\t<style>\n",
    "\t\th1{\n",
    "\t\tcolor: green;\n",
    "\t\t}\n",
    "\t</style>\n",
    "</head>\n",
    "<body>\n",
    "\t<nav>\n",
    "\t<ul>\n",
    "\t\t<li><a href=\"/login\">Login</a></li>\n",
    "\t\t<li><a href=\"/register\">Create account</a></li>\n",
    "\t</ul>\n",
    "\t</nav>\n",
    "\t<h1>Login to your account</h1>\n",
    "\t<form action=\"#\" method=\"post\">\n",
    "\t<label for=\"username\">Username:</label>\n",
    "\t<input type=\"text\" name=\"username\" />\n",
    "\t<label for=\"password\">Password:</label>\n",
    "\t<input type=\"password\" name=\"password\" />\n",
    "\t<button type=\"submit\">Submit</button>\n",
    "\t</form>\n",
    "</body>\n",
    "</html>\n",
    "\n",
    "\n",
    "@app.route(\"/login\", methods=[\"GET\", \"POST\"])\n",
    "\n",
    "def login():\n",
    "\t#If a post request was made, find the user by \n",
    "\t\n",
    "    #filtering for the username\n",
    "\t\n",
    "    if request.method == \"POST\":\n",
    "\t\t\n",
    "        user = Users.query.filter_by(\n",
    "\t\t\t\n",
    "            username=request.form.get(\"username\")).first()\n",
    "\t\t\n",
    "        #Check if the password entered is the \n",
    "\t\t\n",
    "        #same as the user's password\n",
    "\t\t\n",
    "        if user.password == request.form.get(\"password\"):\n",
    "\t\t\t\n",
    "            #Use the login_user method to log in the user\n",
    "\t\t\t\n",
    "            login_user(user)\n",
    "\t\t\t\n",
    "            return redirect(url_for(\"home\"))\n",
    "\t\t\n",
    "        #Redirect the user back to the home\n",
    "\t\t\n",
    "        #(we'll create the home route in a moment)\n",
    "\t\n",
    "    return render_template(\"login.html\")\n",
    "\n",
    "\n",
    "\n",
    "__Complete code__\n",
    "\n",
    "from flask import Flask, render_template, request, url_for, redirect\n",
    "\n",
    "from flask_sqlalchemy import SQLAlchemy\n",
    "\n",
    "from flask_login import LoginManager, UserMixin, login_user, logout_user\n",
    "\n",
    "app = Flask(__name__)\n",
    "\n",
    "app.config[\"SQLALCHEMY_DATABASE_URI\"] = \"sqlite:///db.sqlite\"\n",
    "\n",
    "app.config[\"SECRET_KEY\"] = \"abc\"\n",
    "\n",
    "db = SQLAlchemy()\n",
    "\n",
    "login_manager = LoginManager()\n",
    "\n",
    "login_manager.init_app(app)\n",
    "\n",
    "\n",
    "class Users(UserMixin, db.Model):\n",
    "\t\n",
    "    id = db.Column(db.Integer, primary_key=True)\n",
    "\t\n",
    "    username = db.Column(db.String(250), unique=True, nullable=False)\n",
    "\t\n",
    "    password = db.Column(db.String(250), nullable=False)\n",
    "\n",
    "\n",
    "db.init_app(app)\n",
    "\n",
    "with app.app_context():\n",
    "\t\n",
    "    db.create_all()\n",
    "\n",
    "\n",
    "@login_manager.user_loader\n",
    "\n",
    "def loader_user(user_id):\n",
    "\t\n",
    "    return Users.query.get(user_id)\n",
    "\n",
    "\n",
    "@app.route('/register', methods=[\"GET\", \"POST\"])\n",
    "\n",
    "def register():\n",
    "\t\n",
    "    if request.method == \"POST\":\n",
    "\t\t\n",
    "        user = Users(username=request.form.get(\"username\"),\n",
    "\t\t\t\t\t\n",
    "                    password=request.form.get(\"password\"))\n",
    "\t\t\n",
    "        db.session.add(user)\n",
    "\t\t\n",
    "        db.session.commit()\n",
    "\t\t\n",
    "        return redirect(url_for(\"login\"))\n",
    "\t\n",
    "    return render_template(\"sign_up.html\")\n",
    "\n",
    "\n",
    "@app.route(\"/login\", methods=[\"GET\", \"POST\"])\n",
    "\n",
    "def login():\n",
    "\t\n",
    "    if request.method == \"POST\":\n",
    "\t\t\n",
    "        user = Users.query.filter_by(\n",
    "\t\t\t\n",
    "            username=request.form.get(\"username\")).first()\n",
    "\t\t\n",
    "        if user.password == request.form.get(\"password\"):\n",
    "\t\t\t\n",
    "            login_user(user)\n",
    "\t\t\t\n",
    "            return redirect(url_for(\"home\"))\n",
    "\t\n",
    "    return render_template(\"login.html\")\n",
    "\n",
    "\n",
    "@app.route(\"/logout\")\n",
    "\n",
    "def logout():\n",
    "\t\n",
    "    logout_user()\n",
    "\t\n",
    "    return redirect(url_for(\"home\"))\n",
    "\n",
    "\n",
    "@app.route(\"/\")\n",
    "\n",
    "def home():\n",
    "\t\n",
    "    return render_template(\"home.html\")\n",
    "\n",
    "\n",
    "if __name__ == \"__main__\":\n",
    "\t\n",
    "    app.run()\n"
   ]
  },
  {
   "cell_type": "code",
   "execution_count": null,
   "id": "b75adeac-eea2-4b69-acad-bea14008ae92",
   "metadata": {},
   "outputs": [],
   "source": []
  },
  {
   "cell_type": "markdown",
   "id": "750d4931-93b6-4a5d-94b0-b68f94deddd9",
   "metadata": {},
   "source": [
    "__43.__\n",
    "Describe the process of connecting a Flask app to a SQLite database using SQLAlchemy."
   ]
  },
  {
   "cell_type": "markdown",
   "id": "0ac2e14d-95f3-4bab-a349-017b1d40f073",
   "metadata": {},
   "source": [
    "__Step 1__ — Installing Flask and Flask-SQLAlchemy\n",
    "\n",
    "pip install Flask Flask-SQLAlchemy\n",
    "\n",
    "__Step 2__ — Setting up the Database and Model\n",
    "\n",
    "nano app.py\n",
    "\n",
    "import os\n",
    "\n",
    "from flask import Flask, render_template, request, url_for, redirect\n",
    "\n",
    "from flask_sqlalchemy import SQLAlchemy\n",
    "\n",
    "from sqlalchemy.sql import func\n",
    "\n",
    "basedir = os.path.abspath(os.path.dirname(__file__))\n",
    "\n",
    "app = Flask(__name__)\n",
    "\n",
    "app.config['SQLALCHEMY_DATABASE_URI'] =\\\n",
    "        \n",
    "        'sqlite:///' + os.path.join(basedir, 'database.db')\n",
    "\n",
    "app.config['SQLALCHEMY_TRACK_MODIFICATIONS'] = False\n",
    "\n",
    "db = SQLAlchemy(app)\n",
    "\n",
    "__Declaring The Table__\n",
    "\n",
    "\n",
    "class Student(db.Model):\n",
    "    \n",
    "    id = db.Column(db.Integer, primary_key=True)\n",
    "    \n",
    "    firstname = db.Column(db.String(100), nullable=False)\n",
    "    \n",
    "    lastname = db.Column(db.String(100), nullable=False)\n",
    "    \n",
    "    email = db.Column(db.String(80), unique=True, nullable=False)\n",
    "    \n",
    "    age = db.Column(db.Integer)\n",
    "    \n",
    "    created_at = db.Column(db.DateTime(timezone=True),\n",
    "    \n",
    "                           \n",
    "                        server_default=func.now())\n",
    "    \n",
    "    bio = db.Column(db.Text)\n",
    "\n",
    "    def __repr__(self):\n",
    "        \n",
    "        return f'<Student {self.firstname}>'\n",
    "\n",
    "\n",
    "import os\n",
    "\n",
    "from flask import Flask, render_template, request, url_for, redirect\n",
    "\n",
    "from flask_sqlalchemy import SQLAlchemy\n",
    "\n",
    "from sqlalchemy.sql import func\n",
    "\n",
    "\n",
    "basedir = os.path.abspath(os.path.dirname(__file__))\n",
    "\n",
    "app = Flask(__name__)\n",
    "\n",
    "app.config['SQLALCHEMY_DATABASE_URI'] =\\\n",
    "        \n",
    "        'sqlite:///' + os.path.join(basedir, 'database.db')\n",
    "\n",
    "app.config['SQLALCHEMY_TRACK_MODIFICATIONS'] = False\n",
    "\n",
    "db = SQLAlchemy(app)\n",
    "\n",
    "class Student(db.Model):\n",
    "    \n",
    "    id = db.Column(db.Integer, primary_key=True)\n",
    "    \n",
    "    firstname = db.Column(db.String(100), nullable=False)\n",
    "    \n",
    "    lastname = db.Column(db.String(100), nullable=False)\n",
    "    \n",
    "    email = db.Column(db.String(80), unique=True, nullable=False)\n",
    "    \n",
    "    age = db.Column(db.Integer)\n",
    "    \n",
    "    created_at = db.Column(db.DateTime(timezone=True),\n",
    "    \n",
    "                           server_default=func.now())\n",
    "   \n",
    "    bio = db.Column(db.Text)\n",
    "\n",
    "    def __repr__(self):\n",
    "        \n",
    "        return f'<Student {self.firstname}>'\n",
    "\n",
    "\n",
    "__Creating the Database__\n",
    "\n",
    "export FLASK_APP=app\n",
    "\n",
    "flask shell\n",
    "\n",
    "from app import db, Student\n",
    "\n",
    "db.create_all()\n",
    "\n",
    "__Populating the Table__\n",
    "\n",
    "flask shell\n",
    "\n",
    "from app import db, Student\n",
    "\n",
    "student_john = Student(firstname='john', lastname='doe',\n",
    "                       \n",
    "                       email='jd@example.com', age=23,\n",
    "                      \n",
    "                       bio='Biology student')\n",
    "\n",
    "student_john\n",
    "\n",
    "student_john.firstname\n",
    "\n",
    "student_john.bio\n",
    "\n",
    "print(student_john.id)\n",
    "\n",
    "db.session.add(student_john)\n",
    "\n",
    "db.session.commit()\n",
    "\n",
    "print(student_john.id)\n",
    "\n",
    "student_john.email = 'john_doe@example.com'\n",
    "\n",
    "db.session.add(student_john)\n",
    "\n",
    "db.session.commit()\n",
    "\n",
    "sammy = Student(firstname='Sammy',\n",
    "               \n",
    "               lastname='Shark',\n",
    "               \n",
    "               email='sammyshark@example.com',\n",
    "               \n",
    "               age=20,\n",
    "               \n",
    "               bio='Marine biology student')\n",
    "\n",
    "carl = Student(firstname='Carl',\n",
    "               \n",
    "               lastname='White',\n",
    "               \n",
    "               email='carlwhite@example.com',\n",
    "               \n",
    "               age=22,\n",
    "               \n",
    "               bio='Marine geology student')\n",
    "\n",
    "db.session.add(sammy)\n",
    "\n",
    "db.session.add(carl)\n",
    "\n",
    "db.session.commit()\n",
    "\n",
    "Student.query.all()\n",
    "\n",
    "\n",
    "__Step 3 — Displaying All Records__\n",
    "\n",
    "nano app.py\n",
    "\n",
    "@app.route('/')\n",
    "\n",
    "def index():\n",
    "    \n",
    "    students = Student.query.all()\n",
    "    \n",
    "    return render_template('index.html', students=students)\n",
    "\n",
    "mkdir templates\n",
    "\n",
    "nano templates/base.html\n",
    "\n",
    "nano templates/index.html\n",
    "\n",
    "export FLASK_APP=app\n",
    "\n",
    "export FLASK_ENV=development\n",
    "\n",
    "flask run    "
   ]
  },
  {
   "cell_type": "code",
   "execution_count": null,
   "id": "87692438-cf1e-467a-877f-5328bf8d5783",
   "metadata": {},
   "outputs": [],
   "source": []
  },
  {
   "cell_type": "markdown",
   "id": "5902ebe5-0929-422e-84c9-fdea64e53e24",
   "metadata": {},
   "source": [
    "__44.__\n",
    "How would you create a RESTful API endpoint in Flask that returns JSON data?"
   ]
  },
  {
   "cell_type": "markdown",
   "id": "1b16c16d-8e7c-4b86-9cdc-4c495d09f66c",
   "metadata": {},
   "source": [
    "We are going to write a simple flask API that returns a JSON response using two approaches:\n",
    "\n",
    "1. Using Flask jsonify object.\n",
    "2. Using the flask_restful library with Flask.\n",
    "\n",
    "__Libraries Required:__\n",
    "\n",
    "Install the python Flask library using the following command:\n",
    "\n",
    "pip install Flask\n",
    "\n",
    "Install the flask-restful library using the following command:\n",
    "\n",
    "pip install Flask-RESTful\n",
    "\n",
    "Approach 1: Using Flask jsonify object – In this approach, we are going to return a JSON response using the flask jsonify method. We are not going to use the flask-restful library in this method.\n",
    "\n",
    "Create a new python file named ‘main.py’.\n",
    "\n",
    "import Flask, jsonify, and request from the flask framework.\n",
    "\n",
    "Register the web app into an app variable using the following syntax.\n",
    "\n",
    "app = Flask(__name__)\n",
    "\n",
    "Create a new function named ‘ReturnJSON’. This function is going to return the sample JSON response.\n",
    "\n",
    "Route the ‘ReturnJSON’ function to your desired URL using the following syntax.\n",
    "\n",
    "@app.route('/path_of_the_response', methods = ['GET'])\n",
    "\n",
    "def ReturnJSON():\n",
    "    pass\n",
    "\n",
    "Inside the ‘ReturnJSON’ function if the request method is ‘GET’ then create a python dictionary with the two elements message.\n",
    "\n",
    "Jsonify the python dictionary and return it.\n",
    "\n",
    "Build the flask application using the following command.\n",
    "\n",
    "if __name__=='__main__':\n",
    "    app.run(debug=True)\n",
    "\n",
    "\n",
    "\n",
    "from flask import Flask,jsonify,request \n",
    "\n",
    "app = Flask(__name__) \n",
    "\n",
    "@app.route('/returnjson', methods = ['GET']) \n",
    "\n",
    "def ReturnJSON(): \n",
    "\n",
    "    if(request.method == 'GET'): \n",
    "\t\n",
    "        data = { \n",
    "\t\t\n",
    "            \"Modules\" : 15, \n",
    "\t\t\t\n",
    "            \"Subject\" : \"Data Structures and Algorithms\", \n",
    "\t\t} \n",
    "\n",
    "\t\treturn jsonify(data) \n",
    "\n",
    "if __name__=='__main__': \n",
    "\n",
    "    app.run(debug=True)\n"
   ]
  },
  {
   "cell_type": "code",
   "execution_count": null,
   "id": "a234d5cc-c3de-410a-b6bb-a53a780c91e8",
   "metadata": {},
   "outputs": [],
   "source": []
  },
  {
   "cell_type": "markdown",
   "id": "512b5491-1a28-4224-9fc2-366cb292282d",
   "metadata": {},
   "source": [
    "__45.__\n",
    "Explain how to use Flask-WTF to create and validate forms in a Flask application."
   ]
  },
  {
   "cell_type": "markdown",
   "id": "e15aabe6-7d30-46ef-9bd5-d3cde1e59959",
   "metadata": {},
   "source": [
    "__Flask-WTF__ is a Flask extension that integrates the WTForms library, which provides useful features for creating and handling forms in a simple way for a Flask web application. WTForms is a Python library for working with forms and form fields. It provides a flexible framework for creating forms, handling validation, and rendering forms in HTML. In this article, let us understand how the Flask-WTF library handles web forms with a Signup form example.\n",
    "\n",
    "__Secure handling of forms:__ Flask-WTF automatically handles cross-site request forgery (CSRF) protection, which is a security measure to prevent unauthorized form submissions.\n",
    "\n",
    "__Form rendering:__ Flask-WTF provides a simple way to render forms in HTML templates. It also supports various form field types, such as text fields, checkboxes, and select fields.\n",
    "\n",
    "__Validation:__ Flask-WTF provides built-in validation for form fields, such as required fields, length constraints, and pattern matching. It also supports custom validation methods.\n",
    "\n",
    "__File uploads:__ Flask-WTF can handle file uploads, which allows users to upload files through a form.\n",
    "\n",
    "__Basic knowledge of Python:__ Flask is written in Python, so having a basic understanding of Python programming is essential.\n",
    "\n",
    "Familiarity with __HTML__, __CSS__, and __JavaScript:__ Flask applications typically use HTML, CSS, and JavaScript to render the user interface, so having a basic understanding of these technologies is helpful.\n",
    "\n",
    "__Knowledge of the Flask framework:__ Flask is a microweb framework for Python, so having a basic understanding of how Flask works, including its routing, templates, and request/response cycles, is necessary.\n",
    "\n",
    "\n",
    "__WTForms__ provides several built-in field types, some of which are:\n",
    "\n",
    "1. StringField: Represents a text input field, used for entering strings. Basically, this field supports string-type data.\n",
    "2. PasswordField: Represents a password input field, used for entering password values.\n",
    "3. BooleanField: Represents a checkbox input field, used for selecting boolean values such as True or False.\n",
    "4. DecimalField: Represents a text input field, used for decimals.\n",
    "5. RadioField: Represents a group of radio buttons, used for selecting a single value from a list of options.\n",
    "6. SelectField: Represents a select list, used for selecting a single value from a list of options.\n",
    "7. TextAreaField: Represents a textarea input field, used for entering multi-line text.\n",
    "8. FileField: Represents a file upload field, used for uploading files.\n",
    "\n",
    "\n",
    "__pip install flask-WTF__\n",
    "\n",
    "\n",
    "#Importing Libraries.. \n",
    "\n",
    "from flask import Flask, render_template, request \n",
    "\n",
    "from flask_wtf import FlaskForm \n",
    "\n",
    "from wtforms import StringField, PasswordField, BooleanField \n",
    "\n",
    "from wtforms import DecimalField, RadioField, SelectField, TextAreaField, FileField \n",
    "\n",
    "from wtforms.validators import InputRequired \n",
    "\n",
    "from werkzeug.security import generate_password_hash \n",
    "\n",
    "app = Flask(__name__) \n",
    "\n",
    "app.config['SECRET_KEY'] = 'secretkey'\n",
    "\n",
    "\n",
    "class MyForm(FlaskForm): \n",
    "\t\n",
    "    name = StringField('Name', validators=[InputRequired()]) \n",
    "\t\n",
    "    password = PasswordField('Password', validators=[InputRequired()]) \n",
    "\t\n",
    "    remember_me = BooleanField('Remember me') \n",
    "\t\n",
    "    salary = DecimalField('Salary', validators=[InputRequired()]) \n",
    "\t\n",
    "    gender = RadioField('Gender', choices=[ \n",
    "\t\n",
    "                        ('male', 'Male'), ('female', 'Female')]) \n",
    "\t\n",
    "    country = SelectField('Country', choices=[('IN', 'India'), ('US', 'United States'), \n",
    "\t\n",
    "                                            ('UK', 'United Kingdom')]) \n",
    "\t\n",
    "    message = TextAreaField('Message', validators=[InputRequired()]) \n",
    "\t\n",
    "    photo = FileField('Photo') \n",
    "\n",
    "\n",
    "@app.route('/', methods=['GET', 'POST']) \n",
    "\n",
    "def index(): \n",
    "\t\n",
    "    form = MyForm() \n",
    "\t\n",
    "    if form.validate_on_submit(): \n",
    "\t\n",
    "        name = form.name.data \n",
    "\t\t\n",
    "        password = form.password.data \n",
    "\t\t\n",
    "        remember_me = form.remember_me.data \n",
    "\t\t\n",
    "        salary = form.salary.data \n",
    "\t\t\n",
    "        gender = form.gender.data \n",
    "\t\t\n",
    "        country = form.country.data \n",
    "\t\t\n",
    "        message = form.message.data \n",
    "\t\t\n",
    "        photo = form.photo.data.filename \n",
    "\t\t\n",
    "        return f'Name: {name} < br > Password: {generate_password_hash(password)} \n",
    "\t\t\n",
    "        <br > Remember me: {remember_me} < br > Salary: {salary} < br > Gender: {gender} \n",
    "\t\t\n",
    "        <br > Country: {country} < br > Message: {message} < br > Photo: {photo}' \n",
    "\t\n",
    "    return render_template('index.html', form=form) \n",
    "\n",
    "\n",
    "if __name__ == '__main__': \n",
    "\t\n",
    "    app.run() \n",
    "\n",
    "\n",
    "\n",
    "\n",
    "\n"
   ]
  },
  {
   "cell_type": "code",
   "execution_count": null,
   "id": "7decf198-d054-45e2-9d7f-4250e5d05eee",
   "metadata": {},
   "outputs": [],
   "source": []
  },
  {
   "cell_type": "markdown",
   "id": "9a007f00-faa5-48ab-ba37-f2fb806dcc58",
   "metadata": {},
   "source": [
    "46.How can you implement file uploads in a Flask application?"
   ]
  },
  {
   "cell_type": "markdown",
   "id": "9557ffe8-41fe-4b17-bfd2-4a8076ece047",
   "metadata": {},
   "source": [
    "__Uploading Files__\n",
    "\n",
    "1. A <form> tag is marked with enctype=multipart/form-data and an <input type=file> is placed in that form.\n",
    "2. The application accesses the file from the files dictionary on the request object.\n",
    "3. use the save() method of the file to save the file permanently somewhere on the filesystem.\n",
    "\n",
    "\n",
    "import os\n",
    "\n",
    "from flask import Flask, flash, request, redirect, url_for\n",
    "\n",
    "from werkzeug.utils import secure_filename\n",
    "\n",
    "UPLOAD_FOLDER = '/path/to/the/uploads'\n",
    "\n",
    "ALLOWED_EXTENSIONS = {'txt', 'pdf', 'png', 'jpg', 'jpeg', 'gif'}\n",
    "\n",
    "app = Flask(__name__)\n",
    "\n",
    "app.config['UPLOAD_FOLDER'] = UPLOAD_FOLDER\n",
    "\n",
    "\n",
    "\n",
    "Next the functions that check if an extension is valid and that uploads the file and redirects the user to the URL for the uploaded file:\n",
    "\n",
    "def allowed_file(filename):\n",
    "    \n",
    "    return '.' in filename and \\\n",
    "           \n",
    "           filename.rsplit('.', 1)[1].lower() in ALLOWED_EXTENSIONS\n",
    "\n",
    "@app.route('/', methods=['GET', 'POST'])\n",
    "\n",
    "def upload_file():\n",
    "\n",
    "    if request.method == 'POST':\n",
    "    \n",
    "        # check if the post request has the file part\n",
    "        \n",
    "        if 'file' not in request.files:\n",
    "        \n",
    "            flash('No file part')\n",
    "            \n",
    "            \n",
    "            return redirect(request.url)\n",
    "        \n",
    "        file = request.files['file']\n",
    "       \n",
    "        # If the user does not select a file, the browser submits an\n",
    "        \n",
    "        # empty file without a filename.\n",
    "        \n",
    "        if file.filename == '':\n",
    "        \n",
    "            flash('No selected file')\n",
    "            \n",
    "            return redirect(request.url)\n",
    "      \n",
    "        if file and allowed_file(file.filename):\n",
    "        \n",
    "            filename = secure_filename(file.filename)\n",
    "            \n",
    "            file.save(os.path.join(app.config['UPLOAD_FOLDER'], filename))\n",
    "            \n",
    "            return redirect(url_for('download_file', name=filename))\n",
    "    \n",
    "    return '''\n",
    "    \n",
    "    <!doctype html>\n",
    "    \n",
    "    <title>Upload new File</title>\n",
    "    \n",
    "    <h1>Upload new File</h1>\n",
    "    \n",
    "    <form method=post enctype=multipart/form-data>\n",
    "    \n",
    "      <input type=file name=file>\n",
    "      \n",
    "      <input type=submit value=Upload>\n",
    "    \n",
    "    </form>\n",
    "    \n",
    "    '''\n",
    "\n",
    "\n",
    "from flask import send_from_directory\n",
    "\n",
    "@app.route('/uploads/<name>')\n",
    "\n",
    "def download_file(name):\n",
    "    \n",
    "    return send_from_directory(app.config[\"UPLOAD_FOLDER\"], name)\n",
    "\n",
    "     app.add_url_rule(\n",
    "    \n",
    "    \"/uploads/<name>\", endpoint=\"download_file\", build_only=True\n",
    ")\n",
    "\n",
    "from flask import Flask, Request\n",
    "\n",
    "app = Flask(__name__)\n",
    "\n",
    "app.config['MAX_CONTENT_LENGTH'] = 16 * 1000 * 1000"
   ]
  },
  {
   "cell_type": "code",
   "execution_count": null,
   "id": "b0b990ad-6bb7-4ac6-a156-3e7c721578e3",
   "metadata": {},
   "outputs": [],
   "source": []
  },
  {
   "cell_type": "markdown",
   "id": "3f0144a8-d818-43e5-a384-f77d8aab5821",
   "metadata": {},
   "source": [
    "__47.__\n",
    "Describe the steps to create a Flask blueprint and why you might use one."
   ]
  },
  {
   "cell_type": "markdown",
   "id": "59f53490-0654-48d0-929b-94ebd5264bd7",
   "metadata": {},
   "source": [
    "A Blueprint is a way to organize a group of related views and other code. Rather than registering views and other code directly with an application, they are registered with a blueprint. Then the blueprint is registered with the application when it is available in the factory function.\n",
    "\n",
    "Flaskr will have two blueprints, one for authentication functions and one for the blog posts functions. The code for each blueprint will go in a separate module.\n",
    "\n",
    "import functools\n",
    "\n",
    "from flask import (\n",
    "    \n",
    "    Blueprint, flash, g, redirect, render_template, request, session, url_for\n",
    ")\n",
    "\n",
    "from werkzeug.security import check_password_hash, generate_password_hash\n",
    "\n",
    "from flaskr.db import get_db\n",
    "\n",
    "bp = Blueprint('auth', __name__, url_prefix='/auth')\n",
    "\n",
    "\n",
    "#flaskr/__init__.py\n",
    "\n",
    "def create_app():\n",
    "    \n",
    "    app = ...\n",
    "    \n",
    "    # existing code omitted\n",
    "\n",
    "    from . import auth\n",
    "    \n",
    "    app.register_blueprint(auth.bp)\n",
    "\n",
    "    return app\n",
    "\n",
    "#flaskr/auth.py\n",
    "\n",
    "@bp.route('/register', methods=('GET', 'POST'))\n",
    "\n",
    "def register():\n",
    "\n",
    "    if request.method == 'POST':\n",
    "    \n",
    "        username = request.form['username']\n",
    "        \n",
    "        password = request.form['password']\n",
    "        \n",
    "        db = get_db()\n",
    "        \n",
    "        error = None\n",
    "\n",
    "\n",
    "        if not username:\n",
    "        \n",
    "            error = 'Username is required.'\n",
    "       \n",
    "        elif not password:\n",
    "        \n",
    "            error = 'Password is required.'\n",
    "\n",
    "        \n",
    "        if error is None:\n",
    "        \n",
    "            try:\n",
    "            \n",
    "                db.execute(\n",
    "                \n",
    "                    \"INSERT INTO user (username, password) VALUES (?, ?)\",\n",
    "                    \n",
    "                    (username, generate_password_hash(password)),\n",
    "                )\n",
    "               \n",
    "                db.commit()\n",
    "         \n",
    "            except db.IntegrityError:\n",
    "            \n",
    "                error = f\"User {username} is already registered.\"\n",
    "           \n",
    "            else:\n",
    "              \n",
    "                return redirect(url_for(\"auth.login\"))\n",
    "\n",
    "        flash(error)\n",
    "\n",
    "    return render_template('auth/register.html')\n",
    "\n",
    "\n",
    "\n",
    "__Login__\n",
    "\n",
    "\n",
    "flaskr/auth.py\n",
    "\n",
    "@bp.route('/login', methods=('GET', 'POST'))\n",
    "\n",
    "def login():\n",
    "\n",
    "    if request.method == 'POST':\n",
    "    \n",
    "        username = request.form['username']\n",
    "        \n",
    "        password = request.form['password']\n",
    "        \n",
    "        db = get_db()\n",
    "        \n",
    "        error = None\n",
    "        \n",
    "        user = db.execute(\n",
    "        \n",
    "            'SELECT * FROM user WHERE username = ?', (username,)\n",
    "        \n",
    "        ).fetchone()\n",
    "\n",
    "        if user is None:\n",
    "           \n",
    "            error = 'Incorrect username.'\n",
    "       \n",
    "        elif not check_password_hash(user['password'], password):\n",
    "           \n",
    "            error = 'Incorrect password.'\n",
    "\n",
    "        if error is None:\n",
    "           \n",
    "            session.clear()\n",
    "           \n",
    "            session['user_id'] = user['id']\n",
    "            \n",
    "            return redirect(url_for('index'))\n",
    "\n",
    "        flash(error)\n",
    "\n",
    "    return render_template('auth/login.html')\n",
    "\n",
    "__Logout__\n",
    "\n",
    "flaskr/auth.py\n",
    "\n",
    "@bp.route('/logout')\n",
    "\n",
    "def logout():\n",
    "\n",
    "    session.clear()\n",
    "    \n",
    "    return redirect(url_for('index')) "
   ]
  },
  {
   "cell_type": "code",
   "execution_count": null,
   "id": "491322cd-7af5-44c5-9610-c1e3426142c7",
   "metadata": {},
   "outputs": [],
   "source": []
  },
  {
   "cell_type": "markdown",
   "id": "979787c8-8b07-45cf-8fd4-ac5ad63f8869",
   "metadata": {},
   "source": [
    "__48.__\n",
    "How would you deploy a Flask application to a production server using Gunicorn and Nginx?"
   ]
  },
  {
   "cell_type": "markdown",
   "id": "3c4625aa-6bf7-4388-8b6d-2221df65cf95",
   "metadata": {},
   "source": [
    "__Step 0__ : Create a sudo non-root user\n",
    "\n",
    "__Step 1__ : Install the required packages\n",
    "\n",
    "update the package index\n",
    "\n",
    "sudo apt update\n",
    "\n",
    "sudo apt install python3-pip python3-dev nginx -y\n",
    "\n",
    "\n",
    "__Step 2__ : Create a directory (for our Flask app) and setup a virtual environment\n",
    "\n",
    "Let's install virtualenv\n",
    "\n",
    "sudo pip3 install virtualenv\n",
    "\n",
    "pwd\n",
    "\n",
    "mkdir myFlaskApp && cd myFlaskApp\n",
    "\n",
    "virtualenv env\n",
    "\n",
    "source env/bin/activate\n",
    "\n",
    "pip3 install flask gunicorn\n",
    "\n",
    "__Step 3__ : Creating a sample project and WSGI entry point\n",
    "\n",
    "vim app.py\n",
    "\n",
    "from flask import Flask\n",
    "\n",
    "app = Flask(__name__)\n",
    "\n",
    "@app.route('/')\n",
    "\n",
    "def hello_world():\n",
    "\n",
    "    return \"Hello World!\"\n",
    "\n",
    "if __name__ == '__main__':\n",
    "   \n",
    "    app.run(debug=True,host='0.0.0.0')\n",
    "\n",
    "\n",
    "we’ll create a file that will serve as the entry point for our  application. This will tell our  Gunicorn server how to interact with the application.\n",
    "\n",
    "vim wsgi.py\n",
    "\n",
    "from app import app\n",
    "\n",
    "if __name__ == \"__main__\":\n",
    "    \n",
    "    app.run()\n",
    "\n",
    "gunicorn --bind 0.0.0.0:5000 wsgi:app\n",
    "\n",
    "myFlaskApp\n",
    "  |____ app.py\n",
    "  |____ wsgi.py\n",
    "  |____ env\n",
    "\n",
    "deactivate our virtual environment now:\n",
    "\n",
    "deactivate\n",
    "\n",
    "\n",
    "__Step 4__ : Creating a systemd service\n",
    "\n",
    "sudo vim /etc/systemd/system/app.service\n",
    "\n",
    "Activate this service by typing:\n",
    "\n",
    "sudo systemctl start app\n",
    "\n",
    "sudo systemctl enable app\n",
    "\n",
    "\n",
    "__Step 5__ : Configuring Nginx\n",
    "\n",
    "Create a file named  app inside /etc/nginx/sites-available\n",
    "\n",
    "sudo vim /etc/nginx/sites-available/app\n",
    "\n",
    "server {\n",
    "\n",
    "listen 80;\n",
    "\n",
    "server_name 194.195.112.179;\n",
    "\n",
    "location / {\n",
    "  \n",
    "  include proxy_params;\n",
    "  \n",
    "  proxy_pass http://unix:/home/harry/myFlaskApp/app.sock;\n",
    "    \n",
    "    }\n",
    "\n",
    "location /static  {\n",
    "    \n",
    "    include  /etc/nginx/mime.types;\n",
    "    \n",
    "    root /home/harry/myFlaskApp/;\n",
    "  \n",
    "  }\n",
    "\n",
    "}\n",
    "\n",
    "\n",
    "Activate this configuration by executing this:\n",
    "\n",
    "sudo ln -s /etc/nginx/sites-available/app /etc/nginx/sites-enabled\n",
    "\n",
    "\n",
    "__Step 6__ : Providing necessary Permissions\n",
    "\n",
    "sudo chmod 775 -R /home/harry/myFlaskApp\n",
    "\n",
    "sudo chmod 775 -R /home/harry\n",
    "\n",
    "sudo systemctl restart nginx\n",
    "\n",
    "If you are using a firewall (for eg. ufw), don't forget to allow nginx to receive incoming traffic on port 80\n",
    "\n",
    "sudo ufw allow 'Nginx Full'\n",
    "\n",
    "\n",
    "\n",
    "\n",
    "\n"
   ]
  },
  {
   "cell_type": "code",
   "execution_count": null,
   "id": "68728842-0e26-4c1b-9779-6fe41fe4f6d5",
   "metadata": {},
   "outputs": [],
   "source": []
  },
  {
   "cell_type": "markdown",
   "id": "f21da3ea-6b46-49a7-a9ce-2e3efe35734e",
   "metadata": {},
   "source": [
    "__49.__\n",
    "Make a fully functional web application using flask, Mangodb. Signup,Signin page.And after successfully\n",
    "login .Say hello Geeks message at webpage."
   ]
  },
  {
   "cell_type": "markdown",
   "id": "1582a4fe-a493-4c2e-9eba-7118b6cd7510",
   "metadata": {},
   "source": [
    "This the link of web application using flask, Mangodb : __https://github.com/harshalourdu/Login_Logout_Webpage__"
   ]
  },
  {
   "cell_type": "code",
   "execution_count": null,
   "id": "fd2b6ff2-1a58-49a4-abb2-096ab4e9af46",
   "metadata": {},
   "outputs": [],
   "source": []
  },
  {
   "cell_type": "code",
   "execution_count": null,
   "id": "d6ccbc2f-dfa6-4262-9cde-6c5d527a08b3",
   "metadata": {},
   "outputs": [],
   "source": []
  },
  {
   "cell_type": "markdown",
   "id": "19c0b62d-5ba3-4b08-a8dd-2b597073556e",
   "metadata": {},
   "source": [
    "__50.Machine Learning__ :\n"
   ]
  },
  {
   "cell_type": "markdown",
   "id": "b776e648-3d50-4af5-ab60-b12780d1bb41",
   "metadata": {},
   "source": [
    "- What is the difference between Series & Dataframes ?"
   ]
  },
  {
   "cell_type": "markdown",
   "id": "fb71da3d-d35c-45ff-9dda-382cd49f3fd6",
   "metadata": {},
   "source": [
    "Both DataFrame and series are the two main data structure of pandas library. Series in pandas contains a single list which can store heterogeneous type of data, because of this, series is also considered as a 1-dimensional data structure. On the other hand, DataFrame is a 2-dimensional data structure which contains multiple lists of heterogeneous type of data. DataFrame can contain multiple series or it can be considered as a collection of series.\n",
    "\n",
    "When we analyse a series, each value can be considered as a separate row of a single column, whereas when we analyse a DataFrame, we have multiple columns and multiple rows.\n",
    "\n",
    "Both series and DataFrame can be created either with list or with the help of a dictionary, in case of series, there will be only one key in the dictionary but there may be multiple keys in case of DataFrame."
   ]
  },
  {
   "cell_type": "code",
   "execution_count": 4,
   "id": "a400efd9-2b7b-4124-9840-13ad778d9382",
   "metadata": {},
   "outputs": [
    {
     "name": "stdout",
     "output_type": "stream",
     "text": [
      "Created Series:\n",
      " one    [1, 2, 3, 4, 5, 6]\n",
      "dtype: object\n"
     ]
    }
   ],
   "source": [
    "# Importing pandas package\n",
    "import pandas as pd\n",
    "\n",
    "# Create dictionary\n",
    "d = {'one':[1,2,3,4,5,6]}\n",
    "\n",
    "# Create series\n",
    "ser = pd.Series(d)\n",
    "\n",
    "# Display series\n",
    "print(\"Created Series:\\n\",ser)\n"
   ]
  },
  {
   "cell_type": "code",
   "execution_count": null,
   "id": "e4bdd0d4-2d83-4283-8147-657cf2592156",
   "metadata": {},
   "outputs": [],
   "source": []
  },
  {
   "cell_type": "markdown",
   "id": "b6b967fe-5139-49db-b38e-c9ac7ca4f74a",
   "metadata": {},
   "source": [
    "- Difference between loc and iloc"
   ]
  },
  {
   "cell_type": "markdown",
   "id": "8e3ffa04-c63c-4f1d-adf5-d29dd0c13c7b",
   "metadata": {},
   "source": [
    "When it comes to selecting rows and columns of a pandas DataFrame, loc and iloc are two commonly used functions.\n",
    "\n",
    "Here is the subtle difference between the two functions:\n",
    "\n",
    "loc selects rows and columns with specific labels\n",
    "iloc selects rows and columns at specific integer positions"
   ]
  },
  {
   "cell_type": "code",
   "execution_count": 3,
   "id": "73def209-2521-44f5-92e2-a3e2628c39eb",
   "metadata": {},
   "outputs": [],
   "source": [
    "import pandas as pd\n",
    "\n",
    "#create DataFrame\n",
    "df = pd.DataFrame({'team': ['A', 'A', 'A', 'A', 'B', 'B', 'B', 'B'],\n",
    "                   'points': [5, 7, 7, 9, 12, 9, 9, 4],\n",
    "                   'assists': [11, 8, 10, 6, 6, 5, 9, 12]},\n",
    "                   index=['A', 'B', 'C', 'D', 'E', 'F', 'G', 'H'])"
   ]
  },
  {
   "cell_type": "code",
   "execution_count": null,
   "id": "8977cb52-f1e5-4e95-b9e2-c7d5833e4c16",
   "metadata": {},
   "outputs": [],
   "source": []
  },
  {
   "cell_type": "markdown",
   "id": "20c7cab9-8578-45ee-b826-05ac8c406b29",
   "metadata": {},
   "source": [
    "- What is the difference between supervised and unsupervised learning"
   ]
  },
  {
   "cell_type": "markdown",
   "id": "aba28e5b-6d4a-4c95-88e7-2641d250a8fd",
   "metadata": {},
   "source": [
    "|    |Supervised Learning|Unsupervised Learning|\n",
    "|----|-------------------|---------------------|\n",
    "|Input Data|\tUses Known and Labeled Data as input|Uses Unknown Data as input|\n",
    "|Computational Complexity|Less Computational Complexity|More Computational Complex|\n",
    "|Real-Time|\tUses off-line analysis|Uses Real-Time Analysis of Data|\n",
    "|Number of Classes|The number of Classes is known|The number of Classes is not known|\n",
    "|Accuracy of Results|Accurate and Reliable Results|Moderate Accurate and Reliable Results|\n",
    "|Output data|The desired output is given.|The desired, output is not given.|\n",
    "|Model|\tIn supervised learning it is not possible to learn larger and more complex models than in unsupervised learning|In unsupervised learning it is possible to learn larger and more complex models than in supervised learning\n",
    "|Training data|\tIn supervised learning training data is used to infer model|In unsupervised learning training data is not used.|\n",
    "|Another name |\tSupervised learning is also called classification.|Unsupervised learning is also called clustering.|\n",
    "|Test of model| \tWe can test our model.|We can not test our model.|\n",
    "|Example| \t Optical Character Recognition|Find a face in an image.|"
   ]
  },
  {
   "cell_type": "code",
   "execution_count": null,
   "id": "2077442d-87ad-4083-a413-b798eff678c8",
   "metadata": {},
   "outputs": [],
   "source": []
  },
  {
   "cell_type": "markdown",
   "id": "ed909023-b2ee-4460-88ea-46e5340bbadc",
   "metadata": {},
   "source": [
    "- Explain the bias-variance tradeoff"
   ]
  },
  {
   "cell_type": "markdown",
   "id": "9aacace1-7d3d-4c94-89ca-98547fe6ca1a",
   "metadata": {},
   "source": [
    "There is a tradeoff between a model’s ability to minimize bias and variance which is referred to as the best solution for selecting a value of Regularization constant. A proper understanding of these errors would help to avoid the overfitting and underfitting of a data set while training the algorithm. \n",
    "\n",
    "\n",
    "The bias is known as the difference between the prediction of the values by the Machine Learning model and the correct value. Being high in biasing gives a large error in training as well as testing data. It recommended that an algorithm should always be low-biased to avoid the problem of underfitting. By high bias, the data predicted is in a straight line format, thus not fitting accurately in the data in the data set. Such fitting is known as the Underfitting of Data. "
   ]
  },
  {
   "cell_type": "code",
   "execution_count": null,
   "id": "76199931-ad33-4b8c-a0f9-ff668be79b04",
   "metadata": {},
   "outputs": [],
   "source": []
  },
  {
   "cell_type": "markdown",
   "id": "7bbd5d80-ec89-4c51-89bb-0a6b410869c9",
   "metadata": {},
   "source": [
    "- What are precision and recall? How are they different from accuracy"
   ]
  },
  {
   "cell_type": "markdown",
   "id": "b331d841-b818-4440-bd5d-6a618de6abde",
   "metadata": {},
   "source": [
    "__Recall__ is a metric that measures how often a machine learning model correctly identifies positive instances (true positives) from all the actual positive samples in the dataset. You can calculate recall by dividing the number of true positives by the number of positive instances. The latter includes true positives (successfully identified cases) and false negative results (missed cases).\n",
    "\n",
    "\n",
    "__Precision__ shows how often an ML model is correct when predicting the target class.\n",
    "\n",
    "Precision is a metric that measures how often a machine learning model correctly predicts the positive class. You can calculate precision by dividing the number of correct positive predictions (true positives) by the total number of instances the model predicted as positive (both true and false positives).\n",
    "\n",
    "\n",
    "\n",
    "__Accuracy__ is a metric that measures how often a machine learning model correctly predicts the outcome. You can calculate accuracy by dividing the number of correct predictions by the total number of predictions. \n"
   ]
  },
  {
   "cell_type": "code",
   "execution_count": null,
   "id": "c24c047d-4626-4b4e-ad4c-c1a168457ce8",
   "metadata": {},
   "outputs": [],
   "source": []
  },
  {
   "cell_type": "markdown",
   "id": "74e2effa-b327-469a-ad2d-a6301a832a61",
   "metadata": {},
   "source": [
    "- What is overfitting and how can it be prevented?"
   ]
  },
  {
   "cell_type": "markdown",
   "id": "b1f4b80e-3b37-425e-8bc9-9ae780442488",
   "metadata": {},
   "source": [
    "n the real world, the dataset present will never be clean and perfect. It means each dataset contains impurities, noisy data, outliers, missing data, or imbalanced data. Due to these impurities, different problems occur that affect the accuracy and the performance of the model. One of such problems is Overfitting in Machine Learning. Overfitting is a problem that a model can exhibit.\n",
    "\n",
    "- Ways to prevent the Overfitting\n",
    "\n",
    "Although overfitting is an error in Machine learning which reduces the performance of the model, however, we can prevent it in several ways. With the use of the linear model, we can avoid overfitting; however, many real-world problems are non-linear ones. It is important to prevent overfitting from the models. Below are several ways that can be used to prevent overfitting:\n",
    "\n",
    "1. Early Stopping\n",
    "2. Train with more data\n",
    "3. Feature Selection\n",
    "4. Cross-Validation\n",
    "5. Data Augmentation\n",
    "6. Regularization\n"
   ]
  },
  {
   "cell_type": "code",
   "execution_count": null,
   "id": "a124d018-e585-4cce-80b9-5ea709bce54d",
   "metadata": {},
   "outputs": [],
   "source": []
  },
  {
   "cell_type": "markdown",
   "id": "6962ce3c-c63c-4ba4-a6f2-52c0395134ba",
   "metadata": {},
   "source": [
    "- Explain the concept of cross-validation\n",
    "\n",
    "\n",
    "- What is gradient descent and how does it work\n",
    "- Describe the difference between batch gradient descent and stochastic gradient descent"
   ]
  },
  {
   "cell_type": "markdown",
   "id": "42f317a2-0a41-4f2f-a0f7-db4e7cc56232",
   "metadata": {},
   "source": [
    "Cross-validation is a robust statistical technique used to evaluate the performance of a predictive model and to ensure that it generalizes well to new, unseen data. The core idea is to partition the dataset into multiple subsets to test the model's performance on different subsets, thereby providing a more reliable estimate of the model's effectiveness compared to using a single training-test split. \n",
    "\n",
    "Types of Cross-Validation :\n",
    "\n",
    "1. K-Fold Cross-Validation\n",
    "2. Leave-One-Out Cross-Validation (LOOCV)\n",
    "3. Leave-P-Out Cross-Validation\n",
    "4. Stratified K-Fold Cross-Validation\n",
    "5. Group K-Fold Cross-Validation"
   ]
  },
  {
   "cell_type": "code",
   "execution_count": null,
   "id": "07727bae-069d-4765-83d8-b8b654b1d7ee",
   "metadata": {},
   "outputs": [],
   "source": []
  },
  {
   "cell_type": "markdown",
   "id": "0a2d1ed0-7843-456c-b245-03ddd4208840",
   "metadata": {},
   "source": [
    "- What is the difference between a classification and a regression problem"
   ]
  },
  {
   "cell_type": "markdown",
   "id": "eab48899-8aaf-4e03-86c7-07016c3741f6",
   "metadata": {},
   "source": [
    "|Aspect|Classification|Regression|\n",
    "|------|--------------|----------|\n",
    "|Output|\tDiscrete categories (labels)|Continuous numerical values|\n",
    "|Objective|\tAssign input to a class or category|Predict a quantity or measurement|\n",
    "|Evaluation|Metrics\tAccuracy, Precision, Recall, F1 Score|MAE, MSE, RMSE, R-squared|\n",
    "|Algorithms|\tLogistic Regression, SVM, Random Forest|Linear Regression, Polynomial Regression|\n",
    "|Nature of Output|Categorical|Numerical|"
   ]
  },
  {
   "cell_type": "code",
   "execution_count": null,
   "id": "d6d90d1f-28fb-4c48-94cf-c6476bdf8dfc",
   "metadata": {},
   "outputs": [],
   "source": []
  },
  {
   "cell_type": "markdown",
   "id": "a6f9b431-f22c-4c7f-bcd8-e1d985c89b5d",
   "metadata": {},
   "source": [
    "- Explain the concept of ensemble learning"
   ]
  },
  {
   "cell_type": "markdown",
   "id": "1b658e08-1bfa-4120-972f-0f0207544d06",
   "metadata": {},
   "source": [
    "Ensemble learning is a powerful technique in machine learning that involves combining multiple models to improve predictive performance and robustness compared to individual models. The idea is that by aggregating the predictions of several models, you can achieve better performance and generalization than any single model on its own. \n",
    "\n",
    "Key Concepts in Ensemble Learning\n",
    "\n",
    "1. Basic Idea:\n",
    "- Combining Models: Ensemble learning builds a model by combining the predictions of multiple individual models. Each model, often referred to as a \"base learner\" or \"base model,\" contributes to the final prediction.\n",
    "- Diversity: The effectiveness of ensemble learning often relies on the diversity of the base models. If models make different errors, their combination can lead to better overall performance.\n",
    "\n",
    "2. Types of Ensemble Methods:\n",
    "- Bagging (Bootstrap Aggregating)\n",
    "- Boosting\n",
    "- Stacking (Stacked Generalization)\n",
    "- Voting\n",
    "\n",
    "3. Advantages of Ensemble Learning:\n",
    "- Improved Accuracy: Combining multiple models can lead to higher accuracy than individual models, especially if the models have different strengths and weaknesses.\n",
    "- Reduced Overfitting: Ensembles can help to generalize better and reduce overfitting by smoothing out the noise and errors of individual models.\n",
    "- Robustness: Ensembles tend to be more robust to variations in the data and can handle noisy or incomplete datasets better.\n",
    "\n",
    "4. Challenges of Ensemble Learning:\n",
    "\n",
    "- Complexity: Ensembles are more complex to implement and interpret than single models. They require careful tuning and management of multiple models.\n",
    "- Computational Cost: Training multiple models can be computationally expensive and time-consuming, especially with large datasets and complex models.\n",
    "- Model Diversity: Ensuring that the base models are diverse enough to complement each other can be challenging."
   ]
  },
  {
   "cell_type": "code",
   "execution_count": null,
   "id": "ff4d6e96-1fc5-47b6-9281-fbe893667bb5",
   "metadata": {},
   "outputs": [],
   "source": []
  },
  {
   "cell_type": "markdown",
   "id": "eb2c7209-a826-498e-970c-44edf69fb349",
   "metadata": {},
   "source": [
    "- What is gradient descent and how does it work\n"
   ]
  },
  {
   "cell_type": "markdown",
   "id": "f6b1dbab-fee7-4fde-819b-3a9873856cad",
   "metadata": {},
   "source": [
    "Gradient Descent is an optimization algorithm that is used to minimize a function by slowly moving in the direction of steepest descent, which is defined by the negative of the gradient.\n",
    "\n",
    "It is used to update the parameters in Machine Learning for example regression coefficient in Linear Regression and weights in Neural Network.\n",
    "\n",
    "Generally gradient descent will stop when one of the two conditions are satisfied.\n",
    "\n",
    "1. When the steps size are so small that it does not effect the value of ‘m’ and ‘c’ too much.\n",
    "2. If due to some reason the algorithm is not able to converge it will automatically stop after 1000 iterations, this parameter can be changed during programming.\n",
    "\n",
    "Types of Gradient Descents\n",
    "\n",
    "There are 3 types of gradient descent namely,\n",
    "1. Stochastic Gradient Descent\n",
    "2. Batch Gradient Descent\n",
    "3. Mini-Batch Gradient Descent"
   ]
  },
  {
   "cell_type": "code",
   "execution_count": null,
   "id": "d0cd9ed1-84c7-41bd-a7fd-182673e660aa",
   "metadata": {},
   "outputs": [],
   "source": []
  },
  {
   "cell_type": "markdown",
   "id": "40b16ffb-150d-47a7-8aac-335aa03f9bdc",
   "metadata": {},
   "source": [
    "- Describe the difference between batch gradient descent and stochastic gradient descent\n"
   ]
  },
  {
   "cell_type": "markdown",
   "id": "fef0d86d-e317-40aa-8eda-b1b1a2660084",
   "metadata": {},
   "source": [
    "|Batch Gradient Descent|Stochastic Gradient Descent|\n",
    "|----------------------|---------------------------|\n",
    "|Computes gradient using the whole Training sample|Computes gradient using a single Training sample|\n",
    "|Slow and computationally expensive algorithm|Faster and less computationally expensive than Batch GD|\n",
    "|Not suggested for huge training samples.|Can be used for large training samples.|\n",
    "|Deterministic in nature.|Stochastic in nature.|\n",
    "|Gives optimal solution given sufficient time to converge.|\tGives good solution but not optimal.\n",
    "|No random shuffling of points are required.|\tThe data sample should be in a random order, and this is why we want to shuffle the training set for every epoch.\n",
    "|Can’t escape shallow local minima easily.|\tSGD can escape shallow local minima more easily.\n",
    "|Convergence is slow.\t|Reaches the convergence much faster.\n",
    "|It updates the model parameters only after processing the entire training set.|It updates the parameters after each individual data point.\n",
    "|The learning rate is fixed and cannot be changed during training.|The learning rate can be adjusted dynamically.\n",
    "|It typically converges to the global minimum for convex loss functions.|It may converge to a local minimum or saddle point.\n",
    "|It may suffer from overfitting if the model is too complex for the dataset.|It can help reduce overfitting by updating the model parameters more frequently."
   ]
  },
  {
   "cell_type": "code",
   "execution_count": null,
   "id": "c5fd8dbe-584a-4903-ab45-75d947367bc3",
   "metadata": {},
   "outputs": [],
   "source": []
  },
  {
   "cell_type": "markdown",
   "id": "19fc8c6e-5df5-429f-98ae-38ccc450d450",
   "metadata": {},
   "source": [
    "- What is the curse of dimensionality in machine learning\n"
   ]
  },
  {
   "cell_type": "markdown",
   "id": "cc273de9-c59f-4474-9c14-a3e055bdf064",
   "metadata": {},
   "source": [
    "The Curse of Dimensionality in Machine Learning arises when working with high-dimensional data, leading to increased computational complexity, overfitting, and spurious correlations. Techniques like dimensionality reduction, feature selection, and careful model design are essential for mitigating its effects and improving algorithm performance. Navigating this challenge is crucial for unlocking the potential of high-dimensional datasets and ensuring robust machine-learning solutions.\n",
    "\n",
    "What is the Curse of Dimensionality?\n",
    "\n",
    "The Curse of Dimensionality refers to the phenomenon where the efficiency and effectiveness of algorithms deteriorate as the dimensionality of the data increases exponentially.\n",
    "\n",
    "In high-dimensional spaces, data points become sparse, making it challenging to discern meaningful patterns or relationships due to the vast amount of data required to adequately sample the space.\n",
    "\n",
    "The Curse of Dimensionality significantly impacts machine learning algorithms in various ways. It leads to increased computational complexity, longer training times, and higher resource requirements. Moreover, it escalates the risk of overfitting and spurious correlations, hindering the algorithms’ ability to generalize well to unseen data."
   ]
  },
  {
   "cell_type": "code",
   "execution_count": null,
   "id": "7e5f7132-1011-455a-911e-de34f30da5f5",
   "metadata": {},
   "outputs": [],
   "source": []
  },
  {
   "cell_type": "markdown",
   "id": "210820f0-d264-45ed-8639-5ce3b0ebe505",
   "metadata": {},
   "source": [
    "- Explain the difference between L1 and L2 regularization\n"
   ]
  },
  {
   "cell_type": "markdown",
   "id": "3d65d908-5677-4c08-a321-4e82207f49ed",
   "metadata": {},
   "source": [
    "|L1 regularization|L2 regularization|\n",
    "|-----------------|-----------------|\n",
    "|Sum of absolute values of weights|Sum of squar of weights|\n",
    "|Sparse solution is the outcome|Non-spare solution|\n",
    "|Multiple solutions are possible|Only one solution|\n",
    "|Robust to outliers|Not robust to outliers|\n",
    "|Used in datsets with sparse|Used in datasets with complex features|"
   ]
  },
  {
   "cell_type": "code",
   "execution_count": null,
   "id": "25dfe486-5b9c-4a3c-826f-ed57e40160c0",
   "metadata": {},
   "outputs": [],
   "source": []
  },
  {
   "cell_type": "markdown",
   "id": "61547acf-0730-442d-9655-2ce044a84403",
   "metadata": {},
   "source": [
    "- What is a confusion matrix and how is it used\n"
   ]
  },
  {
   "cell_type": "markdown",
   "id": "1783d0b1-fc8f-4583-8f48-d829dc4b2717",
   "metadata": {},
   "source": [
    "A confusion matrix is a matrix that summarizes the performance of a machine learning model on a set of test data. It is a means of displaying the number of accurate and inaccurate instances based on the model’s predictions. It is often used to measure the performance of classification models, which aim to predict a categorical label for each input instance.\n",
    "\n",
    "1. Accuracy\n",
    "2. Precision\n",
    "3. Recall\n",
    "4. F1-Score\n",
    "5. Specificity\n",
    "6. Type 1 and Type 2 error"
   ]
  },
  {
   "cell_type": "code",
   "execution_count": null,
   "id": "b78b2006-4996-4e4d-b0f7-af46194a8927",
   "metadata": {},
   "outputs": [],
   "source": []
  },
  {
   "cell_type": "markdown",
   "id": "beefc15b-8373-4965-97fc-8c048e113791",
   "metadata": {},
   "source": [
    "- Define AUC-ROC curve\n"
   ]
  },
  {
   "cell_type": "markdown",
   "id": "76de9df6-2e94-4384-b8ef-dfb6c9523305",
   "metadata": {},
   "source": [
    "The AUC-ROC curve, or Area Under the Receiver Operating Characteristic curve, is a graphical representation of the performance of a binary classification model at various classification thresholds. It is commonly used in machine learning to assess the ability of a model to distinguish between two classes, typically the positive class (e.g., presence of a disease) and the negative class (e.g., absence of a disease)."
   ]
  },
  {
   "cell_type": "code",
   "execution_count": null,
   "id": "52368a0b-77e9-4ef4-8fff-29f2ea9fea30",
   "metadata": {},
   "outputs": [],
   "source": []
  },
  {
   "cell_type": "markdown",
   "id": "43be1408-63f4-4c6e-babb-67328986b963",
   "metadata": {},
   "source": [
    "- Explain the k-nearest neighbors algorithm\n"
   ]
  },
  {
   "cell_type": "markdown",
   "id": "20e850fa-8f3d-4a92-a434-08e78331afbf",
   "metadata": {},
   "source": [
    "KNN is one of the most basic yet essential classification algorithms in machine learning. It belongs to the supervised learning domain and finds intense application in pattern recognition, data mining, and intrusion detection.\n",
    "\n",
    "It is widely disposable in real-life scenarios since it is non-parametric, meaning it does not make any underlying assumptions about the distribution of data (as opposed to other algorithms such as GMM, which assume a Gaussian distribution of the given data). We are given some prior data (also called training data), which classifies coordinates into groups identified by an attribute."
   ]
  },
  {
   "cell_type": "code",
   "execution_count": null,
   "id": "5d5426a4-4cb8-43e9-9e8e-99a36a75d99e",
   "metadata": {},
   "outputs": [],
   "source": []
  },
  {
   "cell_type": "markdown",
   "id": "d4923045-2bb3-4e72-8d31-8124e9d4aeed",
   "metadata": {},
   "source": [
    "- Explain the basic concept of a Support Vector Machine (SVM)\n"
   ]
  },
  {
   "cell_type": "markdown",
   "id": "71f39f0d-931a-439f-bd72-8a3d6c317cfd",
   "metadata": {},
   "source": [
    "Support Vector Machine (SVM) is a powerful machine learning algorithm used for linear or nonlinear classification, regression, and even outlier detection tasks. SVMs can be used for a variety of tasks, such as text classification, image classification, spam detection, handwriting identification, gene expression analysis, face detection, and anomaly detection. SVMs are adaptable and efficient in a variety of applications because they can manage high-dimensional data and nonlinear relationships.\n",
    "\n",
    "SVM algorithms are very effective as we try to find the maximum separating hyperplane between the different classes available in the target feature."
   ]
  },
  {
   "cell_type": "code",
   "execution_count": null,
   "id": "4207a492-7671-4ae4-a7a7-50666e361ece",
   "metadata": {},
   "outputs": [],
   "source": []
  },
  {
   "cell_type": "markdown",
   "id": "5f0ab591-a1cc-4d3e-9657-d2a8b8b36034",
   "metadata": {},
   "source": [
    "- How does the kernel trick work in SVM"
   ]
  },
  {
   "cell_type": "markdown",
   "id": "dbf655a3-a4d6-4fce-b7da-c12dff9d6a6a",
   "metadata": {},
   "source": [
    "Support Vector Machines (SVMs) have proven to be a powerful and versatile tool for classification tasks. A key component that significantly enhances the capabilities of SVMs, particularly in dealing with non-linear data, is the Kernel Trick. This article delves into the intricacies of the Kernel Trick, its motivation, implementation, and practical applications.\n",
    "\n",
    "The kernel trick relies on the inner products of vectors. For SVMs, the decision function is based on the dot products of vectors within the input space. Kernel functions replace these dot products with a non-linear function that computes a dot product in a higher-dimensional space. Importantly, the computation of this dot product via the kernel function does not require explicit knowledge of the coordinates in the higher space, thus saving computational resources and time."
   ]
  },
  {
   "cell_type": "code",
   "execution_count": null,
   "id": "35dfcd70-2f7c-4d8b-b5cc-128f43af533a",
   "metadata": {},
   "outputs": [],
   "source": []
  },
  {
   "cell_type": "markdown",
   "id": "2bd9bcc6-1150-4e4b-badd-7ed5767e324f",
   "metadata": {},
   "source": [
    "- What are the different types of kernels used in SVM and when would you use each"
   ]
  },
  {
   "cell_type": "markdown",
   "id": "90795c73-0f39-40c2-a9d2-560f64e15630",
   "metadata": {},
   "source": [
    "Types of Kernel in SVM\n",
    "\n",
    "1. Linear Kernel\n",
    "The linear kernel is the simplest and is used when the data is linearly separable.\n",
    "It calculates the dot product between the feature vectors.\n",
    "2. Polynomial Kernel\n",
    "The polynomial kernel is effective for non-linear data.\n",
    "It computes the similarity between two vectors in terms of the polynomial of the original variables.\n",
    "3. Radial Basis Function (RBF) Kernel\n",
    "The RBF kernel is a common type of Kernel in SVM for handling non-linear decision boundaries.\n",
    "It maps the data into an infinite-dimensional space.\n",
    "4. Sigmoid Kernel\n",
    "The sigmoid SVM kernel types can be used as an alternative to the RBF kernel.\n",
    "It is based on the hyperbolic tangent function and is suitable for neural networks and other non-linear classifiers.\n",
    "5. Custom Kernels\n",
    "In addition to the standard kernels mentioned above, SVMs allow the use of custom kernels tailored to specific problems.\n",
    "Custom kernels can be designed based on domain knowledge or problem-specific requirements."
   ]
  },
  {
   "cell_type": "code",
   "execution_count": null,
   "id": "90833b49-eecf-41a0-85bf-f8a4f5ca36b4",
   "metadata": {},
   "outputs": [],
   "source": []
  },
  {
   "cell_type": "markdown",
   "id": "0b12503c-03cf-473f-8b98-117c3172dee7",
   "metadata": {},
   "source": [
    "- What is the hyperplane in SVM and how is it determined\n"
   ]
  },
  {
   "cell_type": "markdown",
   "id": "ec461c7b-c3db-4f56-ab2c-334ba7a98a55",
   "metadata": {},
   "source": [
    "__Hyperplane:__ There can be multiple lines/decision boundaries to segregate the classes in n-dimensional space, but we need to find out the best decision boundary that helps to classify the data points. This best boundary is known as the hyperplane of SVM.\n",
    "\n",
    "The dimensions of the hyperplane depend on the features present in the dataset, which means if there are 2 features (as shown in image), then hyperplane will be a straight line. And if there are 3 features, then hyperplane will be a 2-dimension plane.\n",
    "\n",
    "We always create a hyperplane that has a maximum margin, which means the maximum distance between the data points."
   ]
  },
  {
   "cell_type": "code",
   "execution_count": null,
   "id": "c85ce0b7-82ad-45b5-9a8d-a1367f3d100e",
   "metadata": {},
   "outputs": [],
   "source": []
  },
  {
   "cell_type": "markdown",
   "id": "c3666d5d-e630-4857-ae0c-c608903248aa",
   "metadata": {},
   "source": [
    "- What are the pros and cons of using a Support Vector Machine (SVM)\n"
   ]
  },
  {
   "cell_type": "markdown",
   "id": "2dff2eb5-2de0-4f0e-bb48-6477ee4ba595",
   "metadata": {},
   "source": [
    "|Advantages of SVM|Disadvantages of SVM|\n",
    "|-----------------|--------------------|\n",
    "|SVM classifiers perform well in high-dimensional space and have excellent accuracy. SVM classifiers require less memory because they only use a portion of the training data.|SVM requires a long training period; as a result, it is not practical for large datasets.|\n",
    "|SVM performs reasonably well when there is a large gap between classes.|The inability of SVM classifiers to handle overlapping classes is another drawback.|\n",
    "|High-dimensional spaces are better suited for SVM.|Large data sets are not a good fit for the SVM algorithm.|\n",
    "|When the number of dimensions exceeds the number of samples, SVM is useful.|When the data set contains more noise, such as overlapping target classes, SVM does not perform as well.|\n",
    "|SVM uses memory effectively.|The SVM will perform poorly when the number of features for each data point is greater than the number of training data samples.|"
   ]
  },
  {
   "cell_type": "code",
   "execution_count": null,
   "id": "344f1490-92ae-43e6-a34f-e1fafa273c5a",
   "metadata": {},
   "outputs": [],
   "source": []
  },
  {
   "cell_type": "markdown",
   "id": "d98fc339-de77-4bfd-9e50-f4657a8d9604",
   "metadata": {},
   "source": [
    "- Explain the difference between a hard margin and a soft margin SVM\n"
   ]
  },
  {
   "cell_type": "markdown",
   "id": "efb35293-6154-4281-978b-1c2b7c3f55db",
   "metadata": {},
   "source": [
    "|Criteria|Hard Margin|Soft Margin|\n",
    "|--------|-----------|-----------|\n",
    "|Objective Function|Maximize margin.|Maximize margin, minimize margin violations.|\n",
    "|Handling Noise|Sensitive, requires perfectly linearly separable data|Robust, handles noisy data with margin violations.|\n",
    "|Regularization|Not applicable, no regularization parameter|Controlled by regularization parameter C.|\n",
    "|Complexity|Simple, computationally efficient|May require more computational resources|"
   ]
  },
  {
   "cell_type": "code",
   "execution_count": null,
   "id": "cdddf3c8-f342-4bc0-897f-0c8ecc39b447",
   "metadata": {},
   "outputs": [],
   "source": []
  },
  {
   "cell_type": "markdown",
   "id": "eb65d2e7-1244-4df4-9b0f-b69c3e734656",
   "metadata": {},
   "source": [
    "- Describe the process of constructing a decision tree\n"
   ]
  },
  {
   "cell_type": "markdown",
   "id": "59714d26-cc43-44c8-801f-ac9f3a419441",
   "metadata": {},
   "source": [
    "A decision tree is a flowchart-like structure used to make decisions or predictions. It consists of nodes representing decisions or tests on attributes, branches representing the outcome of these decisions, and leaf nodes representing final outcomes or predictions. Each internal node corresponds to a test on an attribute, each branch corresponds to the result of the test, and each leaf node corresponds to a class label or a continuous value.\n",
    "\n",
    "\n",
    "\n",
    "Selecting the Best Attribute: Using a metric like Gini impurity, entropy, or information gain, the best attribute to split the data is selected.\n",
    "\n",
    "Splitting the Dataset: The dataset is split into subsets based on the selected attribute.\n",
    "\n",
    "Repeating the Process: The process is repeated recursively for each subset, creating a new internal node or leaf node until a stopping criterion is met (e.g., all instances in a node belong to the same class or a predefined depth is reached)."
   ]
  },
  {
   "cell_type": "code",
   "execution_count": null,
   "id": "249a717f-517d-4ec0-adee-d3b20ef31dbd",
   "metadata": {},
   "outputs": [],
   "source": []
  },
  {
   "cell_type": "markdown",
   "id": "41d84f56-bc00-4e9a-8c5d-4bbe294181f3",
   "metadata": {},
   "source": [
    "- Describe the working principle of a decision tree\n"
   ]
  },
  {
   "cell_type": "markdown",
   "id": "26a0f836-5fe8-425a-8070-65a63b23d242",
   "metadata": {},
   "source": [
    "__1. Root Node:__ A decision tree’s root node, which represents the original choice or feature from which the tree branches, is the highest node.\n",
    "\n",
    "__2. Internal Nodes (Decision Nodes):__ Nodes in the tree whose choices are determined by the values of particular attributes. There are branches on these nodes that go to other nodes.\n",
    "\n",
    "__3. Branches (Edges):__ Links between nodes that show how decisions are made in response to particular circumstances.\n",
    "\n",
    "__4. Leaf Nodes (Terminal Nodes):__ The branches’ termini, when choices or forecasts are decided upon. There are no more branches on leaf nodes.\n",
    "\n",
    "__Branches (Edges):__ Links between nodes that show how decisions are made in response to particular circumstances.\n",
    "\n",
    "__5. Splitting:__ The process of dividing a node into two or more sub-nodes based on a decision criterion. It involves selecting a feature and a threshold to create subsets of data.\n",
    "\n",
    "__6. Parent Node:__ A node that is split into child nodes. The original node from which a split originates.\n",
    "\n",
    "__7. Child Node:__ Nodes created as a result of a split from a parent node.\n",
    "\n",
    "__8. Decision Criterion:__ The rule or condition used to determine how the data should be split at a decision node. It involves comparing feature values against a threshold.\n",
    "\n",
    "__9. Pruning:__ The process of removing branches or nodes from a decision tree to improve its generalisation and prevent overfitting.\n"
   ]
  },
  {
   "cell_type": "code",
   "execution_count": null,
   "id": "70610fe4-d3ae-4218-8268-bde6ac3b0a6b",
   "metadata": {},
   "outputs": [],
   "source": []
  },
  {
   "cell_type": "markdown",
   "id": "3b90589e-6809-4380-9bba-b84b7206d41a",
   "metadata": {},
   "source": [
    "- What is information gain and how is it used in decision trees"
   ]
  },
  {
   "cell_type": "markdown",
   "id": "4f203d91-c492-41b1-88a3-3b2c8119c1a5",
   "metadata": {},
   "source": [
    "Information Gain, or IG for short, measures the reduction in entropy or surprise by splitting a dataset according to a given value of a random variable.\n",
    "\n",
    "A larger information gain suggests a lower entropy group or groups of samples, and hence less surprise.\n",
    "\n",
    "You might recall that information quantifies how surprising an event is in bits. Lower probability events have more information, higher probability events have less information. Entropy quantifies how much information there is in a random variable, or more specifically its probability distribution. A skewed distribution has a low entropy, whereas a distribution where events have equal probability has a larger entropy.\n",
    "\n",
    "In information theory, we like to describe the “surprise” of an event. Low probability events are more surprising therefore have a larger amount of information. Whereas probability distributions where the events are equally likely are more surprising and have larger entropy.\n",
    "\n",
    "Skewed Probability Distribution (unsurprising): Low entropy.\n",
    "Balanced Probability Distribution (surprising): High entropy."
   ]
  },
  {
   "cell_type": "code",
   "execution_count": null,
   "id": "57ba2b5d-8042-4d2e-85ba-dd84fd853ae6",
   "metadata": {},
   "outputs": [],
   "source": []
  },
  {
   "cell_type": "markdown",
   "id": "5b2d90be-6d66-4b51-acc6-14768e2dd4cc",
   "metadata": {},
   "source": [
    "- Explain Gini impurity and its role in decision trees"
   ]
  },
  {
   "cell_type": "markdown",
   "id": "d925e82c-c585-4da5-a78e-f52c4e82eece",
   "metadata": {},
   "source": [
    "Gini Index\n",
    "\n",
    "-The Gini Index is the additional approach to dividing a decision tree.\n",
    "\n",
    "-Purity and impurity in a junction are the primary focus of the Entropy and Information Gain framework.\n",
    "\n",
    "-The Gini Index, also known as Impurity, calculates the likelihood that somehow a randomly picked instance would be erroneously cataloged. "
   ]
  },
  {
   "cell_type": "code",
   "execution_count": null,
   "id": "f5f0ab63-c9a3-4b11-aef2-a03776ee0ba1",
   "metadata": {},
   "outputs": [],
   "source": []
  },
  {
   "cell_type": "markdown",
   "id": "06aeba67-bfa5-4135-a240-2db7042cb3ec",
   "metadata": {},
   "source": [
    "- What are the advantages and disadvantages of decision trees"
   ]
  },
  {
   "cell_type": "markdown",
   "id": "51edb4bd-9a85-4890-abf7-d1d071cb2138",
   "metadata": {},
   "source": [
    "|Advantages|Disadvantages|\n",
    "|----------|-------------|\n",
    "|- Easy to interpret: The Boolean logic and visual representations of decision trees make them easier to understand and consume. The hierarchical nature of a decision tree also makes it easy to see which attributes are most important, which isn’t always clear with other algorithms, like neural networks.|- Prone to overfitting: Complex decision trees tend to overfit and do not generalize well to new data. This scenario can be avoided through the processes of pre-pruning or post-pruning. Pre-pruning halts tree growth when there is insufficient data while post-pruning removes subtrees with inadequate data after tree construction.|\n",
    "|- Little to no data preparation required: Decision trees have a number of characteristics, which make it more flexible than other classifiers. It can handle various data types—i.e. discrete or continuous values, and continuous values can be converted into categorical values through the use of thresholds. Additionally, it can also handle values with missing values, which can be problematic for other classifiers, like Naïve Bayes.  |- High variance estimators: Small variations within data can produce a very different decision tree. Bagging, or the averaging of estimates, can be a method of reducing variance of decision trees. However, this approach is limited as it can lead to highly correlated predictors.|\n",
    "|- More flexible: Decision trees can be leveraged for both classification and regression tasks, making it more flexible than some other algorithms. It’s also insensitive to underlying relationships between attributes; this means that if two variables are highly correlated, the algorithm will only choose one of the features to split on. |- More costly: Given that decision trees take a greedy search approach during construction, they can be more expensive to train compared to other algorithms. |"
   ]
  },
  {
   "cell_type": "code",
   "execution_count": null,
   "id": "26c10d8a-78da-4c37-8c28-6c862ab98e42",
   "metadata": {},
   "outputs": [],
   "source": []
  },
  {
   "cell_type": "markdown",
   "id": "148c24ca-5b48-40cd-bfe5-5e278dbb8eb7",
   "metadata": {},
   "source": [
    "- How do random forests improve upon decision trees"
   ]
  },
  {
   "cell_type": "markdown",
   "id": "d0c27bac-f3f5-4a7a-bc9e-3f272c6c81be",
   "metadata": {},
   "source": [
    "Random forest is a commonly-used machine learning algorithm, trademarked by Leo Breiman and Adele Cutler, that combines the output of multiple decision trees to reach a single result. Its ease of use and flexibility have fueled its adoption, as it handles both classification and regression problems."
   ]
  },
  {
   "cell_type": "code",
   "execution_count": null,
   "id": "e7003761-f155-4f76-9ee7-9310199b9490",
   "metadata": {},
   "outputs": [],
   "source": []
  },
  {
   "cell_type": "markdown",
   "id": "4a8647b2-7ea9-4591-8e21-7c688636087b",
   "metadata": {},
   "source": [
    "- How does a random forest algorithm work"
   ]
  },
  {
   "cell_type": "markdown",
   "id": "e901cbd6-b855-461f-97a8-861168198db1",
   "metadata": {},
   "source": [
    "Random Forest grows multiple decision trees which are merged together for a more accurate prediction.\n",
    "\n",
    "The logic behind the Random Forest model is that multiple uncorrelated models (the individual decision trees) perform much better as a group than they do alone. When using Random Forest for classification, each tree gives a classification or a “vote.” The forest chooses the classification with the majority of the “votes.” When using Random Forest for regression, the forest picks the average of the outputs of all trees.\n",
    "\n",
    "The key here lies in the fact that there is low (or no) correlation between the individual models—that is, between the decision trees that make up the larger Random Forest model. While individual decision trees may produce errors, the majority of the group will be correct, thus moving the overall outcome in the right direction."
   ]
  },
  {
   "cell_type": "code",
   "execution_count": null,
   "id": "a3ea7c96-20fd-4a0f-b0c9-7a3d59934ffe",
   "metadata": {},
   "outputs": [],
   "source": []
  },
  {
   "cell_type": "markdown",
   "id": "fccdd1af-c9c5-4228-ba5b-912725b659ce",
   "metadata": {},
   "source": [
    "- What is bootstrapping in the context of random forests"
   ]
  },
  {
   "cell_type": "markdown",
   "id": "c86f6aed-96bb-4e12-9104-f03f8c07f6fd",
   "metadata": {},
   "source": [
    "Bootstrapping is a statistical resampling technique that involves random sampling of a dataset with replacement. It is often used as a means of quantifying the uncertainty associated with a machine learning model.\n",
    "\n",
    "Random forests are very similar to the procedure of bagging except that they make use of a technique called feature bagging, which has the advantage of significantly decreasing the correlation between each DT and thus increasing its predictive accuracy, on average.\n",
    "\n",
    "Feature bagging works by randomly selecting a subset of the \n",
    " feature dimensions at each split in the growth of individual DTs. This may sound counterintuitive, after all it is often desired to include as many features as possible initially in order to gain as much information for the model. However it has the purpose of deliberately avoiding (on average) very strong predictive features that lead to similar splits in trees (and thus increase correlation).\n",
    "\n",
    "That is, if a particular feature is strong in predicting the response value then it will be selected for many trees. Hence a standard bagging procedure can be quite correlated. Random forests avoid this by deliberately leaving out these strong features in many of the grown trees.\n",
    "\n",
    "If all \n",
    " values are chosen in splitting of the trees in a random forest ensemble then this simply corresponds to standard bagging. A rule-of-thumb for random forests is to use \n",
    " features, suitably rounded, at each split.\n",
    "\n",
    "In the Python section below it will be shown how random forests compare to bagging in their performance as the number of DTs used as base estimators are increased."
   ]
  },
  {
   "cell_type": "code",
   "execution_count": null,
   "id": "9305900c-ddec-49e7-85ff-26ca19df5274",
   "metadata": {},
   "outputs": [],
   "source": []
  },
  {
   "cell_type": "markdown",
   "id": "ecc08810-0240-4b48-856f-81637e130f09",
   "metadata": {},
   "source": [
    "- Explain the concept of feature importance in random forests"
   ]
  },
  {
   "cell_type": "markdown",
   "id": "e690e0a9-a638-41a1-aae2-6784a9b391f0",
   "metadata": {},
   "source": [
    "Features in machine learning, also known as variables or attributes, are individual measurable properties or characteristics of the phenomena being observed. They serve as the input to the model, and their quality and quantity can greatly influence the accuracy and efficiency of the model. There are three primary categories of features:\n",
    "\n",
    "__Numerical Features:__ These features represent quantitative data, expressed as numerical values (integers or decimals). Examples include temperature (°C), weight (kg), and age (years).\n",
    "\n",
    "__Categorical Features:__ These features represent qualitative data, signifying the category to which a data point belongs. Examples include hair color (blonde, brunette, black) and customer satisfaction (satisfied, neutral, dissatisfied).\n",
    "\n",
    "__Ordinal Features:__ These features are a subtype of categorical features, possessing an inherent order or ranking. Examples include movie ratings (1 star, 2 stars, etc.) and customer service experience (poor, average, excellent)."
   ]
  },
  {
   "cell_type": "code",
   "execution_count": null,
   "id": "546a27a3-1c4f-461d-954b-0333289e0afc",
   "metadata": {},
   "outputs": [],
   "source": []
  },
  {
   "cell_type": "markdown",
   "id": "b53d40f7-dac0-443e-97e0-860a6cfb1915",
   "metadata": {},
   "source": [
    "- What are the key hyperparameters of a random forest and how do they affect the model"
   ]
  },
  {
   "cell_type": "markdown",
   "id": "52db976b-9f9a-451d-aa04-0b2333692e6b",
   "metadata": {},
   "source": [
    "1. max_depth: The max_depth of a tree in Random Forest is defined as the longest path between the root node and the leaf node.\n",
    "\n",
    "2. min_sample_split: Parameter that tells the decision tree in a random forest the minimum required number of observations in any given node to split it. Default = 2\n",
    "\n",
    "3. max_leaf_nodes: This hyperparameter sets a condition on the splitting of the nodes in the tree and hence restricts the growth of the tree.\n",
    "\n",
    "4. min_samples_leaf: This Random Forest hyperparameter specifies the minimum number of samples that should be present in the leaf node after splitting a node. Default = 1\n",
    "\n",
    "5. n_estimators: Number of trees in the forest.\n",
    "\n",
    "6. max_sample: The max_samples hyperparameter determines what fraction of the original dataset is given to any individual tree.\n",
    "\n",
    "7. max_features: This resembles the number of maximum features provided to each tree in a random forest.\n",
    "\n",
    "8. bootstrap: Method for sampling data points (with or without replacement). Default = True\n",
    "\n",
    "9. criterion: The function to measure the quality of a split. Supported criteria are “gini” for the Gini impurity and “entropy” for the information gain.\n"
   ]
  },
  {
   "cell_type": "code",
   "execution_count": null,
   "id": "853a73da-32bc-436f-ad51-ed26a0dc5a3b",
   "metadata": {},
   "outputs": [],
   "source": []
  },
  {
   "cell_type": "markdown",
   "id": "284b358d-2432-43e0-8f61-39bda333c514",
   "metadata": {},
   "source": [
    "- Describe the logistic regression model and its assumptions"
   ]
  },
  {
   "cell_type": "markdown",
   "id": "87dc4fee-3d89-4c51-be1b-a1f3256540b6",
   "metadata": {},
   "source": [
    "Logistic regression is a classification model that uses several independent parameters to predict a binary-dependent outcome. It is a highly effective technique for identifying the relationship between data or cues or a particular occurrence. \n",
    "\n",
    "Using a set of input variables, logistic regression aims to model the likelihood of a specific outcome. \n",
    "\n"
   ]
  },
  {
   "cell_type": "markdown",
   "id": "a56bda0a-9b9b-424f-91bc-500f22a302cb",
   "metadata": {},
   "source": [
    "1. Independent observations: Each observation is independent of the other. meaning there is no correlation between any input variables.\n",
    "\n",
    "2. Binary dependent variables: It takes the assumption that the dependent variable must be binary or dichotomous, meaning it can take only two values. For more than two categories SoftMax functions are used.\n",
    "\n",
    "3. Linearity relationship between independent variables and log odds: The relationship between the independent variables and the log odds of the dependent variable should be linear.\n",
    "\n",
    "4. No outliers: There should be no outliers in the dataset.\n",
    "\n",
    "5. Large sample size: The sample size is sufficiently large"
   ]
  },
  {
   "cell_type": "markdown",
   "id": "076acecf-18ed-48d7-98d4-d729d47da2d7",
   "metadata": {},
   "source": [
    "- How does logistic regression handle binary classification problems\n"
   ]
  },
  {
   "cell_type": "markdown",
   "id": "4cedb2d8-ad39-43fe-a344-8fc2127d9b88",
   "metadata": {},
   "source": [
    "Logistic regression is a method that we can use to fit a regression model when the response variable is binary.\n",
    "\n",
    "__Assumption #1:__ The Response Variable is Binary\n",
    "Logistic regression assumes that the response variable only takes on two possible outcomes. Some examples include:\n",
    "\n",
    "Yes or No\n",
    "\n",
    "Male or Female\n",
    "\n",
    "Pass or Fail\n",
    "\n",
    "Drafted or Not Drafted\n",
    "\n",
    "Malignant or Benign\n",
    "\n",
    "How to check this assumption: Simply count how many unique outcomes occur in the response variable. If there are more than two possible outcomes, you will need to perform ordinal regression instead.\n",
    "\n",
    "\n",
    "__Assumption #2:__ The Observations are Independent\n",
    "Logistic regression assumes that the observations in the dataset are independent of each other. That is, the observations should not come from repeated measurements of the same individual or be related to each other in any way.\n",
    "\n",
    "How to check this assumption: The easiest way to check this assumption is to create a plot of residuals against time (i.e. the order of the observations) and observe whether or not there is a random pattern. If there is not a random pattern, then this assumption may be violated. \n",
    "\n",
    "__Assumption #3:__ There is No Multicollinearity Among Explanatory Variables\n",
    "Logistic regression assumes that there is no severe multicollinearity among the explanatory variables.\n",
    "\n",
    "Multicollinearity occurs when two or more explanatory variables are highly correlated to each other, such that they do not provide unique or independent information in the regression model. If the degree of correlation is high enough between variables, it can cause problems when fitting and interpreting the model. \n",
    "\n",
    "For example, suppose you want to perform logistic regression using max vertical jump as the response variable and the following variables as explanatory variables:\n",
    "\n",
    "Player height\n",
    "\n",
    "Player shoe size\n",
    "\n",
    "Hours spent practicing per day\n",
    "\n",
    "In this case, height and shoe size are likely to be highly correlated since taller people tend to have larger shoe sizes. This means that multicollinearity is likely to be a problem if we use both of these variables in the regression.\n",
    "\n",
    "How to check  this assumption: The most common way to detect multicollinearity is by using the variance inflation factor (VIF), which measures the correlation and strength of correlation between the predictor variables in a regression model. Check out this tutorial for an in-depth explanation of how to calculate and interpret VIF values.\n",
    "\n",
    "__Assumption #4:__ There are No Extreme Outliers\n",
    "Logistic regression assumes that there are no extreme outliers or influential observations in the dataset.\n",
    "\n",
    "How to check this assumption: The most common way to test for extreme outliers and influential observations in a dataset is to calculate Cook’s distance for each observation. If there are indeed outliers, you can choose to (1) remove them, (2) replace them with a value like the mean or median, or (3) simply keep them in the model but make a note about this when reporting the regression results.\n",
    "\n",
    "__Assumption #5:__ There is a Linear Relationship Between Explanatory Variables and the Logit of the Response Variable\n",
    "Logistic regression assumes that there exists a linear relationship between each explanatory variable and the logit of the response variable. Recall that the logit is defined as:\n",
    "\n",
    "Logit(p)  = log(p / (1-p)) where p is the probability of a positive outcome.\n",
    "\n",
    "How to check this assumption: The easiest way to see if this assumption is met is to use a Box-Tidwell test.\n",
    "\n",
    "__Assumption #6:__ The Sample Size is Sufficiently Large\n",
    "Logistic regression assumes that the sample size of the dataset if large enough to draw valid conclusions from the fitted logistic regression model.\n",
    "\n",
    "How to check this assumption: As a rule of thumb, you should have a minimum of 10 cases with the least frequent outcome for each explanatory variable. For example, if you have 3 explanatory variables and the expected probability of the least frequent outcome is 0.20, then you should have a sample size of at least (10*3) / 0.20 = 150.\n",
    "\n",
    "Assumptions of Logistic Regression vs. Linear Regression\n",
    "\n",
    "In contrast to linear regression, logistic regression does not require:\n",
    "\n",
    "A linear relationship between the explanatory variable(s) and the response variable.\n",
    "\n",
    "The residuals of the model to be normally distributed.\n",
    "\n",
    "The residuals to have constant variance, also known as homoscedasticity."
   ]
  },
  {
   "cell_type": "code",
   "execution_count": null,
   "id": "39489c64-d575-4b6c-b65d-d6ff4a55542c",
   "metadata": {},
   "outputs": [],
   "source": []
  },
  {
   "cell_type": "markdown",
   "id": "04670cd7-f743-4ab6-96c4-6c7b25d3b18d",
   "metadata": {},
   "source": [
    "- What is the sigmoid function and how is it used in logistic regression"
   ]
  },
  {
   "cell_type": "markdown",
   "id": "4ec368fe-912c-4a67-a0b5-805d1f1747da",
   "metadata": {},
   "source": [
    "The sigmoid function is a mathematical function having a characteristic “S” — shaped curve, which transforms the values between the range 0 and 1. The sigmoid function also called the sigmoidal curve or logistic function. It is one of the most widely used non- linear activation function."
   ]
  },
  {
   "cell_type": "code",
   "execution_count": null,
   "id": "6cc7d3ca-3f8d-4af1-aa58-830325cae69f",
   "metadata": {},
   "outputs": [],
   "source": []
  },
  {
   "cell_type": "markdown",
   "id": "f8d5c8e2-4287-4c9e-9651-0758129a80df",
   "metadata": {},
   "source": [
    "- Explain the concept of the cost function in logistic regression"
   ]
  },
  {
   "cell_type": "markdown",
   "id": "28a01860-621a-4a17-a3bb-4892f0c85f95",
   "metadata": {},
   "source": [
    "A cost function is a mathematical function that calculates the difference between the target actual values (ground truth) and the values predicted by the model. A function that assesses a machine learning model’s performance also referred to as a loss function or objective function. Usually, the objective of a machine learning algorithm is to reduce the error or output of cost function."
   ]
  },
  {
   "cell_type": "code",
   "execution_count": null,
   "id": "1d5239bb-87c3-4b4a-bafc-e7ef3d1ee5b2",
   "metadata": {},
   "outputs": [],
   "source": []
  },
  {
   "cell_type": "markdown",
   "id": "515cf720-2f77-4be4-9b00-7ab701c5fd9f",
   "metadata": {},
   "source": [
    "- How can logistic regression be extended to handle multiclass classification"
   ]
  },
  {
   "cell_type": "markdown",
   "id": "ba1cc8eb-fc12-440b-bcd2-bbcc87cfb1df",
   "metadata": {},
   "source": [
    "1. Initialization (weights, intercept, learning rate, iteration)\n",
    "\n",
    "2. Binarize target labels\n",
    "\n",
    "3. Prepare linear equation function for each class\n",
    "\n",
    "4. Predict each instance (observation) using all linear equations (plug in initial weights and intercept, usually zeros)\n",
    "Apply sigmoid function to the predicted outputs\n",
    "\n",
    "5. Calculate the cost function (log loss/binary cross entropy)\n",
    "\n",
    "6. Calculate gradient of the cost function with respect to weights and intercept\n",
    "\n",
    "7. Update weights and intercept using the calculated gradients and initialized learning rate\n",
    "\n",
    "8. Keep iterating until we find the best loss or accuracy or whatever metric you prefer"
   ]
  },
  {
   "cell_type": "code",
   "execution_count": null,
   "id": "724260f5-687f-4403-b9c8-80f24baf86c4",
   "metadata": {},
   "outputs": [],
   "source": []
  },
  {
   "cell_type": "markdown",
   "id": "e8d06be7-7831-4c63-b7c3-aac3302c1945",
   "metadata": {},
   "source": [
    "- What is the difference between L1 and L2 regularization in logistic regression"
   ]
  },
  {
   "cell_type": "markdown",
   "id": "65253ebe-3e18-4939-b930-2e57ac29dcfb",
   "metadata": {},
   "source": [
    "|L1 Regularization|L2 Regularization|\n",
    "|-----------------|-----------------|\n",
    "|L1 Regularization, also called a lasso regression, adds the “absolute value of magnitude” of the coefficient as a penalty term to the loss function.|L2 Regularization, also called a ridge regression, adds the “squared magnitude” of the coefficient as the penalty term to the loss function.|\n",
    "|Lasso Regression|Ridge Regression|\n"
   ]
  },
  {
   "cell_type": "code",
   "execution_count": null,
   "id": "8219af5a-59bc-4506-9cc8-c74b41ed8aca",
   "metadata": {},
   "outputs": [],
   "source": []
  },
  {
   "cell_type": "markdown",
   "id": "e7cb3511-bd6f-4d3d-8d62-23c03a37f634",
   "metadata": {},
   "source": [
    "- What is XGBoost and how does it differ from other boosting algorithms"
   ]
  },
  {
   "cell_type": "markdown",
   "id": "08e3c6a9-605e-4671-97b3-5b0c801b6354",
   "metadata": {},
   "source": [
    "XGBoost, or Extreme Gradient Boosting, is a state-of-the-art machine learning algorithm renowned for its exceptional predictive performance. It is the gold standard in ensemble learning, especially when it comes to gradient-boosting algorithms. It develops a series of weak learners one after the other to produce a reliable and accurate predictive model.Fundamentally, XGBoost builds a strong predictive model by aggregating the predictions of several weak learners, usually decision trees. It uses a boosting technique to create an extremely accurate ensemble model by having each weak learner after it correct the mistakes of its predecessors.\n",
    "\n",
    "The optimization method (gradient) minimizes a cost function by repeatedly changing the model’s parameters in response to the gradients of the errors. The algorithm also presents the idea of “gradient boosting with decision trees,” in which the objective function is reduced by calculating the importance of each decision tree that is added to the ensemble in turn. By adding a regularization term and utilizing a more advanced optimization algorithm, XGBoost goes one step further and improves accuracy and efficiency.\n",
    "\n",
    "It has gained popularity and widespread usage because it can handle large datasets in a variety of machine-learning tasks, including regression and classification.\n",
    "\n",
    "To deepen your understanding of the prerequisites and delve deeper into related concepts refer to the already-published article XGboost."
   ]
  },
  {
   "cell_type": "code",
   "execution_count": null,
   "id": "d8fde66c-9459-45fb-9435-1d8e6043f3eb",
   "metadata": {},
   "outputs": [],
   "source": []
  },
  {
   "cell_type": "markdown",
   "id": "aeec274b-80bc-4bf8-bd79-13155230bbba",
   "metadata": {},
   "source": [
    "- Explain the concept of boosting in the context of ensemble learning"
   ]
  },
  {
   "cell_type": "markdown",
   "id": "fbc8f8de-4c17-4b38-81c3-99f6d8c56337",
   "metadata": {},
   "source": [
    "Boosting is an ensemble method for improving the model predictions of any given learning algorithm. The idea of boosting is to train weak learners sequentially, each trying to correct its predecessor. The weak learners are sequentially corrected by their predecessors and, in the process, they are converted into strong learners.\n",
    "\n",
    "Boosting models fall inside this family of ensemble methods.\n",
    "\n",
    "Boosting, initially named Hypothesis Boosting, consists of the idea of filtering or weighting the data that is used to train our team of weak learners, so that each new learner gives more weight or is only trained with observations that have been poorly classified by the previous learners..\n",
    "\n",
    "By doing this our team of models learns to make accurate predictions on all kinds of data, not just on the most common or easy observations. Also, if one of the individual models is very bad at making predictions on some kind of observation, it does not matter, as the other N-1 models will most likely make up for it."
   ]
  },
  {
   "cell_type": "code",
   "execution_count": null,
   "id": "956c7e9b-ff4a-45b2-9f88-3c69d9e1e141",
   "metadata": {},
   "outputs": [],
   "source": []
  },
  {
   "cell_type": "markdown",
   "id": "b98d16e2-f3b5-487c-98cd-4deb188dd066",
   "metadata": {},
   "source": [
    "- How does XGBoost handle missing values\n"
   ]
  },
  {
   "cell_type": "markdown",
   "id": "1bde3b0f-0b89-48be-af62-2dd24b9221bc",
   "metadata": {},
   "source": [
    "XGBoost supports missing values by default. In tree algorithms, branch directions for missing values are learned during training. Note that the gblinear booster treats missing values as zeros.\n",
    "\n",
    "When the missing parameter is specified, values in the input predictor that is equal to missing will be treated as missing and removed. By default it’s set to NaN."
   ]
  },
  {
   "cell_type": "code",
   "execution_count": null,
   "id": "ad34c77c-9493-45f0-addf-8e83fb368e1d",
   "metadata": {},
   "outputs": [],
   "source": []
  },
  {
   "cell_type": "markdown",
   "id": "479f806a-3ce2-46e6-a1be-c021d939f7f0",
   "metadata": {},
   "source": [
    "- What are the key hyperparameters in XGBoost and how do they affect model performance"
   ]
  },
  {
   "cell_type": "markdown",
   "id": "88d33988-e54b-4395-ada5-1132602c5154",
   "metadata": {},
   "source": [
    "1. eta: The learning rate that controls how quickly the model learns from the data. Typical values range from 0.01 to 0.3, with smaller values generally requiring more boosting rounds but potentially leading to better generalization. Therefore, to get the most out of xgboost, the learning rate (eta) must be set as low as possible. However, as the learning rate (eta) gets lower, you need many more steps (rounds) to get to the optimum. Increasing eta makes computation faster (because you need to input less rounds) but does not make reaching the best optimum.\n",
    "\n",
    "2. max_depth: The maximum depth of each tree in the model. Increasing this value makes the model more complex and can improve performance, but too high values lead to overfitting. Typical values range from 3-10 for shallow trees, but deep trees can go up to 15-25.\n",
    "\n",
    "3. min_child_weight: Minimum number of samples required in a leaf node for it to be split further. A higher value prevents overfitting. Typical values range from 1-10, with higher values for more sparse datasets.\n",
    "\n",
    "4. subsample, colsample_bytree: Subsampling fractions of the training data used per iteration for row and column sampling. Typical values range from 0.5-1.0. Lower values are more conservative and prevent overfitting.\n",
    "\n",
    "5. gamma: Minimum loss reduction required to split a node. Higher values make the algorithm more conservative. Values range from 0-10 typically."
   ]
  },
  {
   "cell_type": "code",
   "execution_count": null,
   "id": "1a1b010a-99af-4c2d-b1b3-c272aa83795c",
   "metadata": {},
   "outputs": [],
   "source": []
  },
  {
   "cell_type": "markdown",
   "id": "c7a1bc02-4e08-4954-8806-4953ba3972e5",
   "metadata": {},
   "source": [
    "- Describe the process of gradient boosting in XGBoost"
   ]
  },
  {
   "cell_type": "markdown",
   "id": "190fbe50-c1a2-4ae2-8aa9-1d4be36b4c37",
   "metadata": {},
   "source": [
    "XGBoost, short for eXtreme Gradient Boosting, is a powerful machine learning algorithm known for its efficiency, speed, and accuracy. It belongs to the family of boosting algorithms, which are ensemble learning techniques that combine the predictions of multiple weak learners. In this article, we will explore XGBoost step by step, building on existing knowledge with decision trees, boosting, and ensemble learning.\n",
    "\n",
    "__Preventing Overfitting__\n",
    "The learning rate, also known as shrinkage, is a new parameter introduced by XGBoost. It is represented by the symbol “eta.” It quantifies each tree’s contribution to the total prediction. Because each tree has less of an influence, an optimization process with a lower learning rate is more resilient. By making the model more conservative, regularization terms combined with a low learning rate assist avoid overfitting.\n",
    "\n",
    "XGBoost constructs trees level by level, assessing whether adding a new node (split) enhances the objective function as a whole at each level. The split is trimmed if not. This level growth along with trimming makes the trees easier to understand and easier to create.\n",
    "\n",
    "The regularization terms, along with other techniques such as shrinkage and pruning, play a crucial role in preventing overfitting, improving generalization, and making XGBoost a robust and powerful algorithm for various machine learning tasks.\n",
    "\n",
    "__Tree Structure__\n",
    "\n",
    "Conventional decision trees are frequently developed by expanding each branch until a stopping condition is satisfied, or in a depth-first fashion. On the other hand, XGBoost builds trees level-wise or breadth-first. This implies that it adds nodes for every feature at a certain depth before moving on to the next level, so growing the tree one level at a time.\n",
    "\n",
    "__Determining the Best Splits:__ XGBoost assesses every split that might be made for every feature at every level and chooses the one that minimizes the objective function as much as feasible (e.g., minimizing the mean squared error for regression tasks or cross-entropy for classification tasks).\n",
    "\n",
    "In contrast, a single feature is selected for a split at each level in depth-wise expansion.\n",
    "\n",
    "__Prioritizing Important Features:__ The overhead involved in choosing the best split for each feature at each level is decreased by level-wise growth. XGBoost eliminates the need to revisit and assess the same feature more than once during tree construction because all features are taken into account at the same time."
   ]
  },
  {
   "cell_type": "code",
   "execution_count": null,
   "id": "32217735-0a14-4150-8295-e7f30cce79cb",
   "metadata": {},
   "outputs": [],
   "source": []
  },
  {
   "cell_type": "markdown",
   "id": "a517d31a",
   "metadata": {},
   "source": [
    "- What are the advantages and disadvantages of using XGBoost?"
   ]
  },
  {
   "cell_type": "markdown",
   "id": "2351981c-bfa0-4e3e-9be0-eb7f1822f335",
   "metadata": {},
   "source": [
    "|Advantages of XGBoost:|Disadvantages of XGBoost:|\n",
    "|----------------------|-------------------------|\n",
    "|Performance: XGBoost has a strong track record of producing high-quality results in various machine learning tasks, especially in Kaggle competitions, where it has been a popular choice for winning solutions.|Computational Complexity: XGBoost can be computationally intensive, especially when training large models, making it less suitable for resource-constrained systems.|\n",
    "|Scalability: XGBoost is designed for efficient and scalable training of machine learning models, making it suitable for large datasets.|Overfitting: XGBoost can be prone to overfitting, especially when trained on small datasets or when too many trees are used in the model.|\n",
    "|Customizability: XGBoost has a wide range of hyperparameters that can be adjusted to optimize performance, making it highly customizable.|Hyperparameter Tuning: XGBoost has many hyperparameters that can be adjusted, making it important to properly tune the parameters to optimize performance. However, finding the optimal set of parameters can be time-consuming and requires expertise.|\n",
    "|Handling of Missing Values: XGBoost has built-in support for handling missing values, making it easy to work with real-world data that often has missing values.|Memory Requirements: XGBoost can be memory-intensive, especially when working with large datasets, making it less suitable for systems with limited memory resources.|"
   ]
  },
  {
   "cell_type": "code",
   "execution_count": null,
   "id": "90449870-18c9-403e-ac9b-1839f1abac0f",
   "metadata": {},
   "outputs": [],
   "source": []
  }
 ],
 "metadata": {
  "kernelspec": {
   "display_name": "Python 3 (ipykernel)",
   "language": "python",
   "name": "python3"
  },
  "language_info": {
   "codemirror_mode": {
    "name": "ipython",
    "version": 3
   },
   "file_extension": ".py",
   "mimetype": "text/x-python",
   "name": "python",
   "nbconvert_exporter": "python",
   "pygments_lexer": "ipython3",
   "version": "3.12.4"
  }
 },
 "nbformat": 4,
 "nbformat_minor": 5
}
